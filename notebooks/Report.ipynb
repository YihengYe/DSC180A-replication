{
 "cells": [
  {
   "cell_type": "markdown",
   "metadata": {},
   "source": [
    "## Project Checkpoint 1"
   ]
  },
  {
   "cell_type": "markdown",
   "metadata": {},
   "source": [
    "#### Explanation of the problem being investigated\n",
    "\n",
    "Wikipedia is a forum that relies heavily on community collaboration in order to produce reliable content. However, it's not always the case that the production of Wikipedia articles involves peaceful and collaborative edits. Wikipedia refers to cases of dispute as \"edit wars\"[1], and have attempted to set up guidelines that discourage users from participating in uncollaborative edit wars."
   ]
  },
  {
   "cell_type": "markdown",
   "metadata": {},
   "source": [
    "#### A brief explanation of the context of the problem and why it’s interesting.\n",
    "\n",
    "Perhaps the easiest way to identify an edit war is to look at an article's Talk page or the History of edits to identify periods where users are editing more frequently, reverting other editors' work, and never reaching a consensus on the revisions. However, researchers have attempted to automatically detect situations where edit wars occur. There is no exact formula to distinguish between edit wars and other cases of disputes, such as vandalism, harrassment, removing violations or illegal content, etc. Thus, researchers have come up with different ways to identify controvery within Wikipedia articles.\n",
    "\n",
    "Prior research has attempted to measure conflict between users by studying user interactions such as number of deleted words [2], number of pair reverts[3], how fast editors reacted to recent edits [4], and other temporal methods [5][6]. Their methods have laid the ground to our research, but has not been too successful in identifying edit wars. \n",
    "\n",
    "We are interested in developing a more comprehensive method to quantify conflicts in Wikipedia in order to better detect edit wars. "
   ]
  },
  {
   "cell_type": "markdown",
   "metadata": {},
   "source": [
    "#### A description of either:\n",
    "\n",
    "##### the data generation process and its relationship to the problem (i.e. for domain problems)\n",
    "\n",
    "##### the type of data for which the method is appropriate (i.e. for methods problems)\n",
    "\n"
   ]
  },
  {
   "cell_type": "markdown",
   "metadata": {},
   "source": [
    "[1] https://en.wikipedia.org/wiki/Wikipedia:Edit_warring#:~:text=An%20edit%20war%20occurs%20when,resolution%20rather%20than%20edit%20warring.\n",
    "\n",
    "[2] brandes [7]\n",
    "\n",
    "[3] kittur et al [3][5]\n",
    "\n",
    "[4] Brendes et al [6]\n",
    "\n",
    "[5]west et all [8]\n",
    "\n",
    "[6] adler et all[9]"
   ]
  },
  {
   "cell_type": "markdown",
   "metadata": {},
   "source": []
  },
  {
   "cell_type": "markdown",
   "metadata": {},
   "source": [
    "# for reference"
   ]
  },
  {
   "cell_type": "markdown",
   "metadata": {},
   "source": [
    "Write an introduction, as laid out in lecture. This includes:\n",
    "\n",
    "1. An explanation of the problem being investigated.\n",
    "\n",
    "2. A brief explanation of the context of the problem and why it’s interesting.\n",
    "\n",
    "3. A description of either:\n",
    "\n",
    "    - the data generation process and its relationship to the problem (i.e. for domain problems)\n",
    "\n",
    "    - the type of data for which the method is appropriate (i.e. for methods problems)\n",
    "\n",
    "\n",
    "\n",
    "\n",
    "4. Basic description of observed data used in the investigation and why it’s appropriate for addressing the problem"
   ]
  },
  {
   "cell_type": "markdown",
   "metadata": {},
   "source": [
    "Setting up the problem\n",
    "Problem Statement\n",
    "Description of your approach and rationale of why it's reasonable\n",
    "\n",
    "\n",
    "Section 1: Literature review and prior work. describes how the problem has been approached in the past. \n",
    "\n",
    "Section 2: data description, connects how the data in the project is used to approach the problem at hand\n",
    "\n",
    "quantitatively addresses the relationship between the population of study, data generating process, and the observed data."
   ]
  },
  {
   "cell_type": "code",
   "execution_count": null,
   "metadata": {},
   "outputs": [],
   "source": []
  }
 ],
 "metadata": {
  "kernelspec": {
   "display_name": "Python 3",
   "language": "python",
   "name": "python3"
  },
  "language_info": {
   "codemirror_mode": {
    "name": "ipython",
    "version": 3
   },
   "file_extension": ".py",
   "mimetype": "text/x-python",
   "name": "python",
   "nbconvert_exporter": "python",
   "pygments_lexer": "ipython3",
   "version": "3.7.6"
  }
 },
 "nbformat": 4,
 "nbformat_minor": 4
}
