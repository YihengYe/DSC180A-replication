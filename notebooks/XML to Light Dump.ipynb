{
 "cells": [
  {
   "cell_type": "markdown",
   "metadata": {},
   "source": [
    "## Converting XML to Light Dump format\n",
    "\n",
    "This noteboook contains code that converts XML to light dump. "
   ]
  },
  {
   "cell_type": "code",
   "execution_count": 9,
   "metadata": {},
   "outputs": [],
   "source": [
    "import numpy as np\n",
    "import pandas as pd\n",
    "from bs4 import BeautifulSoup\n",
    "import matplotlib.pyplot as plt"
   ]
  },
  {
   "cell_type": "code",
   "execution_count": 7,
   "metadata": {},
   "outputs": [],
   "source": [
    "content = []\n",
    "with open(\"../data/raw/testdata/enwiki-20200101-page-meta-history2.xml-ptest\", encoding = 'utf8') as file:\n",
    "    \n",
    "    content = file.readlines()\n",
    "    content = \"\".join(content)\n",
    "    soup = BeautifulSoup(content, \"xml\")\n"
   ]
  },
  {
   "cell_type": "code",
   "execution_count": 8,
   "metadata": {
    "scrolled": true
   },
   "outputs": [],
   "source": [
    "pages = soup.findAll(\"page\")"
   ]
  },
  {
   "cell_type": "code",
   "execution_count": 9,
   "metadata": {
    "scrolled": false
   },
   "outputs": [
    {
     "name": "stdout",
     "output_type": "stream",
     "text": [
      "Emma of Normandy\n",
      "Geosynchronous orbit\n"
     ]
    },
    {
     "data": {
      "text/plain": [
       "['Emma of Normandy',\n",
       " '15604',\n",
       " '2002-02-21T15:11:49Z',\n",
       " 'David Parker',\n",
       " \"[[Emma]] (c.982-1052), daughter of [[Robert I, Duke of Normandy|Robert I]], , duke of [[Normandy]], was twice queen of [[England]], by marriage first (1002-1016) to king [[Ethelred the Unready]] and then (1017-1035) to [[Canute]], king also of [[Denmark]] and [[Norway]]. \\n\\nUpon the Danish invasion of England in 1013, Emma took her sons by Ethelred, Alfred and [[Edward the Confessor|Edward]] to Normandy, where they remained upon her return to England to marry Canute, now king of England following the death of Ethelred, with whom he had agreed to divide the realm. \\n\\nFollowing Canute's death, Alfred and Edward returned in 1036 to overthrow Canute's illegitimate son [[Harold Harefoot]], who had established himself as ruler in the absence of [[Harthacanute]], son of Canute and Emma. Alfred was captured and killed, while Edward escaped to Normandy, followed by his mother. \\n\\nThe death of Harold (1040) and the accession of the more conciliatory Harthacanute paved the way for Edward's return to England (1041) as co-ruler and (1042) king on Harthacanute's death. Emma returned to end her days at Winchester, Hampshire, where she was buried alongside Canute. \\n\\nEmma's importance lies in the forging of the link between England and Normandy which was to culminate in [[William I of England|William]] of Normandy's invasion of England in 1066.  \"]"
      ]
     },
     "execution_count": 9,
     "metadata": {},
     "output_type": "execute_result"
    }
   ],
   "source": [
    "data = {}\n",
    "for page in pages:\n",
    "    title = page.title.text\n",
    "    revisions = page.findAll(\"revision\")\n",
    "    print(title)\n",
    "    \n",
    "    for revision in revisions:\n",
    "        r_id = revision.id.text \n",
    "        time = revision.timestamp.text\n",
    "        try:\n",
    "            username = revision.contributor.username.text\n",
    "        except: \n",
    "            username = revision.contributor.ip.text\n",
    "        text = revision.format.next_sibling.next_sibling.text\n",
    "        if title in data:\n",
    "            data[title].append([title, r_id, time, username, text])\n",
    "        else:\n",
    "            data[title] = [[title, r_id, time, username, text]]\n",
    "\n",
    "data['Emma of Normandy'][0]"
   ]
  },
  {
   "cell_type": "code",
   "execution_count": 10,
   "metadata": {},
   "outputs": [
    {
     "data": {
      "text/html": [
       "<div>\n",
       "<style scoped>\n",
       "    .dataframe tbody tr th:only-of-type {\n",
       "        vertical-align: middle;\n",
       "    }\n",
       "\n",
       "    .dataframe tbody tr th {\n",
       "        vertical-align: top;\n",
       "    }\n",
       "\n",
       "    .dataframe thead th {\n",
       "        text-align: right;\n",
       "    }\n",
       "</style>\n",
       "<table border=\"1\" class=\"dataframe\">\n",
       "  <thead>\n",
       "    <tr style=\"text-align: right;\">\n",
       "      <th></th>\n",
       "      <th>title</th>\n",
       "      <th>id</th>\n",
       "      <th>time</th>\n",
       "      <th>username</th>\n",
       "      <th>text</th>\n",
       "      <th>version</th>\n",
       "      <th>revert</th>\n",
       "    </tr>\n",
       "  </thead>\n",
       "  <tbody>\n",
       "    <tr>\n",
       "      <th>64</th>\n",
       "      <td>Emma of Normandy</td>\n",
       "      <td>98345559</td>\n",
       "      <td>2007-01-04T04:47:49Z</td>\n",
       "      <td>Ekotkie</td>\n",
       "      <td>[[Image:British.Library.MS.Add.33241.jpg|right...</td>\n",
       "      <td>65</td>\n",
       "      <td>0</td>\n",
       "    </tr>\n",
       "    <tr>\n",
       "      <th>65</th>\n",
       "      <td>Emma of Normandy</td>\n",
       "      <td>102514893</td>\n",
       "      <td>2007-01-22T21:18:48Z</td>\n",
       "      <td>DBD</td>\n",
       "      <td>[[Image:British.Library.MS.Add.33241.jpg|right...</td>\n",
       "      <td>66</td>\n",
       "      <td>0</td>\n",
       "    </tr>\n",
       "    <tr>\n",
       "      <th>66</th>\n",
       "      <td>Emma of Normandy</td>\n",
       "      <td>107675506</td>\n",
       "      <td>2007-02-12T22:46:12Z</td>\n",
       "      <td>74.241.147.48</td>\n",
       "      <td>ǖ[[Image:British.Library.MS.Add.33241.jpg|righ...</td>\n",
       "      <td>67</td>\n",
       "      <td>0</td>\n",
       "    </tr>\n",
       "    <tr>\n",
       "      <th>67</th>\n",
       "      <td>Emma of Normandy</td>\n",
       "      <td>107680159</td>\n",
       "      <td>2007-02-12T23:05:20Z</td>\n",
       "      <td>Henrygb</td>\n",
       "      <td>[[Image:British.Library.MS.Add.33241.jpg|right...</td>\n",
       "      <td>66</td>\n",
       "      <td>1</td>\n",
       "    </tr>\n",
       "    <tr>\n",
       "      <th>68</th>\n",
       "      <td>Emma of Normandy</td>\n",
       "      <td>117011387</td>\n",
       "      <td>2007-03-22T12:14:54Z</td>\n",
       "      <td>Dearagon</td>\n",
       "      <td>[[Image:British.Library.MS.Add.33241.jpg|right...</td>\n",
       "      <td>68</td>\n",
       "      <td>0</td>\n",
       "    </tr>\n",
       "  </tbody>\n",
       "</table>\n",
       "</div>"
      ],
      "text/plain": [
       "               title         id                  time       username  \\\n",
       "64  Emma of Normandy   98345559  2007-01-04T04:47:49Z        Ekotkie   \n",
       "65  Emma of Normandy  102514893  2007-01-22T21:18:48Z            DBD   \n",
       "66  Emma of Normandy  107675506  2007-02-12T22:46:12Z  74.241.147.48   \n",
       "67  Emma of Normandy  107680159  2007-02-12T23:05:20Z        Henrygb   \n",
       "68  Emma of Normandy  117011387  2007-03-22T12:14:54Z       Dearagon   \n",
       "\n",
       "                                                 text  version revert  \n",
       "64  [[Image:British.Library.MS.Add.33241.jpg|right...       65      0  \n",
       "65  [[Image:British.Library.MS.Add.33241.jpg|right...       66      0  \n",
       "66  ǖ[[Image:British.Library.MS.Add.33241.jpg|righ...       67      0  \n",
       "67  [[Image:British.Library.MS.Add.33241.jpg|right...       66      1  \n",
       "68  [[Image:British.Library.MS.Add.33241.jpg|right...       68      0  "
      ]
     },
     "metadata": {},
     "output_type": "display_data"
    },
    {
     "data": {
      "text/html": [
       "<div>\n",
       "<style scoped>\n",
       "    .dataframe tbody tr th:only-of-type {\n",
       "        vertical-align: middle;\n",
       "    }\n",
       "\n",
       "    .dataframe tbody tr th {\n",
       "        vertical-align: top;\n",
       "    }\n",
       "\n",
       "    .dataframe thead th {\n",
       "        text-align: right;\n",
       "    }\n",
       "</style>\n",
       "<table border=\"1\" class=\"dataframe\">\n",
       "  <thead>\n",
       "    <tr style=\"text-align: right;\">\n",
       "      <th></th>\n",
       "      <th>title</th>\n",
       "      <th>id</th>\n",
       "      <th>time</th>\n",
       "      <th>username</th>\n",
       "      <th>text</th>\n",
       "      <th>version</th>\n",
       "      <th>revert</th>\n",
       "    </tr>\n",
       "  </thead>\n",
       "  <tbody>\n",
       "    <tr>\n",
       "      <th>64</th>\n",
       "      <td>Geosynchronous orbit</td>\n",
       "      <td>12625020</td>\n",
       "      <td>2005-04-10T19:14:29Z</td>\n",
       "      <td>Urhixidur</td>\n",
       "      <td>A '''geosynchronous orbit''' is a geocentric [...</td>\n",
       "      <td>61</td>\n",
       "      <td>0</td>\n",
       "    </tr>\n",
       "    <tr>\n",
       "      <th>65</th>\n",
       "      <td>Geosynchronous orbit</td>\n",
       "      <td>12726241</td>\n",
       "      <td>2005-04-21T19:15:08Z</td>\n",
       "      <td>Hackwrench</td>\n",
       "      <td>A '''geosynchronous orbit''' is a geocentric [...</td>\n",
       "      <td>62</td>\n",
       "      <td>0</td>\n",
       "    </tr>\n",
       "    <tr>\n",
       "      <th>66</th>\n",
       "      <td>Geosynchronous orbit</td>\n",
       "      <td>12854697</td>\n",
       "      <td>2005-04-23T22:29:46Z</td>\n",
       "      <td>217.86.49.66</td>\n",
       "      <td>A '''geosynchronous orbit''' is a geocentric [...</td>\n",
       "      <td>63</td>\n",
       "      <td>0</td>\n",
       "    </tr>\n",
       "    <tr>\n",
       "      <th>67</th>\n",
       "      <td>Geosynchronous orbit</td>\n",
       "      <td>12944263</td>\n",
       "      <td>2005-04-26T21:53:50Z</td>\n",
       "      <td>209.66.200.61</td>\n",
       "      <td>A '''geosynchronous orbit''' is a geocentric [...</td>\n",
       "      <td>64</td>\n",
       "      <td>0</td>\n",
       "    </tr>\n",
       "    <tr>\n",
       "      <th>68</th>\n",
       "      <td>Geosynchronous orbit</td>\n",
       "      <td>12944311</td>\n",
       "      <td>2005-04-28T21:29:46Z</td>\n",
       "      <td>209.42.180.197</td>\n",
       "      <td>A '''geosynchronous orbit''' is a geocentric [...</td>\n",
       "      <td>65</td>\n",
       "      <td>0</td>\n",
       "    </tr>\n",
       "  </tbody>\n",
       "</table>\n",
       "</div>"
      ],
      "text/plain": [
       "                   title        id                  time        username  \\\n",
       "64  Geosynchronous orbit  12625020  2005-04-10T19:14:29Z       Urhixidur   \n",
       "65  Geosynchronous orbit  12726241  2005-04-21T19:15:08Z      Hackwrench   \n",
       "66  Geosynchronous orbit  12854697  2005-04-23T22:29:46Z    217.86.49.66   \n",
       "67  Geosynchronous orbit  12944263  2005-04-26T21:53:50Z   209.66.200.61   \n",
       "68  Geosynchronous orbit  12944311  2005-04-28T21:29:46Z  209.42.180.197   \n",
       "\n",
       "                                                 text  version revert  \n",
       "64  A '''geosynchronous orbit''' is a geocentric [...       61      0  \n",
       "65  A '''geosynchronous orbit''' is a geocentric [...       62      0  \n",
       "66  A '''geosynchronous orbit''' is a geocentric [...       63      0  \n",
       "67  A '''geosynchronous orbit''' is a geocentric [...       64      0  \n",
       "68  A '''geosynchronous orbit''' is a geocentric [...       65      0  "
      ]
     },
     "metadata": {},
     "output_type": "display_data"
    }
   ],
   "source": [
    "dframes = []\n",
    "for page in data:\n",
    "\n",
    "    df = pd.DataFrame(data[page], columns = ['title', 'id', 'time', 'username', 'text'])\n",
    "    \n",
    "    hist = [] #history of text\n",
    "    version = [] #edit version\n",
    "    username = []\n",
    "    revert = [] #0 or 1\n",
    "    curr = 1 #to keep track of version\n",
    "    \n",
    "    for idx, row in df.iterrows():\n",
    "        if row.text not in hist: # not a revert\n",
    "            hist.append(row.text)\n",
    "            version.append(curr)\n",
    "            username.append(row.username)\n",
    "            revert.append('0')\n",
    "            curr += 1\n",
    "        else: #is revert\n",
    "            temp = hist.index(row.text)\n",
    "            version.append(version[temp])\n",
    "            username.append(row.username)\n",
    "            \n",
    "            #if self revert\n",
    "            if row.username == username[version[temp]]:\n",
    "                revert.append('0')\n",
    "            else:\n",
    "                revert.append('1')\n",
    "            \n",
    "    \n",
    "    df['version'] = version\n",
    "    df['revert'] = revert\n",
    "    dframes.append(df)\n",
    "\n",
    "for df in dframes:\n",
    "    display(df.iloc[64:69])"
   ]
  },
  {
   "cell_type": "code",
   "execution_count": 11,
   "metadata": {},
   "outputs": [
    {
     "data": {
      "text/plain": [
       "'Emma of Normandy\\n^^^_2002-02-21T15:11:49Z 0 1 David Parker\\n^^^_2002-02-21T15:14:16Z 0 2 Vicki Rosenzweig\\n^^^_2002-02-21T16:06:19Z 0 3 David Parker\\n^^^_2002-02-24T08:19:24Z 0 4 David Parker\\n^^^_2002-02-25T15:51:15Z 0 5 David Parker\\n^^^_2002-03-22T11:35:18Z 0 6 Enchanter\\n^^^_2002-06-20T19:28:35Z 0 7 Zoe\\n^^^_2003-03-11T06:21:04Z 0 8 203.102.233.212\\n^^^_2004-03-30T13:19:17Z 0 9 62.103.214.152\\n^^^_2004-07-19T22:42:16Z 0 10 Muriel Gottrop~enwiki\\n^^^_2004-08-01T00:06:38Z 0 11 Henrygb\\n^^^_2004-08-19T16:'"
      ]
     },
     "execution_count": 11,
     "metadata": {},
     "output_type": "execute_result"
    }
   ],
   "source": [
    "light_dump = ''\n",
    "for df in dframes:\n",
    "    title = df.title[0]\n",
    "    light_dump = light_dump + title + '\\n'\n",
    "    for idx, row in df.iterrows():\n",
    "        line = '^^^_' + row.time + ' ' + row.revert + ' ' + str(row.version) + ' ' + row.username\n",
    "        light_dump = light_dump + line + '\\n'\n",
    "\n",
    "\n",
    "\n",
    "light_dump[:500]"
   ]
  },
  {
   "cell_type": "code",
   "execution_count": 13,
   "metadata": {},
   "outputs": [
    {
     "name": "stdout",
     "output_type": "stream",
     "text": [
      "XML Converted to light dump at data/unzipped/light_dump.txt\n"
     ]
    }
   ],
   "source": [
    "import os\n",
    "outpath = 'data/unzipped'\n",
    "if not os.path.exists(outpath):\n",
    "    os.makedirs(outpath)\n",
    "for df in dframes:\n",
    "    title = df.title[0]\n",
    "    light_dump = light_dump + title + '\\n'\n",
    "    for idx, row in df.iterrows():\n",
    "        line = '^^^_' + row.time + ' ' + row.revert + ' ' + str(row.version) + ' ' + row.username\n",
    "        light_dump = light_dump + line + '\\n'\n",
    "outfile = os.path.join(outpath, 'light_dump.txt')\n",
    "with open(outfile, 'w') as f:\n",
    "    f.write(light_dump)\n",
    "repo = 'XML Converted to light dump at ' + outfile\n",
    "print(repo)"
   ]
  },
  {
   "cell_type": "code",
   "execution_count": null,
   "metadata": {},
   "outputs": [],
   "source": []
  },
  {
   "cell_type": "code",
   "execution_count": 10,
   "metadata": {},
   "outputs": [],
   "source": [
    "light_dump = []\n",
    "naruto = False\n",
    "with open(\"../data/raw/testdata/en_wiki_test.txt\", encoding = 'utf8') as file:\n",
    "    for line in file:\n",
    "#         print(line)\n",
    "        if (line[0]!= \"^\") & naruto:\n",
    "            break\n",
    "        \n",
    "        if line.strip() == 'Emma_of_Normandy':\n",
    "            naruto = True\n",
    "            continue\n",
    "            \n",
    "        if naruto:\n",
    "            light_dump.append(line)\n",
    "            \n",
    "light_dump = [x[4:-1].split(' ') for x in light_dump]\n",
    "light_dump.reverse()"
   ]
  },
  {
   "cell_type": "code",
   "execution_count": 11,
   "metadata": {},
   "outputs": [
    {
     "data": {
      "text/plain": [
       "[['2002-02-21T15:11:49Z', '0', '1', 'David_Parker'],\n",
       " ['2002-02-21T15:14:16Z', '0', '2', 'Vicki_Rosenzweig'],\n",
       " ['2002-02-21T16:06:19Z', '0', '3', 'David_Parker'],\n",
       " ['2002-02-24T08:19:24Z', '0', '4', 'David_Parker'],\n",
       " ['2002-02-25T15:51:15Z', '0', '5', 'David_Parker']]"
      ]
     },
     "execution_count": 11,
     "metadata": {},
     "output_type": "execute_result"
    }
   ],
   "source": [
    "light_dump[:5]"
   ]
  },
  {
   "cell_type": "code",
   "execution_count": null,
   "metadata": {},
   "outputs": [],
   "source": []
  }
 ],
 "metadata": {
  "kernelspec": {
   "display_name": "Python 3",
   "language": "python",
   "name": "python3"
  },
  "language_info": {
   "codemirror_mode": {
    "name": "ipython",
    "version": 3
   },
   "file_extension": ".py",
   "mimetype": "text/x-python",
   "name": "python",
   "nbconvert_exporter": "python",
   "pygments_lexer": "ipython3",
   "version": "3.7.6"
  }
 },
 "nbformat": 4,
 "nbformat_minor": 2
}
