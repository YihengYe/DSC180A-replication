{
 "cells": [
  {
   "cell_type": "markdown",
   "metadata": {},
   "source": [
    "# EDA"
   ]
  },
  {
   "cell_type": "markdown",
   "metadata": {},
   "source": [
    "This is the notebook making eda about the en_wiki lightdump data, to see the full result of eda on every csvs download, use \"python run.py eda\" and find the results at the \"result/eda\" folder"
   ]
  },
  {
   "cell_type": "markdown",
   "metadata": {},
   "source": [
    "## IMPORTANT NOTICE"
   ]
  },
  {
   "cell_type": "markdown",
   "metadata": {},
   "source": [
    "1. This eda is written at the root directory, do not directly run the notebook at the location where it is and please move it to root directory after downloading the data\n",
    "2. This notebook is written in a random sequences, which means every section in this notebook (except conclusion) is generally independent with each other. Although I will mentionn some other sections and make some comparision"
   ]
  },
  {
   "cell_type": "code",
   "execution_count": 1,
   "metadata": {},
   "outputs": [],
   "source": [
    "import matplotlib.pyplot as plt"
   ]
  },
  {
   "cell_type": "code",
   "execution_count": 2,
   "metadata": {},
   "outputs": [],
   "source": [
    "import os\n",
    "import gc\n",
    "import requests\n",
    "from bs4 import BeautifulSoup\n",
    "import pandas as pd\n",
    "import zipfile\n",
    "import re\n",
    "import time"
   ]
  },
  {
   "cell_type": "code",
   "execution_count": 3,
   "metadata": {},
   "outputs": [],
   "source": [
    "from etl import *"
   ]
  },
  {
   "cell_type": "markdown",
   "metadata": {},
   "source": [
    "Helper functions:"
   ]
  },
  {
   "cell_type": "code",
   "execution_count": 4,
   "metadata": {},
   "outputs": [],
   "source": [
    "def add_dicts(dict1, dict2):\n",
    "    result={}\n",
    "    if len(dict1.keys())==0:\n",
    "        return dict2\n",
    "    elif len(dict2.keys())==0:\n",
    "        return dict1\n",
    "    else:\n",
    "        for key in dict1.keys():\n",
    "            if key in dict2.keys():\n",
    "                result[key]=dict1[key]+dict2[key]\n",
    "            else:\n",
    "                result[key]=dict1[key]\n",
    "        for key2 in dict2.keys():\n",
    "            if key2 not in result.keys():\n",
    "                result[key2]=dict2[key2]\n",
    "        return result\n",
    "                "
   ]
  },
  {
   "cell_type": "code",
   "execution_count": 5,
   "metadata": {},
   "outputs": [],
   "source": [
    "def get_csvs_route(road):\n",
    "    result=[]\n",
    "    for filename in os.listdir(road):\n",
    "        fileroute=os.path.join(road,filename)\n",
    "        result.append(fileroute)\n",
    "    return result"
   ]
  },
  {
   "cell_type": "markdown",
   "metadata": {},
   "source": [
    "### Section 1 Robots"
   ]
  },
  {
   "cell_type": "markdown",
   "metadata": {},
   "source": [
    "Get the frequency of robots edit and reversion"
   ]
  },
  {
   "cell_type": "code",
   "execution_count": 6,
   "metadata": {},
   "outputs": [],
   "source": [
    "def bots_raw_dict(road):\n",
    "    total_freq={}\n",
    "    revert_freq={}\n",
    "    for csvname in os.listdir(road):\n",
    "        csvroute=os.path.join(road, csvname)\n",
    "        csvdict={}\n",
    "        df=pd.read_csv(csvroute)\n",
    "        df['user']=df['user'].str.lower()\n",
    "        df['revert']=df['revert'].astype('int')\n",
    "        dfrevert=df[df['revert']==1]\n",
    "        bots=df[df['user'].str.contains('bot')]\n",
    "        reverts=bots[bots['revert']==1]\n",
    "        thef=bots['user'].value_counts().to_dict()\n",
    "        ther=reverts['user'].value_counts().to_dict()\n",
    "        total_freq=add_dicts(total_freq, thef)\n",
    "        revert_freq=add_dicts(revert_freq, ther)\n",
    "        print('finish dict csv', csvname, len(total_freq))\n",
    "        del thef, ther\n",
    "        del [[df, bots, reverts, dfrevert]]\n",
    "        gc.collect()\n",
    "        df=pd.DataFrame()\n",
    "        bots=pd.DataFrame()\n",
    "        reverts=pd.DataFrame()\n",
    "        thef={}\n",
    "        ther={}\n",
    "        dfrevert=pd.DataFrame()\n",
    "    return total_freq, revert_freq"
   ]
  },
  {
   "cell_type": "code",
   "execution_count": 6,
   "metadata": {},
   "outputs": [
    {
     "name": "stdout",
     "output_type": "stream",
     "text": [
      "finish dict csv en_wiki_13.csv 781\n",
      "finish dict csv en_wiki_14.csv 1037\n",
      "finish dict csv en_wiki_21.csv 1230\n",
      "finish dict csv en_wiki_26.csv 1425\n",
      "finish dict csv en_wiki_28.csv 1608\n",
      "finish dict csv en_wiki_1.csv 1761\n",
      "finish dict csv en_wiki_42.csv 1946\n",
      "finish dict csv en_wiki_39.csv 2090\n",
      "finish dict csv en_wiki_6.csv 2212\n",
      "finish dict csv en_wiki_37.csv 2311\n",
      "finish dict csv en_wiki_8.csv 2432\n",
      "finish dict csv en_wiki_30.csv 2548\n",
      "finish dict csv en_wiki_29.csv 2645\n",
      "finish dict csv en_wiki_27.csv 2713\n",
      "finish dict csv en_wiki_20.csv 2811\n",
      "finish dict csv en_wiki_15.csv 2912\n",
      "finish dict csv en_wiki_12.csv 2997\n",
      "finish dict csv en_wiki_31.csv 3091\n",
      "finish dict csv en_wiki_36.csv 3174\n",
      "finish dict csv en_wiki_9.csv 3251\n",
      "finish dict csv en_wiki_38.csv 3361\n",
      "finish dict csv en_wiki_7.csv 3429\n",
      "finish dict csv en_wiki_44.csv 3504\n",
      "finish dict csv en_wiki_43.csv 3598\n",
      "finish dict csv en_wiki_35.csv 3652\n",
      "finish dict csv en_wiki_32.csv 3710\n",
      "finish dict csv en_wiki_3.csv 3773\n",
      "finish dict csv en_wiki_40.csv 3839\n",
      "finish dict csv en_wiki_4.csv 3920\n",
      "finish dict csv en_wiki_23.csv 3980\n",
      "finish dict csv en_wiki_24.csv 4046\n",
      "finish dict csv en_wiki_11.csv 4114\n",
      "finish dict csv en_wiki_16.csv 4179\n",
      "finish dict csv en_wiki_18.csv 4245\n",
      "finish dict csv en_wiki_5.csv 4303\n",
      "finish dict csv en_wiki_2.csv 4380\n",
      "finish dict csv en_wiki_41.csv 4448\n",
      "finish dict csv en_wiki_33.csv 4510\n",
      "finish dict csv en_wiki_34.csv 4578\n",
      "finish dict csv en_wiki_19.csv 4641\n",
      "finish dict csv en_wiki_17.csv 4707\n",
      "finish dict csv en_wiki_10.csv 4762\n",
      "finish dict csv en_wiki_25.csv 4807\n",
      "finish dict csv en_wiki_22.csv 4873\n"
     ]
    }
   ],
   "source": [
    "total_freq, revert_freq=bots_raw_dict('data/csvs/en_wiki')"
   ]
  },
  {
   "cell_type": "code",
   "execution_count": 9,
   "metadata": {},
   "outputs": [],
   "source": [
    "total_f=pd.Series(total_freq)"
   ]
  },
  {
   "cell_type": "code",
   "execution_count": 10,
   "metadata": {},
   "outputs": [
    {
     "data": {
      "text/plain": [
       "count    4.873000e+03\n",
       "mean     3.389500e+03\n",
       "std      4.717530e+04\n",
       "min      1.000000e+00\n",
       "25%      1.000000e+00\n",
       "50%      3.000000e+00\n",
       "75%      1.100000e+01\n",
       "max      2.695952e+06\n",
       "dtype: float64"
      ]
     },
     "execution_count": 10,
     "metadata": {},
     "output_type": "execute_result"
    }
   ],
   "source": [
    "total_f.describe()"
   ]
  },
  {
   "cell_type": "markdown",
   "metadata": {},
   "source": [
    "The table above shows the description of robot edit times, which indicate how skewed this dataset is, with 75% perncentile at 11 while the max edit time at 2695952"
   ]
  },
  {
   "cell_type": "code",
   "execution_count": 11,
   "metadata": {},
   "outputs": [
    {
     "data": {
      "text/plain": [
       "smackbot                   2695952\n",
       "cydebot                     763366\n",
       "cluebot                     644069\n",
       "lightbot                    638751\n",
       "russbot                     606590\n",
       "the_anomebot2               536912\n",
       "thijs!bot                   418576\n",
       "alaibot                     379167\n",
       "full-date_unlinking_bot     322808\n",
       "bluebot                     320537\n",
       "siebot                      291204\n",
       "botijo                      289988\n",
       "yurikbot                    272996\n",
       "xqbot                       261936\n",
       "cmdrobot                    234560\n",
       "erik9bot                    233001\n",
       "txikibot                    223028\n",
       "flabot                      212084\n",
       "dumzibot                    208023\n",
       "volkovbot                   207434\n",
       "dtype: int64"
      ]
     },
     "execution_count": 11,
     "metadata": {},
     "output_type": "execute_result"
    }
   ],
   "source": [
    "total_f.sort_values(ascending=False).head(20)"
   ]
  },
  {
   "cell_type": "markdown",
   "metadata": {},
   "source": [
    "This is the robots with most edit times (top20), but many of them are not top 20 robots with reversion."
   ]
  },
  {
   "cell_type": "code",
   "execution_count": 42,
   "metadata": {},
   "outputs": [
    {
     "data": {
      "text/plain": [
       "Text(0.5, 1.0, 'plot for edit times of bots')"
      ]
     },
     "execution_count": 42,
     "metadata": {},
     "output_type": "execute_result"
    },
    {
     "data": {
      "image/png": "[encoded data removed]",
      "text/plain": [
       "<Figure size 432x288 with 1 Axes>"
      ]
     },
     "metadata": {
      "needs_background": "light"
     },
     "output_type": "display_data"
    }
   ],
   "source": [
    "#make plot of bots edit\n",
    "total_f.plot()\n",
    "plt.xlabel('bot name')\n",
    "plt.ylabel('times of edit')\n",
    "plt.title('plot for edit times of bots')"
   ]
  },
  {
   "cell_type": "markdown",
   "metadata": {},
   "source": [
    "This shape of skewed graph will appears many times in this notebook, which tells us that we should focus on tails"
   ]
  },
  {
   "cell_type": "code",
   "execution_count": 12,
   "metadata": {},
   "outputs": [],
   "source": [
    "total_r=pd.Series(revert_freq)"
   ]
  },
  {
   "cell_type": "code",
   "execution_count": 14,
   "metadata": {},
   "outputs": [
    {
     "data": {
      "text/plain": [
       "count      1237.000000\n",
       "mean       1180.736459\n",
       "std       19732.676887\n",
       "min           1.000000\n",
       "25%           1.000000\n",
       "50%           2.000000\n",
       "75%          14.000000\n",
       "max      643853.000000\n",
       "dtype: float64"
      ]
     },
     "execution_count": 14,
     "metadata": {},
     "output_type": "execute_result"
    }
   ],
   "source": [
    "total_r.describe()"
   ]
  },
  {
   "cell_type": "markdown",
   "metadata": {},
   "source": [
    "Table about bots revert time description for those bots who made reversion"
   ]
  },
  {
   "cell_type": "code",
   "execution_count": 13,
   "metadata": {},
   "outputs": [
    {
     "data": {
      "text/plain": [
       "cluebot                643853\n",
       "antivandalbot          141364\n",
       "voabot_ii              134472\n",
       "xlinkbot               103205\n",
       "martinbot              100789\n",
       "tawkerbot2              69941\n",
       "pseudobot               48919\n",
       "russbot                 25174\n",
       "xqbot                   19643\n",
       "antispambot             19338\n",
       "darknessbot             13990\n",
       "tawkerbot4              13533\n",
       "soxbot_iii              12911\n",
       "cydebot                  9175\n",
       "dashbot                  8093\n",
       "countervandalismbot      7379\n",
       "タチコマ_robot               5775\n",
       "dumbbot                  4776\n",
       "scepbot                  4301\n",
       "robotman1974             2733\n",
       "dtype: int64"
      ]
     },
     "execution_count": 13,
     "metadata": {},
     "output_type": "execute_result"
    }
   ],
   "source": [
    "total_r.sort_values(ascending=False).head(20)"
   ]
  },
  {
   "cell_type": "markdown",
   "metadata": {},
   "source": [
    "Top 20 bots with reversion. Note that there are some bots with irregular names which can be very annoying when dealing with those kind of data."
   ]
  },
  {
   "cell_type": "code",
   "execution_count": 41,
   "metadata": {},
   "outputs": [
    {
     "data": {
      "text/plain": [
       "Text(0.5, 1.0, 'plot of reversion times for bots')"
      ]
     },
     "execution_count": 41,
     "metadata": {},
     "output_type": "execute_result"
    },
    {
     "data": {
      "image/png": "[encoded data removed]",
      "text/plain": [
       "<Figure size 432x288 with 1 Axes>"
      ]
     },
     "metadata": {
      "needs_background": "light"
     },
     "output_type": "display_data"
    }
   ],
   "source": [
    "#make plot about revert time of bots\n",
    "total_r.plot()\n",
    "plt.xlabel('bot_name')\n",
    "plt.ylabel('reversion times')\n",
    "plt.title('plot of reversion times for bots')"
   ]
  },
  {
   "cell_type": "code",
   "execution_count": 23,
   "metadata": {},
   "outputs": [
    {
     "data": {
      "text/html": [
       "<div>\n",
       "<style scoped>\n",
       "    .dataframe tbody tr th:only-of-type {\n",
       "        vertical-align: middle;\n",
       "    }\n",
       "\n",
       "    .dataframe tbody tr th {\n",
       "        vertical-align: top;\n",
       "    }\n",
       "\n",
       "    .dataframe thead th {\n",
       "        text-align: right;\n",
       "    }\n",
       "</style>\n",
       "<table border=\"1\" class=\"dataframe\">\n",
       "  <thead>\n",
       "    <tr style=\"text-align: right;\">\n",
       "      <th></th>\n",
       "      <th>edit_frequency</th>\n",
       "      <th>revert_frequency</th>\n",
       "    </tr>\n",
       "  </thead>\n",
       "  <tbody>\n",
       "    <tr>\n",
       "      <th>smackbot</th>\n",
       "      <td>2695952</td>\n",
       "      <td>2727.0</td>\n",
       "    </tr>\n",
       "    <tr>\n",
       "      <th>cydebot</th>\n",
       "      <td>763366</td>\n",
       "      <td>9175.0</td>\n",
       "    </tr>\n",
       "    <tr>\n",
       "      <th>russbot</th>\n",
       "      <td>606590</td>\n",
       "      <td>25174.0</td>\n",
       "    </tr>\n",
       "    <tr>\n",
       "      <th>the_anomebot2</th>\n",
       "      <td>536912</td>\n",
       "      <td>437.0</td>\n",
       "    </tr>\n",
       "    <tr>\n",
       "      <th>lightbot</th>\n",
       "      <td>638751</td>\n",
       "      <td>398.0</td>\n",
       "    </tr>\n",
       "    <tr>\n",
       "      <th>thijs!bot</th>\n",
       "      <td>418576</td>\n",
       "      <td>1290.0</td>\n",
       "    </tr>\n",
       "    <tr>\n",
       "      <th>alaibot</th>\n",
       "      <td>379167</td>\n",
       "      <td>1098.0</td>\n",
       "    </tr>\n",
       "    <tr>\n",
       "      <th>full-date_unlinking_bot</th>\n",
       "      <td>322808</td>\n",
       "      <td>65.0</td>\n",
       "    </tr>\n",
       "    <tr>\n",
       "      <th>siebot</th>\n",
       "      <td>291204</td>\n",
       "      <td>1717.0</td>\n",
       "    </tr>\n",
       "    <tr>\n",
       "      <th>bluebot</th>\n",
       "      <td>320537</td>\n",
       "      <td>706.0</td>\n",
       "    </tr>\n",
       "  </tbody>\n",
       "</table>\n",
       "</div>"
      ],
      "text/plain": [
       "                         edit_frequency  revert_frequency\n",
       "smackbot                        2695952            2727.0\n",
       "cydebot                          763366            9175.0\n",
       "russbot                          606590           25174.0\n",
       "the_anomebot2                    536912             437.0\n",
       "lightbot                         638751             398.0\n",
       "thijs!bot                        418576            1290.0\n",
       "alaibot                          379167            1098.0\n",
       "full-date_unlinking_bot          322808              65.0\n",
       "siebot                           291204            1717.0\n",
       "bluebot                          320537             706.0"
      ]
     },
     "execution_count": 23,
     "metadata": {},
     "output_type": "execute_result"
    }
   ],
   "source": [
    "combined_bots=pd.concat([total_f, total_r], axis=1)\n",
    "combined_bots=combined_bots.fillna(0)\n",
    "combined_bots.columns=['edit_frequency', 'revert_frequency']\n",
    "combined_bots.head(10)"
   ]
  },
  {
   "cell_type": "code",
   "execution_count": 25,
   "metadata": {},
   "outputs": [
    {
     "data": {
      "text/plain": [
       "count    4873.000000\n",
       "mean        0.063933\n",
       "std         0.200478\n",
       "min         0.000000\n",
       "25%         0.000000\n",
       "50%         0.000000\n",
       "75%         0.000332\n",
       "max         1.000000\n",
       "Name: revert_vs_edit_ratio, dtype: float64"
      ]
     },
     "execution_count": 25,
     "metadata": {},
     "output_type": "execute_result"
    }
   ],
   "source": [
    "#get revet/edit ratio\n",
    "combined_bots['revert_vs_edit_ratio']=combined_bots['revert_frequency']/combined_bots['edit_frequency']\n",
    "combined_bots['revert_vs_edit_ratio'].describe()"
   ]
  },
  {
   "cell_type": "markdown",
   "metadata": {},
   "source": [
    "The revert vs edit ratio of bots. Looks like most of bots are peace-lovers while some other bots are made for reversion."
   ]
  },
  {
   "cell_type": "code",
   "execution_count": 40,
   "metadata": {},
   "outputs": [
    {
     "data": {
      "text/plain": [
       "Text(0.5, 1.0, 'histogram of revert vs edit ratio')"
      ]
     },
     "execution_count": 40,
     "metadata": {},
     "output_type": "execute_result"
    },
    {
     "data": {
      "image/png": "[encoded data removed]",
      "text/plain": [
       "<Figure size 432x288 with 1 Axes>"
      ]
     },
     "metadata": {
      "needs_background": "light"
     },
     "output_type": "display_data"
    }
   ],
   "source": [
    "combined_bots['revert_vs_edit_ratio'].hist()\n",
    "plt.xlabel('ratio')\n",
    "plt.ylabel('frequency')\n",
    "plt.title('histogram of revert vs edit ratio')"
   ]
  },
  {
   "cell_type": "markdown",
   "metadata": {},
   "source": [
    "Histogram of revert/edit ratio, a more clear visualization of conclusion made by the table above."
   ]
  },
  {
   "cell_type": "markdown",
   "metadata": {},
   "source": [
    "### Section 2 Users"
   ]
  },
  {
   "cell_type": "code",
   "execution_count": 7,
   "metadata": {},
   "outputs": [],
   "source": [
    "def user_raw_dict(road):\n",
    "    total_freq={}\n",
    "    revert_freq={}\n",
    "    for csvname in os.listdir(road):\n",
    "        csvroute=os.path.join(road, csvname)\n",
    "        csvdict={}\n",
    "        df=pd.read_csv(csvroute)\n",
    "        df['revert']=df['revert'].astype('int')\n",
    "        reverts=df[df['revert']==1]\n",
    "        thef=df['user'].value_counts().to_dict()\n",
    "        ther=reverts['user'].value_counts().to_dict()\n",
    "        total_freq=add_dicts(total_freq, thef)\n",
    "        revert_freq=add_dicts(revert_freq, ther)\n",
    "        print('finish dict csv', csvname, len(total_freq))\n",
    "        del thef, ther\n",
    "        del [[df, reverts]]\n",
    "        gc.collect()\n",
    "        df=pd.DataFrame()\n",
    "        reverts=pd.DataFrame()\n",
    "        thef={}\n",
    "        ther={}\n",
    "    return total_freq, revert_freq"
   ]
  },
  {
   "cell_type": "code",
   "execution_count": 8,
   "metadata": {},
   "outputs": [
    {
     "name": "stdout",
     "output_type": "stream",
     "text": [
      "finish dict csv en_wiki_13.csv 855530\n",
      "finish dict csv en_wiki_14.csv 1577078\n",
      "finish dict csv en_wiki_21.csv 2363298\n",
      "finish dict csv en_wiki_26.csv 3124394\n",
      "finish dict csv en_wiki_28.csv 3862676\n",
      "finish dict csv en_wiki_1.csv 4255704\n",
      "finish dict csv en_wiki_42.csv 5112855\n",
      "finish dict csv en_wiki_39.csv 5830756\n",
      "finish dict csv en_wiki_6.csv 6233712\n",
      "finish dict csv en_wiki_37.csv 6933172\n",
      "finish dict csv en_wiki_8.csv 7360302\n",
      "finish dict csv en_wiki_30.csv 7957724\n",
      "finish dict csv en_wiki_29.csv 8511945\n",
      "finish dict csv en_wiki_27.csv 9042362\n",
      "finish dict csv en_wiki_20.csv 9535546\n",
      "finish dict csv en_wiki_15.csv 9988439\n",
      "finish dict csv en_wiki_12.csv 10393546\n",
      "finish dict csv en_wiki_31.csv 10920323\n",
      "finish dict csv en_wiki_36.csv 11472583\n",
      "finish dict csv en_wiki_9.csv 11849470\n",
      "finish dict csv en_wiki_38.csv 12345611\n",
      "finish dict csv en_wiki_7.csv 12657515\n",
      "finish dict csv en_wiki_44.csv 13221377\n",
      "finish dict csv en_wiki_43.csv 13790687\n",
      "finish dict csv en_wiki_35.csv 14294245\n",
      "finish dict csv en_wiki_32.csv 14747623\n",
      "finish dict csv en_wiki_3.csv 15078318\n",
      "finish dict csv en_wiki_40.csv 15599834\n",
      "finish dict csv en_wiki_4.csv 15912687\n",
      "finish dict csv en_wiki_23.csv 16318492\n",
      "finish dict csv en_wiki_24.csv 16721855\n",
      "finish dict csv en_wiki_11.csv 17051928\n",
      "finish dict csv en_wiki_16.csv 17406399\n",
      "finish dict csv en_wiki_18.csv 17756713\n",
      "finish dict csv en_wiki_5.csv 17999204\n",
      "finish dict csv en_wiki_2.csv 18256294\n",
      "finish dict csv en_wiki_41.csv 18723635\n",
      "finish dict csv en_wiki_33.csv 19130459\n",
      "finish dict csv en_wiki_34.csv 19536597\n",
      "finish dict csv en_wiki_19.csv 19884625\n",
      "finish dict csv en_wiki_17.csv 20204136\n",
      "finish dict csv en_wiki_10.csv 20494451\n",
      "finish dict csv en_wiki_25.csv 20849974\n",
      "finish dict csv en_wiki_22.csv 21191308\n"
     ]
    }
   ],
   "source": [
    "user_edit,user_revert=user_raw_dict('data/csvs/en_wiki')"
   ]
  },
  {
   "cell_type": "code",
   "execution_count": 9,
   "metadata": {},
   "outputs": [],
   "source": [
    "user_e=pd.Series(user_edit)\n",
    "user_r=pd.Series(user_revert)"
   ]
  },
  {
   "cell_type": "code",
   "execution_count": 34,
   "metadata": {},
   "outputs": [
    {
     "data": {
      "text/plain": [
       "count    2.119131e+07\n",
       "mean     1.037460e+01\n",
       "std      7.964880e+02\n",
       "min      1.000000e+00\n",
       "25%      1.000000e+00\n",
       "50%      1.000000e+00\n",
       "75%      3.000000e+00\n",
       "max      2.695617e+06\n",
       "dtype: float64"
      ]
     },
     "execution_count": 34,
     "metadata": {},
     "output_type": "execute_result"
    }
   ],
   "source": [
    "user_e.describe()"
   ]
  },
  {
   "cell_type": "markdown",
   "metadata": {},
   "source": [
    "The table about the description of user edit times. Still, the edit number is heavily skewed."
   ]
  },
  {
   "cell_type": "code",
   "execution_count": 35,
   "metadata": {},
   "outputs": [
    {
     "data": {
      "text/plain": [
       "count    2.333106e+06\n",
       "mean     9.548600e+00\n",
       "std      5.206152e+02\n",
       "min      1.000000e+00\n",
       "25%      1.000000e+00\n",
       "50%      1.000000e+00\n",
       "75%      1.000000e+00\n",
       "max      6.438530e+05\n",
       "dtype: float64"
      ]
     },
     "execution_count": 35,
     "metadata": {},
     "output_type": "execute_result"
    }
   ],
   "source": [
    "user_r.describe()"
   ]
  },
  {
   "cell_type": "markdown",
   "metadata": {},
   "source": [
    "The table about the description of user revert times for those users who made reversion, and this time the reversion looks a little more peaceful compared with the reversion by bots"
   ]
  },
  {
   "cell_type": "code",
   "execution_count": 11,
   "metadata": {},
   "outputs": [],
   "source": [
    "user_e.sort_values(ascending=False, inplace=True)"
   ]
  },
  {
   "cell_type": "code",
   "execution_count": 12,
   "metadata": {},
   "outputs": [],
   "source": [
    "user_r.sort_values(ascending=False, inplace=True)"
   ]
  },
  {
   "cell_type": "code",
   "execution_count": 13,
   "metadata": {},
   "outputs": [
    {
     "data": {
      "text/plain": [
       "SmackBot           2695617\n",
       "Cydebot             763366\n",
       "ClueBot             644069\n",
       "Lightbot            638751\n",
       "RussBot             606590\n",
       "The_Anomebot2       536912\n",
       "Rich_Farmbrough     522440\n",
       "Thijs!bot           418576\n",
       "Rjwilmsi            387681\n",
       "Alaibot             379167\n",
       "dtype: int64"
      ]
     },
     "execution_count": 13,
     "metadata": {},
     "output_type": "execute_result"
    }
   ],
   "source": [
    "user_e.head(10)"
   ]
  },
  {
   "cell_type": "markdown",
   "metadata": {},
   "source": [
    "Top 10 users with most edit. Most of them are obviously bots"
   ]
  },
  {
   "cell_type": "code",
   "execution_count": 14,
   "metadata": {},
   "outputs": [
    {
     "data": {
      "text/plain": [
       "ClueBot                           643853\n",
       "AntiVandalBot                     141364\n",
       "J.delanoy                         135451\n",
       "VoABot_II                         134472\n",
       "XLinkBot                          103205\n",
       "Alansohn                          102157\n",
       "MartinBot                         100789\n",
       "Tawkerbot2                         69941\n",
       "Epbr123                            68492\n",
       "Can't_sleep,_clown_will_eat_me     65955\n",
       "dtype: int64"
      ]
     },
     "execution_count": 14,
     "metadata": {},
     "output_type": "execute_result"
    }
   ],
   "source": [
    "user_r.head(10)"
   ]
  },
  {
   "cell_type": "markdown",
   "metadata": {},
   "source": [
    "Top 10 users with reversion. The bots still play an important role here."
   ]
  },
  {
   "cell_type": "code",
   "execution_count": 15,
   "metadata": {},
   "outputs": [
    {
     "data": {
      "text/plain": [
       "Text(0.5, 1.0, 'histogram of user edit')"
      ]
     },
     "execution_count": 15,
     "metadata": {},
     "output_type": "execute_result"
    },
    {
     "data": {
      "image/png": "[encoded data removed]",
      "text/plain": [
       "<Figure size 432x288 with 1 Axes>"
      ]
     },
     "metadata": {
      "needs_background": "light"
     },
     "output_type": "display_data"
    }
   ],
   "source": [
    "user_e.hist()\n",
    "plt.xlabel('edit_time')\n",
    "plt.ylabel('frequency')\n",
    "plt.title('histogram of user edit')"
   ]
  },
  {
   "cell_type": "markdown",
   "metadata": {},
   "source": [
    "User edit histogram. There are so many users with 1 edit that the graph looks really weird."
   ]
  },
  {
   "cell_type": "code",
   "execution_count": 16,
   "metadata": {},
   "outputs": [
    {
     "data": {
      "text/plain": [
       "Text(0.5, 1.0, 'histogram of user revert')"
      ]
     },
     "execution_count": 16,
     "metadata": {},
     "output_type": "execute_result"
    },
    {
     "data": {
      "image/png": "[encoded data removed]",
      "text/plain": [
       "<Figure size 432x288 with 1 Axes>"
      ]
     },
     "metadata": {
      "needs_background": "light"
     },
     "output_type": "display_data"
    }
   ],
   "source": [
    "user_r.hist()\n",
    "plt.xlabel('revert_time')\n",
    "plt.ylabel('frequency')\n",
    "plt.title('histogram of user revert')"
   ]
  },
  {
   "cell_type": "markdown",
   "metadata": {},
   "source": [
    "The same thing happened on user reversion histogram"
   ]
  },
  {
   "cell_type": "markdown",
   "metadata": {},
   "source": [
    "Those two plots are similar with the histogram in shape, but they are telling a different story. They shows how user edit time vary severely with huge differences between users"
   ]
  },
  {
   "cell_type": "code",
   "execution_count": 39,
   "metadata": {},
   "outputs": [
    {
     "data": {
      "text/plain": [
       "Text(0.5, 1.0, 'plot of user edit time')"
      ]
     },
     "execution_count": 39,
     "metadata": {},
     "output_type": "execute_result"
    },
    {
     "data": {
      "image/png": "[encoded data removed]",
      "text/plain": [
       "<Figure size 432x288 with 1 Axes>"
      ]
     },
     "metadata": {
      "needs_background": "light"
     },
     "output_type": "display_data"
    }
   ],
   "source": [
    "user_e.plot()\n",
    "plt.xlabel('user')\n",
    "plt.ylabel(\"edit_frequency\")\n",
    "plt.title('plot of user edit time')"
   ]
  },
  {
   "cell_type": "code",
   "execution_count": 43,
   "metadata": {},
   "outputs": [
    {
     "data": {
      "text/plain": [
       "Text(0.5, 1.0, 'plot of user revert time')"
      ]
     },
     "execution_count": 43,
     "metadata": {},
     "output_type": "execute_result"
    },
    {
     "data": {
      "image/png": "[encoded data removed]",
      "text/plain": [
       "<Figure size 432x288 with 1 Axes>"
      ]
     },
     "metadata": {
      "needs_background": "light"
     },
     "output_type": "display_data"
    }
   ],
   "source": [
    "user_r.plot()\n",
    "plt.xlabel('user')\n",
    "plt.ylabel('revert_frequency')\n",
    "plt.title('plot of user revert time')"
   ]
  },
  {
   "cell_type": "markdown",
   "metadata": {},
   "source": [
    "Calculating uer revert/edit ratio"
   ]
  },
  {
   "cell_type": "code",
   "execution_count": 10,
   "metadata": {},
   "outputs": [
    {
     "data": {
      "text/plain": [
       "count    2.119131e+07\n",
       "mean     4.372522e-02\n",
       "std      1.654792e-01\n",
       "min      0.000000e+00\n",
       "25%      0.000000e+00\n",
       "50%      0.000000e+00\n",
       "75%      0.000000e+00\n",
       "max      1.000000e+00\n",
       "Name: revert_vs_edit_ratio, dtype: float64"
      ]
     },
     "execution_count": 10,
     "metadata": {},
     "output_type": "execute_result"
    }
   ],
   "source": [
    "combined_user=pd.concat([user_e,user_r], axis=1)\n",
    "combined_user.columns=['user_edit', 'user_revert']\n",
    "combined_user=combined_user.fillna(0)\n",
    "combined_user['revert_vs_edit_ratio']=combined_user['user_revert']/combined_user['user_edit']\n",
    "combined_user['revert_vs_edit_ratio'].describe()"
   ]
  },
  {
   "cell_type": "markdown",
   "metadata": {},
   "source": [
    "Generally, users are more peaceful than bots along, since 75% of them only makes edit and no reversion. The histogram below shows a better visualization of the data"
   ]
  },
  {
   "cell_type": "code",
   "execution_count": 11,
   "metadata": {},
   "outputs": [
    {
     "data": {
      "text/plain": [
       "Text(0.5, 1.0, 'histogram of revert vs edit ratio')"
      ]
     },
     "execution_count": 11,
     "metadata": {},
     "output_type": "execute_result"
    },
    {
     "data": {
      "image/png": "[encoded data removed]",
      "text/plain": [
       "<Figure size 432x288 with 1 Axes>"
      ]
     },
     "metadata": {
      "needs_background": "light"
     },
     "output_type": "display_data"
    }
   ],
   "source": [
    "combined_user['revert_vs_edit_ratio'].hist()\n",
    "plt.xlabel('ratio')\n",
    "plt.ylabel('frequency')\n",
    "plt.title('histogram of revert vs edit ratio')"
   ]
  },
  {
   "cell_type": "markdown",
   "metadata": {},
   "source": [
    "### Section 3 article"
   ]
  },
  {
   "cell_type": "code",
   "execution_count": 8,
   "metadata": {},
   "outputs": [],
   "source": [
    "def article_raw_dict(road):\n",
    "    total_freq={}\n",
    "    revert_freq={}\n",
    "    for csvname in os.listdir(road):\n",
    "        csvroute=os.path.join(road, csvname)\n",
    "        csvdict={}\n",
    "        df=pd.read_csv(csvroute)\n",
    "        df['revert']=df['revert'].astype('int')\n",
    "        reverts=df[df['revert']==1]\n",
    "        thef=df['article'].value_counts().to_dict()\n",
    "        ther=reverts['article'].value_counts().to_dict()\n",
    "        total_freq=add_dicts(total_freq, thef)\n",
    "        revert_freq=add_dicts(revert_freq, ther)\n",
    "        print('finish dict csv', csvname, len(total_freq))\n",
    "        del thef, ther\n",
    "        del [[df, reverts]]\n",
    "        gc.collect()\n",
    "        df=pd.DataFrame()\n",
    "        reverts=pd.DataFrame()\n",
    "        thef={}\n",
    "        ther={}\n",
    "    return total_freq, revert_freq"
   ]
  },
  {
   "cell_type": "code",
   "execution_count": 8,
   "metadata": {},
   "outputs": [
    {
     "name": "stdout",
     "output_type": "stream",
     "text": [
      "finish dict csv en_wiki_13.csv 143749\n",
      "finish dict csv en_wiki_14.csv 280563\n",
      "finish dict csv en_wiki_21.csv 369159\n",
      "finish dict csv en_wiki_26.csv 436513\n",
      "finish dict csv en_wiki_28.csv 489965\n",
      "finish dict csv en_wiki_1.csv 853829\n",
      "finish dict csv en_wiki_42.csv 860641\n",
      "finish dict csv en_wiki_39.csv 880436\n",
      "finish dict csv en_wiki_6.csv 1117734\n",
      "finish dict csv en_wiki_37.csv 1136178\n",
      "finish dict csv en_wiki_8.csv 1329572\n",
      "finish dict csv en_wiki_30.csv 1376066\n",
      "finish dict csv en_wiki_29.csv 1432868\n",
      "finish dict csv en_wiki_27.csv 1493265\n",
      "finish dict csv en_wiki_20.csv 1589220\n",
      "finish dict csv en_wiki_15.csv 1708427\n",
      "finish dict csv en_wiki_12.csv 1859087\n",
      "finish dict csv en_wiki_31.csv 1906032\n",
      "finish dict csv en_wiki_36.csv 1930126\n",
      "finish dict csv en_wiki_9.csv 2104001\n",
      "finish dict csv en_wiki_38.csv 2146542\n",
      "finish dict csv en_wiki_7.csv 2380500\n",
      "finish dict csv en_wiki_44.csv 2387132\n",
      "finish dict csv en_wiki_43.csv 2393888\n",
      "finish dict csv en_wiki_35.csv 2421556\n",
      "finish dict csv en_wiki_32.csv 2460650\n",
      "finish dict csv en_wiki_3.csv 2709865\n",
      "finish dict csv en_wiki_40.csv 2722204\n",
      "finish dict csv en_wiki_4.csv 2948020\n",
      "finish dict csv en_wiki_23.csv 3024250\n",
      "finish dict csv en_wiki_24.csv 3098564\n",
      "finish dict csv en_wiki_11.csv 3252565\n",
      "finish dict csv en_wiki_16.csv 3368597\n",
      "finish dict csv en_wiki_18.csv 3471693\n",
      "finish dict csv en_wiki_5.csv 3732896\n",
      "finish dict csv en_wiki_2.csv 4032696\n",
      "finish dict csv en_wiki_41.csv 4043017\n",
      "finish dict csv en_wiki_33.csv 4077799\n",
      "finish dict csv en_wiki_34.csv 4107741\n",
      "finish dict csv en_wiki_19.csv 4209645\n",
      "finish dict csv en_wiki_17.csv 4324303\n",
      "finish dict csv en_wiki_10.csv 4489494\n",
      "finish dict csv en_wiki_25.csv 4560631\n",
      "finish dict csv en_wiki_22.csv 4644458\n"
     ]
    }
   ],
   "source": [
    "article_edit, article_revert=article_raw_dict('data/csvs/en_wiki')"
   ]
  },
  {
   "cell_type": "code",
   "execution_count": 9,
   "metadata": {},
   "outputs": [],
   "source": [
    "article_e=pd.Series(article_edit)\n",
    "article_r=pd.Series(article_revert)\n",
    "combined_article=pd.concat([article_e,article_r], axis=1)\n",
    "combined_article=combined_article.fillna(0)"
   ]
  },
  {
   "cell_type": "code",
   "execution_count": 11,
   "metadata": {},
   "outputs": [],
   "source": [
    "combined_article.columns=['article_edit', 'article_revert']\n",
    "combined_article['revert_edit_ratio']=combined_article['article_revert']/combined_article['article_edit']"
   ]
  },
  {
   "cell_type": "code",
   "execution_count": 12,
   "metadata": {},
   "outputs": [
    {
     "data": {
      "text/plain": [
       "count    4.644458e+06\n",
       "mean     4.733616e+01\n",
       "std      2.175524e+02\n",
       "min      2.000000e+00\n",
       "25%      3.000000e+00\n",
       "50%      1.100000e+01\n",
       "75%      3.100000e+01\n",
       "max      4.365000e+04\n",
       "Name: article_edit, dtype: float64"
      ]
     },
     "execution_count": 12,
     "metadata": {},
     "output_type": "execute_result"
    }
   ],
   "source": [
    "combined_article['article_edit'].describe()"
   ]
  },
  {
   "cell_type": "markdown",
   "metadata": {},
   "source": [
    "This table is the description of article edit time. Looks like all articles experience at least 2 edit."
   ]
  },
  {
   "cell_type": "code",
   "execution_count": 17,
   "metadata": {},
   "outputs": [
    {
     "data": {
      "text/plain": [
       "count    4.644458e+06\n",
       "mean     4.796642e+00\n",
       "std      4.395998e+01\n",
       "min      0.000000e+00\n",
       "25%      0.000000e+00\n",
       "50%      0.000000e+00\n",
       "75%      1.000000e+00\n",
       "max      1.508100e+04\n",
       "Name: article_revert, dtype: float64"
      ]
     },
     "execution_count": 17,
     "metadata": {},
     "output_type": "execute_result"
    }
   ],
   "source": [
    "combined_article['article_revert'].describe()"
   ]
  },
  {
   "cell_type": "markdown",
   "metadata": {},
   "source": [
    "This table describes the reversion per article and most of them are going well with no reverts while some of the controversial articles (like George Bush) are experiencing great edit wars here."
   ]
  },
  {
   "cell_type": "code",
   "execution_count": 18,
   "metadata": {},
   "outputs": [
    {
     "data": {
      "text/plain": [
       "count    4.644458e+06\n",
       "mean     4.328443e-02\n",
       "std      7.863970e-02\n",
       "min      0.000000e+00\n",
       "25%      0.000000e+00\n",
       "50%      0.000000e+00\n",
       "75%      6.091371e-02\n",
       "max      9.411765e-01\n",
       "Name: revert_edit_ratio, dtype: float64"
      ]
     },
     "execution_count": 18,
     "metadata": {},
     "output_type": "execute_result"
    }
   ],
   "source": [
    "combined_article['revert_edit_ratio'].describe()"
   ]
  },
  {
   "cell_type": "markdown",
   "metadata": {},
   "source": [
    "The description of revert/edit data per article indicates that there are not many articles with controversy. However, there is article with 94% reversion rate which makes me wonder what they are reverting and this article is a heat battlefield even if the edit time is low."
   ]
  },
  {
   "cell_type": "markdown",
   "metadata": {},
   "source": [
    "Those two plots below indicates that usually the article with more edits will receive more reversion"
   ]
  },
  {
   "cell_type": "code",
   "execution_count": 15,
   "metadata": {},
   "outputs": [
    {
     "data": {
      "text/plain": [
       "Text(0.5, 1.0, 'plot of article edit times')"
      ]
     },
     "execution_count": 15,
     "metadata": {},
     "output_type": "execute_result"
    },
    {
     "data": {
      "image/png": "[encoded data removed]",
      "text/plain": [
       "<Figure size 432x288 with 1 Axes>"
      ]
     },
     "metadata": {
      "needs_background": "light"
     },
     "output_type": "display_data"
    }
   ],
   "source": [
    "combined_article=combined_article.reset_index()\n",
    "combined_article['article_edit'].plot()\n",
    "plt.xlabel('index_number')\n",
    "plt.ylabel('edit_time')\n",
    "plt.title('plot of article edit times')"
   ]
  },
  {
   "cell_type": "code",
   "execution_count": 16,
   "metadata": {},
   "outputs": [
    {
     "data": {
      "text/plain": [
       "Text(0.5, 1.0, 'plot of article revert times')"
      ]
     },
     "execution_count": 16,
     "metadata": {},
     "output_type": "execute_result"
    },
    {
     "data": {
      "image/png": "[encoded data removed]",
      "text/plain": [
       "<Figure size 432x288 with 1 Axes>"
      ]
     },
     "metadata": {
      "needs_background": "light"
     },
     "output_type": "display_data"
    }
   ],
   "source": [
    "combined_article['article_revert'].plot()\n",
    "plt.xlabel('index_number')\n",
    "plt.ylabel('revert_time')\n",
    "plt.title('plot of article revert times')"
   ]
  },
  {
   "cell_type": "markdown",
   "metadata": {},
   "source": [
    "This histogram is another similar histogram with majority of ratio at 0."
   ]
  },
  {
   "cell_type": "code",
   "execution_count": 20,
   "metadata": {},
   "outputs": [
    {
     "data": {
      "text/plain": [
       "Text(0.5, 1.0, 'histogram of article revert_edit_ratio')"
      ]
     },
     "execution_count": 20,
     "metadata": {},
     "output_type": "execute_result"
    },
    {
     "data": {
      "image/png": "[encoded data removed]",
      "text/plain": [
       "<Figure size 432x288 with 1 Axes>"
      ]
     },
     "metadata": {
      "needs_background": "light"
     },
     "output_type": "display_data"
    }
   ],
   "source": [
    "combined_article['revert_edit_ratio'].hist()\n",
    "plt.xlabel('ratio')\n",
    "plt.ylabel('frequency')\n",
    "plt.title('histogram of article revert_edit_ratio')"
   ]
  },
  {
   "cell_type": "markdown",
   "metadata": {},
   "source": [
    "### Section 4 Daily"
   ]
  },
  {
   "cell_type": "code",
   "execution_count": 9,
   "metadata": {},
   "outputs": [],
   "source": [
    "def day_raw_dict(road):\n",
    "    total_freq={}\n",
    "    revert_freq={}\n",
    "    for csvname in os.listdir(road):\n",
    "        csvroute=os.path.join(road, csvname)\n",
    "        csvdict={}\n",
    "        df=pd.read_csv(csvroute)\n",
    "        df['revert']=df['revert'].astype('int')\n",
    "        df['time']=pd.to_datetime(df['time'])\n",
    "        df['time']=df['time'].dt.floor('D')\n",
    "        reverts=df[df['revert']==1]\n",
    "        thef=df['time'].value_counts().to_dict()\n",
    "        ther=reverts['time'].value_counts().to_dict()\n",
    "        total_freq=add_dicts(total_freq, thef)\n",
    "        revert_freq=add_dicts(revert_freq, ther)\n",
    "        print('finish dict csv', csvname, len(total_freq))\n",
    "        del thef, ther\n",
    "        del [[df, reverts]]\n",
    "        gc.collect()\n",
    "        df=pd.DataFrame()\n",
    "        reverts=pd.DataFrame()\n",
    "        thef={}\n",
    "        ther={}\n",
    "    return total_freq, revert_freq"
   ]
  },
  {
   "cell_type": "code",
   "execution_count": 10,
   "metadata": {},
   "outputs": [
    {
     "name": "stdout",
     "output_type": "stream",
     "text": [
      "finish dict csv en_wiki_13.csv 2748\n",
      "finish dict csv en_wiki_14.csv 2870\n",
      "finish dict csv en_wiki_21.csv 2936\n",
      "finish dict csv en_wiki_26.csv 2949\n",
      "finish dict csv en_wiki_28.csv 2971\n",
      "finish dict csv en_wiki_1.csv 3157\n",
      "finish dict csv en_wiki_42.csv 3295\n",
      "finish dict csv en_wiki_39.csv 3295\n",
      "finish dict csv en_wiki_6.csv 3295\n",
      "finish dict csv en_wiki_37.csv 3295\n",
      "finish dict csv en_wiki_8.csv 3295\n",
      "finish dict csv en_wiki_30.csv 3295\n",
      "finish dict csv en_wiki_29.csv 3295\n",
      "finish dict csv en_wiki_27.csv 3295\n",
      "finish dict csv en_wiki_20.csv 3295\n",
      "finish dict csv en_wiki_15.csv 3295\n",
      "finish dict csv en_wiki_12.csv 3295\n",
      "finish dict csv en_wiki_31.csv 3295\n",
      "finish dict csv en_wiki_36.csv 3295\n",
      "finish dict csv en_wiki_9.csv 3296\n",
      "finish dict csv en_wiki_38.csv 3296\n",
      "finish dict csv en_wiki_7.csv 3296\n",
      "finish dict csv en_wiki_44.csv 3299\n",
      "finish dict csv en_wiki_43.csv 3302\n",
      "finish dict csv en_wiki_35.csv 3302\n",
      "finish dict csv en_wiki_32.csv 3302\n",
      "finish dict csv en_wiki_3.csv 3302\n",
      "finish dict csv en_wiki_40.csv 3302\n",
      "finish dict csv en_wiki_4.csv 3302\n",
      "finish dict csv en_wiki_23.csv 3302\n",
      "finish dict csv en_wiki_24.csv 3302\n",
      "finish dict csv en_wiki_11.csv 3302\n",
      "finish dict csv en_wiki_16.csv 3302\n",
      "finish dict csv en_wiki_18.csv 3302\n",
      "finish dict csv en_wiki_5.csv 3302\n",
      "finish dict csv en_wiki_2.csv 3302\n",
      "finish dict csv en_wiki_41.csv 3302\n",
      "finish dict csv en_wiki_33.csv 3302\n",
      "finish dict csv en_wiki_34.csv 3302\n",
      "finish dict csv en_wiki_19.csv 3303\n",
      "finish dict csv en_wiki_17.csv 3303\n",
      "finish dict csv en_wiki_10.csv 3303\n",
      "finish dict csv en_wiki_25.csv 3303\n",
      "finish dict csv en_wiki_22.csv 3303\n"
     ]
    }
   ],
   "source": [
    "day_edit, day_revert=day_raw_dict('data/csvs/en_wiki')"
   ]
  },
  {
   "cell_type": "code",
   "execution_count": 12,
   "metadata": {},
   "outputs": [
    {
     "data": {
      "text/html": [
       "<div>\n",
       "<style scoped>\n",
       "    .dataframe tbody tr th:only-of-type {\n",
       "        vertical-align: middle;\n",
       "    }\n",
       "\n",
       "    .dataframe tbody tr th {\n",
       "        vertical-align: top;\n",
       "    }\n",
       "\n",
       "    .dataframe thead th {\n",
       "        text-align: right;\n",
       "    }\n",
       "</style>\n",
       "<table border=\"1\" class=\"dataframe\">\n",
       "  <thead>\n",
       "    <tr style=\"text-align: right;\">\n",
       "      <th></th>\n",
       "      <th>daily_edit</th>\n",
       "      <th>daily_revert</th>\n",
       "      <th>daily_revert_edit_ratio</th>\n",
       "    </tr>\n",
       "  </thead>\n",
       "  <tbody>\n",
       "    <tr>\n",
       "      <th>2001-01-16 00:00:00+00:00</th>\n",
       "      <td>1</td>\n",
       "      <td>0.0</td>\n",
       "      <td>0.0</td>\n",
       "    </tr>\n",
       "    <tr>\n",
       "      <th>2001-01-17 00:00:00+00:00</th>\n",
       "      <td>5</td>\n",
       "      <td>0.0</td>\n",
       "      <td>0.0</td>\n",
       "    </tr>\n",
       "    <tr>\n",
       "      <th>2001-01-18 00:00:00+00:00</th>\n",
       "      <td>2</td>\n",
       "      <td>0.0</td>\n",
       "      <td>0.0</td>\n",
       "    </tr>\n",
       "    <tr>\n",
       "      <th>2001-01-19 00:00:00+00:00</th>\n",
       "      <td>7</td>\n",
       "      <td>0.0</td>\n",
       "      <td>0.0</td>\n",
       "    </tr>\n",
       "    <tr>\n",
       "      <th>2001-01-20 00:00:00+00:00</th>\n",
       "      <td>6</td>\n",
       "      <td>0.0</td>\n",
       "      <td>0.0</td>\n",
       "    </tr>\n",
       "    <tr>\n",
       "      <th>2001-01-21 00:00:00+00:00</th>\n",
       "      <td>18</td>\n",
       "      <td>0.0</td>\n",
       "      <td>0.0</td>\n",
       "    </tr>\n",
       "    <tr>\n",
       "      <th>2001-01-22 00:00:00+00:00</th>\n",
       "      <td>5</td>\n",
       "      <td>0.0</td>\n",
       "      <td>0.0</td>\n",
       "    </tr>\n",
       "    <tr>\n",
       "      <th>2001-01-23 00:00:00+00:00</th>\n",
       "      <td>10</td>\n",
       "      <td>0.0</td>\n",
       "      <td>0.0</td>\n",
       "    </tr>\n",
       "    <tr>\n",
       "      <th>2001-01-24 00:00:00+00:00</th>\n",
       "      <td>4</td>\n",
       "      <td>0.0</td>\n",
       "      <td>0.0</td>\n",
       "    </tr>\n",
       "    <tr>\n",
       "      <th>2001-01-25 00:00:00+00:00</th>\n",
       "      <td>10</td>\n",
       "      <td>0.0</td>\n",
       "      <td>0.0</td>\n",
       "    </tr>\n",
       "  </tbody>\n",
       "</table>\n",
       "</div>"
      ],
      "text/plain": [
       "                           daily_edit  daily_revert  daily_revert_edit_ratio\n",
       "2001-01-16 00:00:00+00:00           1           0.0                      0.0\n",
       "2001-01-17 00:00:00+00:00           5           0.0                      0.0\n",
       "2001-01-18 00:00:00+00:00           2           0.0                      0.0\n",
       "2001-01-19 00:00:00+00:00           7           0.0                      0.0\n",
       "2001-01-20 00:00:00+00:00           6           0.0                      0.0\n",
       "2001-01-21 00:00:00+00:00          18           0.0                      0.0\n",
       "2001-01-22 00:00:00+00:00           5           0.0                      0.0\n",
       "2001-01-23 00:00:00+00:00          10           0.0                      0.0\n",
       "2001-01-24 00:00:00+00:00           4           0.0                      0.0\n",
       "2001-01-25 00:00:00+00:00          10           0.0                      0.0"
      ]
     },
     "execution_count": 12,
     "metadata": {},
     "output_type": "execute_result"
    }
   ],
   "source": [
    "day_e=pd.Series(day_edit)\n",
    "day_r=pd.Series(day_revert)\n",
    "combined_day=pd.concat([day_e, day_r], axis=1)\n",
    "combined_day=combined_day.fillna(0)\n",
    "combined_day.columns=['daily_edit', 'daily_revert']\n",
    "combined_day['daily_revert_edit_ratio']=combined_day['daily_revert']/combined_day['daily_edit']\n",
    "combined_day=combined_day.sort_index()\n",
    "combined_day.head(10)"
   ]
  },
  {
   "cell_type": "code",
   "execution_count": 15,
   "metadata": {},
   "outputs": [
    {
     "data": {
      "text/plain": [
       "count      3303.000000\n",
       "mean      66561.087496\n",
       "std       62589.939336\n",
       "min           1.000000\n",
       "25%        2835.500000\n",
       "50%       44372.000000\n",
       "75%      132099.000000\n",
       "max      218485.000000\n",
       "Name: daily_edit, dtype: float64"
      ]
     },
     "execution_count": 15,
     "metadata": {},
     "output_type": "execute_result"
    }
   ],
   "source": [
    "combined_day['daily_edit'].describe()"
   ]
  },
  {
   "cell_type": "markdown",
   "metadata": {},
   "source": [
    "The description table of daily edit. In 3303 day, there is day with 1 edit while the max edit is at 218485 edit per day. The daily edit is not as skewed as the previous sections"
   ]
  },
  {
   "cell_type": "code",
   "execution_count": 16,
   "metadata": {},
   "outputs": [
    {
     "data": {
      "text/plain": [
       "count     3303.000000\n",
       "mean      6744.745686\n",
       "std       7193.217115\n",
       "min          0.000000\n",
       "25%         68.000000\n",
       "50%       2925.000000\n",
       "75%      13202.500000\n",
       "max      22191.000000\n",
       "Name: daily_revert, dtype: float64"
      ]
     },
     "execution_count": 16,
     "metadata": {},
     "output_type": "execute_result"
    }
   ],
   "source": [
    "combined_day['daily_revert'].describe()"
   ]
  },
  {
   "cell_type": "markdown",
   "metadata": {},
   "source": [
    "Daily revert description. EN_wiki has some peaceful day and we can find that there are articles with multiple days of battle since those articles have a revert time that is larger than the daily max revert time"
   ]
  },
  {
   "cell_type": "code",
   "execution_count": 17,
   "metadata": {},
   "outputs": [
    {
     "data": {
      "text/plain": [
       "count    3303.000000\n",
       "mean        0.065263\n",
       "std         0.042087\n",
       "min         0.000000\n",
       "25%         0.027679\n",
       "50%         0.066481\n",
       "75%         0.101164\n",
       "max         0.197917\n",
       "Name: daily_revert_edit_ratio, dtype: float64"
      ]
     },
     "execution_count": 17,
     "metadata": {},
     "output_type": "execute_result"
    }
   ],
   "source": [
    "combined_day['daily_revert_edit_ratio'].describe()"
   ]
  },
  {
   "cell_type": "markdown",
   "metadata": {},
   "source": [
    "The revert/edit ration in en_wiki every day is low, and looks like the community is staying in a good collaboration envirnoment."
   ]
  },
  {
   "cell_type": "markdown",
   "metadata": {},
   "source": [
    "Those two plots below shows that how en_wiki grows fast from 2001~2007 and then almost stop growing since 2007."
   ]
  },
  {
   "cell_type": "code",
   "execution_count": 13,
   "metadata": {},
   "outputs": [
    {
     "data": {
      "text/plain": [
       "Text(0.5, 1.0, 'daily_edit')"
      ]
     },
     "execution_count": 13,
     "metadata": {},
     "output_type": "execute_result"
    },
    {
     "data": {
      "image/png": "[encoded data removed]",
      "text/plain": [
       "<Figure size 432x288 with 1 Axes>"
      ]
     },
     "metadata": {
      "needs_background": "light"
     },
     "output_type": "display_data"
    }
   ],
   "source": [
    "combined_day['daily_edit'].plot()\n",
    "plt.xlabel('date')\n",
    "plt.ylabel('edit_time')\n",
    "plt.title('daily_edit')"
   ]
  },
  {
   "cell_type": "code",
   "execution_count": 18,
   "metadata": {},
   "outputs": [
    {
     "data": {
      "text/plain": [
       "Text(0.5, 1.0, 'daily_revert')"
      ]
     },
     "execution_count": 18,
     "metadata": {},
     "output_type": "execute_result"
    },
    {
     "data": {
      "image/png": "[encoded data removed]",
      "text/plain": [
       "<Figure size 432x288 with 1 Axes>"
      ]
     },
     "metadata": {
      "needs_background": "light"
     },
     "output_type": "display_data"
    }
   ],
   "source": [
    "combined_day['daily_revert'].plot()\n",
    "plt.xlabel('date')\n",
    "plt.ylabel('revert_time')\n",
    "plt.title('daily_revert')"
   ]
  },
  {
   "cell_type": "markdown",
   "metadata": {},
   "source": [
    "The daily revert/edit ration shows that the early days of en_wiki have some irregular large battles there. I think this happens because the community rules about edit war are not sound at that time."
   ]
  },
  {
   "cell_type": "code",
   "execution_count": 19,
   "metadata": {},
   "outputs": [
    {
     "data": {
      "text/plain": [
       "Text(0.5, 1.0, 'daily_revert_edit_ratio')"
      ]
     },
     "execution_count": 19,
     "metadata": {},
     "output_type": "execute_result"
    },
    {
     "data": {
      "image/png": "[encoded data removed]",
      "text/plain": [
       "<Figure size 432x288 with 1 Axes>"
      ]
     },
     "metadata": {
      "needs_background": "light"
     },
     "output_type": "display_data"
    }
   ],
   "source": [
    "combined_day['daily_revert_edit_ratio'].plot()\n",
    "plt.xlabel('date')\n",
    "plt.ylabel('ratio')\n",
    "plt.title('daily_revert_edit_ratio')"
   ]
  },
  {
   "cell_type": "markdown",
   "metadata": {},
   "source": [
    "## Conclusion"
   ]
  },
  {
   "cell_type": "markdown",
   "metadata": {},
   "source": [
    "The en wikipeda data show that this dataset is heavily skewed and we should focus on the tails where the battles happen. However, this does not mean that we should ignore the data with 0 revert as they serve as the background of our research. We are studying conflicts in a background of collaboration. Addtionally, the daily data indicate that better community rules may help community to reduce the conflicts happened. Also, we only have data that from 2001~2010, but as Wikipedia is staying stable since 2007, I think it is ok to use only this period of data. The user-bot comparision gives us a hint that since bots are more aggresive than general users, will the bots be the main source of conflicts in the future of the Wikipedia?"
   ]
  },
  {
   "cell_type": "code",
   "execution_count": null,
   "metadata": {},
   "outputs": [],
   "source": []
  }
 ],
 "metadata": {
  "kernelspec": {
   "display_name": "Python 3",
   "language": "python",
   "name": "python3"
  },
  "language_info": {
   "codemirror_mode": {
    "name": "ipython",
    "version": 3
   },
   "file_extension": ".py",
   "mimetype": "text/x-python",
   "name": "python",
   "nbconvert_exporter": "python",
   "pygments_lexer": "ipython3",
   "version": "3.7.6"
  }
 },
 "nbformat": 4,
 "nbformat_minor": 4
}
