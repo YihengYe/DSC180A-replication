{
 "cells": [
  {
   "cell_type": "code",
   "execution_count": 2,
   "metadata": {},
   "outputs": [],
   "source": [
    "import numpy as np\n",
    "import pandas as pd\n",
    "import sys\n",
    "from bs4 import BeautifulSoup\n",
    "import matplotlib.pyplot as plt\n"
   ]
  },
  {
   "cell_type": "markdown",
   "metadata": {},
   "source": [
    "# calculate M for single article"
   ]
  },
  {
   "cell_type": "code",
   "execution_count": 3,
   "metadata": {},
   "outputs": [],
   "source": [
    "light_dump = []\n",
    "naruto = False\n",
    "with open(\"../data/raw/lightdump/es_wiki.txt\", encoding = 'utf8') as file:\n",
    "    for line in file:\n",
    "        if (line[0]!= \"^\") & naruto:\n",
    "            break\n",
    "        \n",
    "        if line.strip() == 'Naruto':\n",
    "            naruto = True\n",
    "            continue\n",
    "            \n",
    "        if naruto:\n",
    "            light_dump.append(line)"
   ]
  },
  {
   "cell_type": "code",
   "execution_count": 4,
   "metadata": {},
   "outputs": [],
   "source": [
    "light_dump.reverse()"
   ]
  },
  {
   "cell_type": "code",
   "execution_count": 5,
   "metadata": {},
   "outputs": [
    {
     "data": {
      "text/plain": [
       "[['2004-04-03T13:42:17Z', '0', '1', 'Sabbut'],\n",
       " ['2004-04-03T14:09:31Z', '0', '2', 'Sabbut'],\n",
       " ['2004-04-11T23:07:42Z', '0', '3', 'Moriel'],\n",
       " ['2004-05-23T22:28:21Z', '0', '4', 'Yas'],\n",
       " ['2004-07-24T23:14:58Z', '0', '5', 'Sabbut']]"
      ]
     },
     "execution_count": 5,
     "metadata": {},
     "output_type": "execute_result"
    }
   ],
   "source": [
    "light_dump = [x[4:-1].split(' ') for x in light_dump]\n",
    "light_dump[:5]"
   ]
  },
  {
   "cell_type": "code",
   "execution_count": 6,
   "metadata": {},
   "outputs": [
    {
     "data": {
      "text/html": [
       "<div>\n",
       "<style scoped>\n",
       "    .dataframe tbody tr th:only-of-type {\n",
       "        vertical-align: middle;\n",
       "    }\n",
       "\n",
       "    .dataframe tbody tr th {\n",
       "        vertical-align: top;\n",
       "    }\n",
       "\n",
       "    .dataframe thead th {\n",
       "        text-align: right;\n",
       "    }\n",
       "</style>\n",
       "<table border=\"1\" class=\"dataframe\">\n",
       "  <thead>\n",
       "    <tr style=\"text-align: right;\">\n",
       "      <th></th>\n",
       "      <th>time</th>\n",
       "      <th>revert</th>\n",
       "      <th>index</th>\n",
       "      <th>username</th>\n",
       "      <th>num_edits</th>\n",
       "    </tr>\n",
       "  </thead>\n",
       "  <tbody>\n",
       "    <tr>\n",
       "      <th>0</th>\n",
       "      <td>2004-04-03T13:42:17Z</td>\n",
       "      <td>0</td>\n",
       "      <td>1</td>\n",
       "      <td>Sabbut</td>\n",
       "      <td>18</td>\n",
       "    </tr>\n",
       "    <tr>\n",
       "      <th>1</th>\n",
       "      <td>2004-04-03T14:09:31Z</td>\n",
       "      <td>0</td>\n",
       "      <td>2</td>\n",
       "      <td>Sabbut</td>\n",
       "      <td>18</td>\n",
       "    </tr>\n",
       "    <tr>\n",
       "      <th>2</th>\n",
       "      <td>2004-04-11T23:07:42Z</td>\n",
       "      <td>0</td>\n",
       "      <td>3</td>\n",
       "      <td>Moriel</td>\n",
       "      <td>1</td>\n",
       "    </tr>\n",
       "    <tr>\n",
       "      <th>3</th>\n",
       "      <td>2004-05-23T22:28:21Z</td>\n",
       "      <td>0</td>\n",
       "      <td>4</td>\n",
       "      <td>Yas</td>\n",
       "      <td>1</td>\n",
       "    </tr>\n",
       "    <tr>\n",
       "      <th>4</th>\n",
       "      <td>2004-07-24T23:14:58Z</td>\n",
       "      <td>0</td>\n",
       "      <td>5</td>\n",
       "      <td>Sabbut</td>\n",
       "      <td>18</td>\n",
       "    </tr>\n",
       "  </tbody>\n",
       "</table>\n",
       "</div>"
      ],
      "text/plain": [
       "                   time revert index username  num_edits\n",
       "0  2004-04-03T13:42:17Z      0     1   Sabbut         18\n",
       "1  2004-04-03T14:09:31Z      0     2   Sabbut         18\n",
       "2  2004-04-11T23:07:42Z      0     3   Moriel          1\n",
       "3  2004-05-23T22:28:21Z      0     4      Yas          1\n",
       "4  2004-07-24T23:14:58Z      0     5   Sabbut         18"
      ]
     },
     "execution_count": 6,
     "metadata": {},
     "output_type": "execute_result"
    }
   ],
   "source": [
    "df = pd.DataFrame(data = light_dump, columns = ['time', 'revert', 'index', 'username'])\n",
    "# num of edits\n",
    "num_edits = df.username.value_counts()\n",
    "df['num_edits'] = df.username.apply(lambda x: num_edits[x])\n",
    "\n",
    "df.head()"
   ]
  },
  {
   "cell_type": "code",
   "execution_count": 7,
   "metadata": {},
   "outputs": [],
   "source": [
    "# find revert pairs\n",
    "revert_pairs = []\n",
    "revert_users = []\n",
    "for idx, row in df.iterrows():\n",
    "    if row['revert']=='1':\n",
    "        one = row['username']\n",
    "        org = df.iloc[int(row['index'])-1]\n",
    "        two = org['username']\n",
    "        revert_pairs.append((one, two))\n",
    "        if one not in revert_users:\n",
    "            revert_users.append(one)\n",
    "        if two not in revert_users:\n",
    "            revert_users.append(two)"
   ]
  },
  {
   "cell_type": "code",
   "execution_count": 8,
   "metadata": {},
   "outputs": [
    {
     "data": {
      "text/plain": [
       "12"
      ]
     },
     "execution_count": 8,
     "metadata": {},
     "output_type": "execute_result"
    }
   ],
   "source": [
    "#find mutual reverts\n",
    "mutual_rev_users = []\n",
    "for pair in revert_pairs:\n",
    "    one = pair[0]\n",
    "    two = pair[1]\n",
    "    \n",
    "    #mutual revert found\n",
    "    if (two, one) in revert_pairs:\n",
    "        mutual_rev_users.append(two)\n",
    "        mutual_rev_users.append(one)\n",
    "\n",
    "#remove duplicates, calculate num\n",
    "E = len(list(set(mutual_rev_users)))\n",
    "E"
   ]
  },
  {
   "cell_type": "code",
   "execution_count": 9,
   "metadata": {},
   "outputs": [
    {
     "data": {
      "text/plain": [
       "56100"
      ]
     },
     "execution_count": 9,
     "metadata": {},
     "output_type": "execute_result"
    }
   ],
   "source": [
    "#calculate M\n",
    "M = 0\n",
    "num_edits = df.username.value_counts()\n",
    "revert_pairs = list(set(revert_pairs))\n",
    "for pair in revert_pairs:\n",
    "    one = pair[0]\n",
    "    two = pair[1]\n",
    "    if num_edits[one] < num_edits[two]:\n",
    "        N = num_edits[one]\n",
    "    else:\n",
    "        N = num_edits[two]\n",
    "\n",
    "    M += N\n",
    "\n",
    "M *= E\n",
    "M"
   ]
  },
  {
   "cell_type": "code",
   "execution_count": null,
   "metadata": {},
   "outputs": [],
   "source": []
  },
  {
   "cell_type": "markdown",
   "metadata": {},
   "source": [
    "# EDA on light dump"
   ]
  },
  {
   "cell_type": "code",
   "execution_count": null,
   "metadata": {},
   "outputs": [],
   "source": [
    "light_dump = {}\n",
    "with open(\"../data/raw/lightdump/en_wiki.txt\", encoding = 'utf8') as file:\n",
    "    for line in file:\n",
    "        # title\n",
    "        if line[0]!= \"^\":\n",
    "            title = line\n",
    "            continue\n",
    "            \n",
    "        # data\n",
    "        if line[0] == \"^\":\n",
    "            if title in light_dump:\n",
    "                light_dump[title].append(line)\n",
    "            else:\n",
    "                light_dump[title] = [line]"
   ]
  },
  {
   "cell_type": "code",
   "execution_count": null,
   "metadata": {},
   "outputs": [],
   "source": [
    "df = pd.DataFrame(columns = ['time', 'revert', 'index', 'username', 'title'])\n",
    "\n",
    "counter = 0\n",
    "for key in light_dump:\n",
    "    counter += 1\n",
    "    data = [x[4:-1].split(\" \") for x in light_dump[key]]\n",
    "    chunk = pd.DataFrame(data = data, columns = ['time', 'revert', 'index', 'username'])\n",
    "    chunk['title'] = key.replace(\" \", \"\").replace(\"\\n\", \"\")\n",
    "    df = pd.concat([df, chunk])\n",
    "    if counter == 10000:\n",
    "        break\n",
    "    \n",
    "df.head()"
   ]
  },
  {
   "cell_type": "code",
   "execution_count": null,
   "metadata": {},
   "outputs": [],
   "source": [
    "df.time = pd.to_datetime(df.time)\n",
    "df.revert = df.revert.astype(int)\n",
    "df['index'] = df.index.astype(int)\n",
    "df.head()"
   ]
  },
  {
   "cell_type": "code",
   "execution_count": null,
   "metadata": {},
   "outputs": [],
   "source": [
    "df.revert.value_counts(normalize = True)"
   ]
  },
  {
   "cell_type": "code",
   "execution_count": null,
   "metadata": {},
   "outputs": [],
   "source": [
    "df[df.revert == 1].username.value_counts()[:10]"
   ]
  },
  {
   "cell_type": "code",
   "execution_count": null,
   "metadata": {},
   "outputs": [],
   "source": [
    "df[df.revert == 0].username.value_counts()[:10]"
   ]
  },
  {
   "cell_type": "code",
   "execution_count": null,
   "metadata": {},
   "outputs": [],
   "source": [
    "df.title.value_counts()[-9700:]"
   ]
  },
  {
   "cell_type": "code",
   "execution_count": null,
   "metadata": {},
   "outputs": [],
   "source": [
    "#158 reverts\n",
    "many = df[df.title == 'Zacarias_Moussaoui']\n",
    "print(many.revert.sum() / len(many.revert))\n",
    "\n",
    "many.plot(x = 'time', y = 'revert')"
   ]
  },
  {
   "cell_type": "code",
   "execution_count": null,
   "metadata": {},
   "outputs": [],
   "source": [
    "#little reverts\n",
    "little = df[df.title == 'Bella_Thorne']\n",
    "print(little.revert.sum() / len(little.revert))\n",
    "little.plot(x = 'time', y='revert')"
   ]
  },
  {
   "cell_type": "code",
   "execution_count": null,
   "metadata": {},
   "outputs": [],
   "source": [
    "#little reverts\n",
    "little = df[df.title == 'Centenary_Medal']\n",
    "print(little.revert.sum() / len(little.revert))\n",
    "\n",
    "little.plot(x = 'time', y='revert')"
   ]
  },
  {
   "cell_type": "code",
   "execution_count": null,
   "metadata": {},
   "outputs": [],
   "source": [
    "#little reverts\n",
    "little = df[df.title == 'Pope_Leo_X']\n",
    "print(little.revert.sum() / len(little.revert))\n",
    "little.plot(x = 'time', y='revert')"
   ]
  },
  {
   "cell_type": "code",
   "execution_count": null,
   "metadata": {},
   "outputs": [],
   "source": []
  },
  {
   "cell_type": "markdown",
   "metadata": {},
   "source": [
    "# participation 3"
   ]
  },
  {
   "cell_type": "code",
   "execution_count": 95,
   "metadata": {},
   "outputs": [],
   "source": [
    "content_2 = []\n",
    "with open(\"../data/testdata/en_wiki_test.txt\", encoding = 'utf8') as file:\n",
    "    \n",
    "    content_2 = file.readlines()\n"
   ]
  },
  {
   "cell_type": "code",
   "execution_count": 91,
   "metadata": {},
   "outputs": [
    {
     "data": {
      "text/html": [
       "<div>\n",
       "<style scoped>\n",
       "    .dataframe tbody tr th:only-of-type {\n",
       "        vertical-align: middle;\n",
       "    }\n",
       "\n",
       "    .dataframe tbody tr th {\n",
       "        vertical-align: top;\n",
       "    }\n",
       "\n",
       "    .dataframe thead th {\n",
       "        text-align: right;\n",
       "    }\n",
       "</style>\n",
       "<table border=\"1\" class=\"dataframe\">\n",
       "  <thead>\n",
       "    <tr style=\"text-align: right;\">\n",
       "      <th></th>\n",
       "      <th>timestamp</th>\n",
       "      <th>comment</th>\n",
       "      <th>username</th>\n",
       "      <th>revert</th>\n",
       "    </tr>\n",
       "  </thead>\n",
       "  <tbody>\n",
       "    <tr>\n",
       "      <th>0</th>\n",
       "      <td>[2002-02-21T15:11:49Z]</td>\n",
       "      <td>[*]</td>\n",
       "      <td>[David Parker]</td>\n",
       "      <td>0</td>\n",
       "    </tr>\n",
       "    <tr>\n",
       "      <th>1</th>\n",
       "      <td>[2002-02-21T15:14:16Z]</td>\n",
       "      <td>[remove self-link; some other editing]</td>\n",
       "      <td>[Vicki Rosenzweig]</td>\n",
       "      <td>0</td>\n",
       "    </tr>\n",
       "    <tr>\n",
       "      <th>2</th>\n",
       "      <td>[2002-02-21T16:06:19Z]</td>\n",
       "      <td>[*]</td>\n",
       "      <td>[David Parker]</td>\n",
       "      <td>0</td>\n",
       "    </tr>\n",
       "    <tr>\n",
       "      <th>3</th>\n",
       "      <td>[2002-02-24T08:19:24Z]</td>\n",
       "      <td>[Oops! Richard I, not a Robert! And it was mor...</td>\n",
       "      <td>[David Parker]</td>\n",
       "      <td>0</td>\n",
       "    </tr>\n",
       "    <tr>\n",
       "      <th>4</th>\n",
       "      <td>[2002-02-25T15:51:15Z]</td>\n",
       "      <td>[*]</td>\n",
       "      <td>[David Parker]</td>\n",
       "      <td>0</td>\n",
       "    </tr>\n",
       "  </tbody>\n",
       "</table>\n",
       "</div>"
      ],
      "text/plain": [
       "                timestamp                                            comment  \\\n",
       "0  [2002-02-21T15:11:49Z]                                                [*]   \n",
       "1  [2002-02-21T15:14:16Z]             [remove self-link; some other editing]   \n",
       "2  [2002-02-21T16:06:19Z]                                                [*]   \n",
       "3  [2002-02-24T08:19:24Z]  [Oops! Richard I, not a Robert! And it was mor...   \n",
       "4  [2002-02-25T15:51:15Z]                                                [*]   \n",
       "\n",
       "             username  revert  \n",
       "0      [David Parker]       0  \n",
       "1  [Vicki Rosenzweig]       0  \n",
       "2      [David Parker]       0  \n",
       "3      [David Parker]       0  \n",
       "4      [David Parker]       0  "
      ]
     },
     "execution_count": 91,
     "metadata": {},
     "output_type": "execute_result"
    }
   ],
   "source": [
    "# wikidump data\n",
    "revision = wiki_data.find_all(\"revision\")\n",
    "\n",
    "timestamp = [x.timestamp for x in revision]\n",
    "comment = [x.comment for x in revision]\n",
    "username = [x.username for x in revision]\n",
    "\n",
    "d = {'timestamp': timestamp, 'comment': comment, 'username': username}\n",
    "df = pd.DataFrame(data = d)\n",
    "\n",
    "revert = [(\"revert\" in str(x).lower()) for x in comment]\n",
    "revert = [1 if x== True else 0 for x in revert]\n",
    "\n",
    "df['revert'] = revert\n",
    "df.head()"
   ]
  },
  {
   "cell_type": "code",
   "execution_count": 111,
   "metadata": {},
   "outputs": [
    {
     "name": "stdout",
     "output_type": "stream",
     "text": [
      "^^^_2009-12-16T02:31:41Z 0 267 128.205.63.225\n",
      "\n"
     ]
    },
    {
     "data": {
      "text/plain": [
       "['2009-12-16T02:31:41Z',\n",
       " '2009-12-02T18:08:00Z',\n",
       " '2009-12-02T13:55:48Z',\n",
       " '2009-11-28T18:33:42Z',\n",
       " '2009-11-23T23:14:17Z']"
      ]
     },
     "execution_count": 111,
     "metadata": {},
     "output_type": "execute_result"
    }
   ],
   "source": [
    "light_dump = [x for x in content_2 if \"^^^\" in x]\n",
    "light_dump[:5]\n",
    "\n",
    "print(light_dump[0])\n",
    "light_timestamp = [x[4:24] for x in light_dump]\n",
    "\n",
    "light_timestamp[:5]"
   ]
  },
  {
   "cell_type": "code",
   "execution_count": 131,
   "metadata": {},
   "outputs": [
    {
     "data": {
      "text/plain": [
       "'2009-12-16T02:31:41Z'"
      ]
     },
     "execution_count": 131,
     "metadata": {},
     "output_type": "execute_result"
    }
   ],
   "source": [
    "light_timestamp[0]"
   ]
  },
  {
   "cell_type": "code",
   "execution_count": 135,
   "metadata": {},
   "outputs": [
    {
     "data": {
      "text/plain": [
       "'2002-02-21T15:11:49Z'"
      ]
     },
     "execution_count": 135,
     "metadata": {},
     "output_type": "execute_result"
    }
   ],
   "source": [
    "str(timestamp[0]).replace(\"<timestamp>\", \"\").replace(\"</timestamp>\", \"\")"
   ]
  },
  {
   "cell_type": "code",
   "execution_count": 136,
   "metadata": {
    "scrolled": true
   },
   "outputs": [
    {
     "data": {
      "text/html": [
       "<div>\n",
       "<style scoped>\n",
       "    .dataframe tbody tr th:only-of-type {\n",
       "        vertical-align: middle;\n",
       "    }\n",
       "\n",
       "    .dataframe tbody tr th {\n",
       "        vertical-align: top;\n",
       "    }\n",
       "\n",
       "    .dataframe thead th {\n",
       "        text-align: right;\n",
       "    }\n",
       "</style>\n",
       "<table border=\"1\" class=\"dataframe\">\n",
       "  <thead>\n",
       "    <tr style=\"text-align: right;\">\n",
       "      <th></th>\n",
       "      <th>timestamp</th>\n",
       "      <th>comment</th>\n",
       "      <th>username</th>\n",
       "      <th>revert</th>\n",
       "      <th>in_light</th>\n",
       "    </tr>\n",
       "  </thead>\n",
       "  <tbody>\n",
       "    <tr>\n",
       "      <th>0</th>\n",
       "      <td>[2002-02-21T15:11:49Z]</td>\n",
       "      <td>[*]</td>\n",
       "      <td>[David Parker]</td>\n",
       "      <td>0</td>\n",
       "      <td>True</td>\n",
       "    </tr>\n",
       "    <tr>\n",
       "      <th>1</th>\n",
       "      <td>[2002-02-21T15:14:16Z]</td>\n",
       "      <td>[remove self-link; some other editing]</td>\n",
       "      <td>[Vicki Rosenzweig]</td>\n",
       "      <td>0</td>\n",
       "      <td>True</td>\n",
       "    </tr>\n",
       "    <tr>\n",
       "      <th>2</th>\n",
       "      <td>[2002-02-21T16:06:19Z]</td>\n",
       "      <td>[*]</td>\n",
       "      <td>[David Parker]</td>\n",
       "      <td>0</td>\n",
       "      <td>True</td>\n",
       "    </tr>\n",
       "    <tr>\n",
       "      <th>3</th>\n",
       "      <td>[2002-02-24T08:19:24Z]</td>\n",
       "      <td>[Oops! Richard I, not a Robert! And it was mor...</td>\n",
       "      <td>[David Parker]</td>\n",
       "      <td>0</td>\n",
       "      <td>True</td>\n",
       "    </tr>\n",
       "    <tr>\n",
       "      <th>4</th>\n",
       "      <td>[2002-02-25T15:51:15Z]</td>\n",
       "      <td>[*]</td>\n",
       "      <td>[David Parker]</td>\n",
       "      <td>0</td>\n",
       "      <td>True</td>\n",
       "    </tr>\n",
       "  </tbody>\n",
       "</table>\n",
       "</div>"
      ],
      "text/plain": [
       "                timestamp                                            comment  \\\n",
       "0  [2002-02-21T15:11:49Z]                                                [*]   \n",
       "1  [2002-02-21T15:14:16Z]             [remove self-link; some other editing]   \n",
       "2  [2002-02-21T16:06:19Z]                                                [*]   \n",
       "3  [2002-02-24T08:19:24Z]  [Oops! Richard I, not a Robert! And it was mor...   \n",
       "4  [2002-02-25T15:51:15Z]                                                [*]   \n",
       "\n",
       "             username  revert  in_light  \n",
       "0      [David Parker]       0      True  \n",
       "1  [Vicki Rosenzweig]       0      True  \n",
       "2      [David Parker]       0      True  \n",
       "3      [David Parker]       0      True  \n",
       "4      [David Parker]       0      True  "
      ]
     },
     "execution_count": 136,
     "metadata": {},
     "output_type": "execute_result"
    }
   ],
   "source": [
    "in_light = [True if str(x).replace(\"<timestamp>\", \"\").replace(\"</timestamp>\", \"\") in light_timestamp else False for x in timestamp]\n",
    "n_light = [1 if x== True else 0 for x in in_light]\n",
    "\n",
    "df['in_light'] = in_light\n",
    "df.head()"
   ]
  },
  {
   "cell_type": "code",
   "execution_count": 137,
   "metadata": {},
   "outputs": [
    {
     "data": {
      "text/plain": [
       "34"
      ]
     },
     "execution_count": 137,
     "metadata": {},
     "output_type": "execute_result"
    }
   ],
   "source": [
    "sum((df.revert == 1) & (df.in_light == 1))"
   ]
  },
  {
   "cell_type": "code",
   "execution_count": null,
   "metadata": {},
   "outputs": [],
   "source": []
  }
 ],
 "metadata": {
  "kernelspec": {
   "display_name": "Python 3",
   "language": "python",
   "name": "python3"
  },
  "language_info": {
   "codemirror_mode": {
    "name": "ipython",
    "version": 3
   },
   "file_extension": ".py",
   "mimetype": "text/x-python",
   "name": "python",
   "nbconvert_exporter": "python",
   "pygments_lexer": "ipython3",
   "version": "3.7.6"
  }
 },
 "nbformat": 4,
 "nbformat_minor": 4
}
