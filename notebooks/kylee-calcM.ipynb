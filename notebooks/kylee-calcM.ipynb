{
 "cells": [
  {
   "cell_type": "code",
   "execution_count": 1,
   "metadata": {},
   "outputs": [],
   "source": [
    "import numpy as np\n",
    "import pandas as pd\n",
    "import sys\n",
    "from bs4 import BeautifulSoup\n",
    "import matplotlib.pyplot as plt\n"
   ]
  },
  {
   "cell_type": "markdown",
   "metadata": {},
   "source": [
    "# calculate M for single article"
   ]
  },
  {
   "cell_type": "code",
   "execution_count": 14,
   "metadata": {},
   "outputs": [],
   "source": [
    "light_dump = []\n",
    "naruto = False\n",
    "with open(\"../data/raw/lightdump/es_wiki.txt\", encoding = 'utf8') as file:\n",
    "    for line in file:\n",
    "        if (line[0]!= \"^\") & naruto:\n",
    "            break\n",
    "        \n",
    "        if line.strip() == 'Naruto':\n",
    "            naruto = True\n",
    "            continue\n",
    "            \n",
    "        if naruto:\n",
    "            light_dump.append(line)"
   ]
  },
  {
   "cell_type": "code",
   "execution_count": 15,
   "metadata": {},
   "outputs": [],
   "source": [
    "light_dump.reverse()\n",
    "# 24400.0\tNaruto"
   ]
  },
  {
   "cell_type": "code",
   "execution_count": 16,
   "metadata": {},
   "outputs": [
    {
     "data": {
      "text/plain": [
       "[['2004-04-03T13:42:17Z', '0', '1', 'Sabbut'],\n",
       " ['2004-04-03T14:09:31Z', '0', '2', 'Sabbut'],\n",
       " ['2004-04-11T23:07:42Z', '0', '3', 'Moriel'],\n",
       " ['2004-05-23T22:28:21Z', '0', '4', 'Yas'],\n",
       " ['2004-07-24T23:14:58Z', '0', '5', 'Sabbut'],\n",
       " ['2004-08-24T11:38:33Z', '0', '6', 'Sabbut'],\n",
       " ['2004-10-14T08:45:29Z', '0', '7', '80.58.15.107'],\n",
       " ['2004-10-14T15:43:35Z', '0', '8', 'Efremigio'],\n",
       " ['2004-10-18T00:41:27Z', '0', '9', '156.34.70.223'],\n",
       " ['2004-10-18T00:44:39Z', '0', '10', '156.34.70.223'],\n",
       " ['2004-10-24T12:16:40Z', '0', '11', 'Sabbut'],\n",
       " ['2004-10-24T12:21:00Z', '0', '12', 'Sabbut'],\n",
       " ['2004-10-24T12:22:08Z', '0', '13', 'Sabbut'],\n",
       " ['2004-10-24T12:23:54Z', '0', '14', 'Sabbut'],\n",
       " ['2004-10-31T07:54:05Z', '0', '15', 'Sms'],\n",
       " ['2004-11-13T01:30:17Z', '0', '16', 'Kiba'],\n",
       " ['2004-11-18T23:34:20Z', '0', '17', '80.58.3.170'],\n",
       " ['2004-12-01T00:16:56Z', '0', '18', 'Celeron'],\n",
       " ['2004-12-06T15:30:32Z', '0', '19', 'Sale'],\n",
       " ['2004-12-06T22:35:32Z', '0', '20', 'Sabbut'],\n",
       " ['2004-12-06T22:37:59Z', '0', '21', 'Sabbut'],\n",
       " ['2004-12-10T01:22:35Z', '0', '22', '82.194.138.104'],\n",
       " ['2005-01-21T01:51:57Z', '0', '23', 'WhisperToMe'],\n",
       " ['2005-01-21T01:56:52Z', '0', '24', 'WhisperToMe'],\n",
       " ['2005-01-21T01:57:30Z', '0', '25', 'WhisperToMe'],\n",
       " ['2005-01-21T23:05:21Z', '0', '26', 'WhisperToMe'],\n",
       " ['2005-01-22T07:56:47Z', '0', '27', 'Sabbut'],\n",
       " ['2005-01-22T07:57:01Z', '0', '28', 'Sabbut'],\n",
       " ['2005-01-28T13:55:30Z', '0', '29', '216.241.14.10'],\n",
       " ['2005-01-28T14:04:34Z', '0', '30', '216.241.14.10'],\n",
       " ['2005-01-28T17:20:02Z', '0', '31', 'Sabbut'],\n",
       " ['2005-01-28T17:27:22Z', '0', '32', 'Sabbut'],\n",
       " ['2005-01-29T02:05:22Z', '0', '33', 'WhisperToMe'],\n",
       " ['2005-02-10T20:43:55Z', '0', '34', 'Sabbut'],\n",
       " ['2005-02-19T22:54:35Z', '0', '35', '81.60.192.68'],\n",
       " ['2005-03-17T17:49:21Z', '0', '36', '80.58.21.170'],\n",
       " ['2005-03-19T11:29:56Z', '0', '37', '81.60.137.190'],\n",
       " ['2005-03-22T14:57:29Z', '0', '38', '66.98.12.190'],\n",
       " ['2005-03-22T14:58:20Z', '0', '39', '66.98.12.190'],\n",
       " ['2005-03-22T18:30:37Z', '1', '37', 'Dodo'],\n",
       " ['2005-04-16T18:27:15Z', '0', '40', '200.66.3.77'],\n",
       " ['2005-04-20T22:29:40Z', '0', '41', '201.137.183.228'],\n",
       " ['2005-04-20T22:29:59Z', '0', '42', '201.137.183.228'],\n",
       " ['2005-04-20T22:30:34Z', '0', '43', '201.137.183.228'],\n",
       " ['2005-04-20T22:30:52Z', '0', '44', '201.137.183.228']]"
      ]
     },
     "execution_count": 16,
     "metadata": {},
     "output_type": "execute_result"
    }
   ],
   "source": [
    "light_dump = [x[4:-1].split(' ') for x in light_dump]\n",
    "light_dump[:45]"
   ]
  },
  {
   "cell_type": "code",
   "execution_count": 5,
   "metadata": {},
   "outputs": [
    {
     "data": {
      "text/html": [
       "<div>\n",
       "<style scoped>\n",
       "    .dataframe tbody tr th:only-of-type {\n",
       "        vertical-align: middle;\n",
       "    }\n",
       "\n",
       "    .dataframe tbody tr th {\n",
       "        vertical-align: top;\n",
       "    }\n",
       "\n",
       "    .dataframe thead th {\n",
       "        text-align: right;\n",
       "    }\n",
       "</style>\n",
       "<table border=\"1\" class=\"dataframe\">\n",
       "  <thead>\n",
       "    <tr style=\"text-align: right;\">\n",
       "      <th></th>\n",
       "      <th>time</th>\n",
       "      <th>revert</th>\n",
       "      <th>index</th>\n",
       "      <th>username</th>\n",
       "      <th>num_edits</th>\n",
       "    </tr>\n",
       "  </thead>\n",
       "  <tbody>\n",
       "    <tr>\n",
       "      <th>0</th>\n",
       "      <td>2004-04-03T13:42:17Z</td>\n",
       "      <td>0</td>\n",
       "      <td>1</td>\n",
       "      <td>Sabbut</td>\n",
       "      <td>18</td>\n",
       "    </tr>\n",
       "    <tr>\n",
       "      <th>1</th>\n",
       "      <td>2004-04-03T14:09:31Z</td>\n",
       "      <td>0</td>\n",
       "      <td>2</td>\n",
       "      <td>Sabbut</td>\n",
       "      <td>18</td>\n",
       "    </tr>\n",
       "    <tr>\n",
       "      <th>2</th>\n",
       "      <td>2004-04-11T23:07:42Z</td>\n",
       "      <td>0</td>\n",
       "      <td>3</td>\n",
       "      <td>Moriel</td>\n",
       "      <td>1</td>\n",
       "    </tr>\n",
       "    <tr>\n",
       "      <th>3</th>\n",
       "      <td>2004-05-23T22:28:21Z</td>\n",
       "      <td>0</td>\n",
       "      <td>4</td>\n",
       "      <td>Yas</td>\n",
       "      <td>1</td>\n",
       "    </tr>\n",
       "    <tr>\n",
       "      <th>4</th>\n",
       "      <td>2004-07-24T23:14:58Z</td>\n",
       "      <td>0</td>\n",
       "      <td>5</td>\n",
       "      <td>Sabbut</td>\n",
       "      <td>18</td>\n",
       "    </tr>\n",
       "  </tbody>\n",
       "</table>\n",
       "</div>"
      ],
      "text/plain": [
       "                   time revert index username  num_edits\n",
       "0  2004-04-03T13:42:17Z      0     1   Sabbut         18\n",
       "1  2004-04-03T14:09:31Z      0     2   Sabbut         18\n",
       "2  2004-04-11T23:07:42Z      0     3   Moriel          1\n",
       "3  2004-05-23T22:28:21Z      0     4      Yas          1\n",
       "4  2004-07-24T23:14:58Z      0     5   Sabbut         18"
      ]
     },
     "execution_count": 5,
     "metadata": {},
     "output_type": "execute_result"
    }
   ],
   "source": [
    "df = pd.DataFrame(data = light_dump, columns = ['time', 'revert', 'index', 'username'])\n",
    "# num of edits\n",
    "num_edits = df.username.value_counts()\n",
    "df['num_edits'] = df.username.apply(lambda x: num_edits[x])\n",
    "\n",
    "df.head()"
   ]
  },
  {
   "cell_type": "code",
   "execution_count": 6,
   "metadata": {},
   "outputs": [],
   "source": [
    "# find revert pairs\n",
    "revert_pairs = []\n",
    "revert_users = []\n",
    "for idx, row in df.iterrows():\n",
    "    if row['revert']=='1':\n",
    "        one = row['username']\n",
    "        org = df.iloc[int(row['index'])-1]\n",
    "        two = org['username']\n",
    "        revert_pairs.append((one, two))\n",
    "        if one not in revert_users:\n",
    "            revert_users.append(one)\n",
    "        if two not in revert_users:\n",
    "            revert_users.append(two)"
   ]
  },
  {
   "cell_type": "code",
   "execution_count": 7,
   "metadata": {},
   "outputs": [
    {
     "data": {
      "text/plain": [
       "12"
      ]
     },
     "execution_count": 7,
     "metadata": {},
     "output_type": "execute_result"
    }
   ],
   "source": [
    "#find mutual reverts\n",
    "mutual_rev_users = []\n",
    "for pair in revert_pairs:\n",
    "    one = pair[0]\n",
    "    two = pair[1]\n",
    "    \n",
    "    #mutual revert found\n",
    "    if (two, one) in revert_pairs:\n",
    "        mutual_rev_users.append(two)\n",
    "        mutual_rev_users.append(one)\n",
    "\n",
    "#remove duplicates, calculate num\n",
    "E = len(list(set(mutual_rev_users)))\n",
    "E"
   ]
  },
  {
   "cell_type": "code",
   "execution_count": 8,
   "metadata": {},
   "outputs": [
    {
     "data": {
      "text/plain": [
       "56100"
      ]
     },
     "execution_count": 8,
     "metadata": {},
     "output_type": "execute_result"
    }
   ],
   "source": [
    "#calculate M\n",
    "M = 0\n",
    "num_edits = df.username.value_counts()\n",
    "revert_pairs = list(set(revert_pairs))\n",
    "for pair in revert_pairs:\n",
    "    one = pair[0]\n",
    "    two = pair[1]\n",
    "    if num_edits[one] < num_edits[two]:\n",
    "        N = num_edits[one]\n",
    "    else:\n",
    "        N = num_edits[two]\n",
    "\n",
    "    M += N\n",
    "\n",
    "M *= E\n",
    "M"
   ]
  },
  {
   "cell_type": "code",
   "execution_count": null,
   "metadata": {},
   "outputs": [],
   "source": []
  },
  {
   "cell_type": "code",
   "execution_count": null,
   "metadata": {},
   "outputs": [],
   "source": []
  },
  {
   "cell_type": "code",
   "execution_count": null,
   "metadata": {},
   "outputs": [],
   "source": []
  },
  {
   "cell_type": "code",
   "execution_count": 9,
   "metadata": {},
   "outputs": [],
   "source": [
    "# #calc M\n",
    "# import sys;\n",
    "\n",
    "# revert = 0\n",
    "# revert_pairs = []\n",
    "\n",
    "# #the list of mutual reverting pairs\n",
    "# mutual_revert_pairs = []\n",
    "# #the list of unique users among reverting pairs\n",
    "# mutual_revert_users = []\n",
    "\n",
    "# #a dictionary of user as key, and his number of edits as the value\n",
    "# user_edits = {}\n",
    "\n",
    "# #a dictionary with the line number (actual version number) as key, \n",
    "# #and the line label as value(i.e. line label is either the same as version number if not revert version, or equal to an older version number if it's a revert version)\n",
    "# lineLabels = []\n",
    "\n",
    "# #a dictionary with the line number (actual version number) as key, and the author of that line as value\n",
    "# lineAuthors = []\n",
    "\n",
    "# def getMutual():\n",
    "#     global revert_users\n",
    "#     global mutual_revert_users\n",
    "\n",
    "#     for pair in revert_pairs:\n",
    "#         parts = pair.split(\"~!~\")\n",
    "#         if parts[1] + \"~!~\" + parts[0] in revert_pairs:\n",
    "#             sorted_pair = \"\"\n",
    "#             if parts[0] < parts[1]:\n",
    "#                 sorted_pair = parts[0] + \"~!~\" + parts[1]\n",
    "#             else:\n",
    "#                 sorted_pair = parts[1] + \"~!~\" + parts[0]\n",
    "#             mutual_revert_pairs.append(sorted_pair)\n",
    "#             if parts[1] not in mutual_revert_users:\n",
    "#                 mutual_revert_users.append(parts[1])\n",
    "#             if parts[0] not in mutual_revert_users:\n",
    "#                 mutual_revert_users.append(parts[0])\n",
    "\n",
    "# def printMutualPairs():\n",
    "#     global mutual_revert_pairs\n",
    "#     for pair in mutual_revert_pairs:\n",
    "#         print(pair)\n",
    "\n",
    "# def getLine(label):\n",
    "#     global lineLabels\n",
    "#     for line, ll in reversed(list(enumerate(lineLabels))):\n",
    "#         if lineLabels[line] == label:\n",
    "#             return line\n",
    "\n",
    "# def readFile():\n",
    "#     global user_edits\n",
    "#     global revert_pairs\n",
    "#     global lineLabels\n",
    "#     global lineAuthors\n",
    "#     global revert\n",
    "#     for ln in light_dump:\n",
    "#         parts = ln.strip().split(\" \");\n",
    "\n",
    "#         # number of edits per user\n",
    "#         if parts[3] not in user_edits:\n",
    "#             user_edits[parts[3]] = 1\n",
    "#         else:\n",
    "#             user_edits[parts[3]] = user_edits[parts[3]] + 1\n",
    "\n",
    "#         # revert\n",
    "#         if parts[1] == '1':\n",
    "            \n",
    "#             revert += 1\n",
    "#             #the found line is the version i-1 equal to this version j, \n",
    "#             # and the revert is assumed to be between the author of i, and j\n",
    "#             line = getLine(int(parts[2]))            \n",
    "            \n",
    "#             #ignore cases when i-1, and i are equal (consecutive versions)\n",
    "#             if line >= len(lineLabels)-1:\n",
    "#                 continue\n",
    "#             revertedU = lineAuthors[line + 1]\n",
    "#             revertingU = parts[3]\n",
    "#             if revertedU == revertingU:\n",
    "#                 continue\n",
    "#             pair = revertedU + \"~!~\" + revertingU\n",
    "#             if pair not in revert_pairs:\n",
    "#                 revert_pairs.append(pair)\n",
    "#         lineLabels.append(int(parts[2]))\n",
    "#         lineAuthors.append(parts[3])\n",
    "\n",
    "# #main part\n",
    "# readFile()\n",
    "# # number of reverts\n",
    "# # print revert\n",
    "\n",
    "# #calculating the score\n",
    "# getMutual()\n",
    "# score = 0\n",
    "# for pair in list(set(mutual_revert_pairs)):\n",
    "#     parts = pair.split(\"~!~\")\n",
    "#     u1 = parts[0]\n",
    "#     u2 = parts[1]\n",
    "#     if user_edits[u1]<user_edits[u2]:\n",
    "#         edit_min = user_edits[u1]\n",
    "#     else:\n",
    "#         edit_min = user_edits[u2]\n",
    "# #     print(pair + \":\" + str(edit_min))\n",
    "#     score += edit_min\n",
    "\n",
    "# score *= len(mutual_revert_users)    \n",
    "# print(score)"
   ]
  },
  {
   "cell_type": "code",
   "execution_count": null,
   "metadata": {},
   "outputs": [],
   "source": []
  },
  {
   "cell_type": "code",
   "execution_count": null,
   "metadata": {},
   "outputs": [],
   "source": []
  },
  {
   "cell_type": "markdown",
   "metadata": {},
   "source": [
    "# EDA on light dump"
   ]
  },
  {
   "cell_type": "code",
   "execution_count": 10,
   "metadata": {},
   "outputs": [],
   "source": [
    "light_dump = {}\n",
    "with open(\"../data/lightdump/simple_wiki.txt\", encoding = 'utf8') as file:\n",
    "    for line in file:\n",
    "        # title\n",
    "        if line[0]!= \"^\":\n",
    "            title = line\n",
    "            continue\n",
    "            \n",
    "        # data\n",
    "        if line[0] == \"^\":\n",
    "            if title in light_dump:\n",
    "                light_dump[title].append(line)\n",
    "            else:\n",
    "                light_dump[title] = [line]"
   ]
  },
  {
   "cell_type": "code",
   "execution_count": 11,
   "metadata": {},
   "outputs": [
    {
     "data": {
      "text/html": [
       "<div>\n",
       "<style scoped>\n",
       "    .dataframe tbody tr th:only-of-type {\n",
       "        vertical-align: middle;\n",
       "    }\n",
       "\n",
       "    .dataframe tbody tr th {\n",
       "        vertical-align: top;\n",
       "    }\n",
       "\n",
       "    .dataframe thead th {\n",
       "        text-align: right;\n",
       "    }\n",
       "</style>\n",
       "<table border=\"1\" class=\"dataframe\">\n",
       "  <thead>\n",
       "    <tr style=\"text-align: right;\">\n",
       "      <th></th>\n",
       "      <th>time</th>\n",
       "      <th>revert</th>\n",
       "      <th>index</th>\n",
       "      <th>username</th>\n",
       "      <th>title</th>\n",
       "    </tr>\n",
       "  </thead>\n",
       "  <tbody>\n",
       "    <tr>\n",
       "      <th>0</th>\n",
       "      <td>2011-10-28T12:51:21Z</td>\n",
       "      <td>0</td>\n",
       "      <td>2</td>\n",
       "      <td>MystBot</td>\n",
       "      <td>Herbert_Art_Gallery_and_Museum</td>\n",
       "    </tr>\n",
       "    <tr>\n",
       "      <th>1</th>\n",
       "      <td>2011-10-28T12:28:07Z</td>\n",
       "      <td>0</td>\n",
       "      <td>1</td>\n",
       "      <td>Rock_drum</td>\n",
       "      <td>Herbert_Art_Gallery_and_Museum</td>\n",
       "    </tr>\n",
       "    <tr>\n",
       "      <th>0</th>\n",
       "      <td>2011-10-28T08:32:39Z</td>\n",
       "      <td>0</td>\n",
       "      <td>7</td>\n",
       "      <td>DJDunsie</td>\n",
       "      <td>Waiting_to_Exhale</td>\n",
       "    </tr>\n",
       "    <tr>\n",
       "      <th>1</th>\n",
       "      <td>2011-10-28T08:32:21Z</td>\n",
       "      <td>0</td>\n",
       "      <td>6</td>\n",
       "      <td>DJDunsie</td>\n",
       "      <td>Waiting_to_Exhale</td>\n",
       "    </tr>\n",
       "    <tr>\n",
       "      <th>2</th>\n",
       "      <td>2011-10-28T08:31:56Z</td>\n",
       "      <td>0</td>\n",
       "      <td>5</td>\n",
       "      <td>DJDunsie</td>\n",
       "      <td>Waiting_to_Exhale</td>\n",
       "    </tr>\n",
       "  </tbody>\n",
       "</table>\n",
       "</div>"
      ],
      "text/plain": [
       "                   time revert index   username  \\\n",
       "0  2011-10-28T12:51:21Z      0     2    MystBot   \n",
       "1  2011-10-28T12:28:07Z      0     1  Rock_drum   \n",
       "0  2011-10-28T08:32:39Z      0     7   DJDunsie   \n",
       "1  2011-10-28T08:32:21Z      0     6   DJDunsie   \n",
       "2  2011-10-28T08:31:56Z      0     5   DJDunsie   \n",
       "\n",
       "                            title  \n",
       "0  Herbert_Art_Gallery_and_Museum  \n",
       "1  Herbert_Art_Gallery_and_Museum  \n",
       "0               Waiting_to_Exhale  \n",
       "1               Waiting_to_Exhale  \n",
       "2               Waiting_to_Exhale  "
      ]
     },
     "execution_count": 11,
     "metadata": {},
     "output_type": "execute_result"
    }
   ],
   "source": [
    "df = pd.DataFrame(columns = ['time', 'revert', 'index', 'username', 'title'])\n",
    "\n",
    "counter = 0\n",
    "for key in light_dump:\n",
    "    counter += 1\n",
    "    data = [x[4:-1].split(\" \") for x in light_dump[key]]\n",
    "    chunk = pd.DataFrame(data = data, columns = ['time', 'revert', 'index', 'username'])\n",
    "    chunk['title'] = key.replace(\" \", \"\").replace(\"\\n\", \"\")\n",
    "    df = pd.concat([df, chunk])\n",
    "    if counter == 10000:\n",
    "        break\n",
    "    \n",
    "df.head()"
   ]
  },
  {
   "cell_type": "code",
   "execution_count": 12,
   "metadata": {},
   "outputs": [
    {
     "data": {
      "text/html": [
       "<div>\n",
       "<style scoped>\n",
       "    .dataframe tbody tr th:only-of-type {\n",
       "        vertical-align: middle;\n",
       "    }\n",
       "\n",
       "    .dataframe tbody tr th {\n",
       "        vertical-align: top;\n",
       "    }\n",
       "\n",
       "    .dataframe thead th {\n",
       "        text-align: right;\n",
       "    }\n",
       "</style>\n",
       "<table border=\"1\" class=\"dataframe\">\n",
       "  <thead>\n",
       "    <tr style=\"text-align: right;\">\n",
       "      <th></th>\n",
       "      <th>time</th>\n",
       "      <th>revert</th>\n",
       "      <th>index</th>\n",
       "      <th>username</th>\n",
       "      <th>title</th>\n",
       "    </tr>\n",
       "  </thead>\n",
       "  <tbody>\n",
       "    <tr>\n",
       "      <th>0</th>\n",
       "      <td>2011-10-28 12:51:21+00:00</td>\n",
       "      <td>0</td>\n",
       "      <td>0</td>\n",
       "      <td>MystBot</td>\n",
       "      <td>Herbert_Art_Gallery_and_Museum</td>\n",
       "    </tr>\n",
       "    <tr>\n",
       "      <th>1</th>\n",
       "      <td>2011-10-28 12:28:07+00:00</td>\n",
       "      <td>0</td>\n",
       "      <td>1</td>\n",
       "      <td>Rock_drum</td>\n",
       "      <td>Herbert_Art_Gallery_and_Museum</td>\n",
       "    </tr>\n",
       "    <tr>\n",
       "      <th>0</th>\n",
       "      <td>2011-10-28 08:32:39+00:00</td>\n",
       "      <td>0</td>\n",
       "      <td>0</td>\n",
       "      <td>DJDunsie</td>\n",
       "      <td>Waiting_to_Exhale</td>\n",
       "    </tr>\n",
       "    <tr>\n",
       "      <th>1</th>\n",
       "      <td>2011-10-28 08:32:21+00:00</td>\n",
       "      <td>0</td>\n",
       "      <td>1</td>\n",
       "      <td>DJDunsie</td>\n",
       "      <td>Waiting_to_Exhale</td>\n",
       "    </tr>\n",
       "    <tr>\n",
       "      <th>2</th>\n",
       "      <td>2011-10-28 08:31:56+00:00</td>\n",
       "      <td>0</td>\n",
       "      <td>2</td>\n",
       "      <td>DJDunsie</td>\n",
       "      <td>Waiting_to_Exhale</td>\n",
       "    </tr>\n",
       "  </tbody>\n",
       "</table>\n",
       "</div>"
      ],
      "text/plain": [
       "                       time  revert  index   username  \\\n",
       "0 2011-10-28 12:51:21+00:00       0      0    MystBot   \n",
       "1 2011-10-28 12:28:07+00:00       0      1  Rock_drum   \n",
       "0 2011-10-28 08:32:39+00:00       0      0   DJDunsie   \n",
       "1 2011-10-28 08:32:21+00:00       0      1   DJDunsie   \n",
       "2 2011-10-28 08:31:56+00:00       0      2   DJDunsie   \n",
       "\n",
       "                            title  \n",
       "0  Herbert_Art_Gallery_and_Museum  \n",
       "1  Herbert_Art_Gallery_and_Museum  \n",
       "0               Waiting_to_Exhale  \n",
       "1               Waiting_to_Exhale  \n",
       "2               Waiting_to_Exhale  "
      ]
     },
     "execution_count": 12,
     "metadata": {},
     "output_type": "execute_result"
    }
   ],
   "source": [
    "df.time = pd.to_datetime(df.time)\n",
    "df.revert = df.revert.astype(int)\n",
    "df['index'] = df.index.astype(int)\n",
    "df.head()"
   ]
  },
  {
   "cell_type": "code",
   "execution_count": 13,
   "metadata": {},
   "outputs": [
    {
     "data": {
      "text/plain": [
       "0    0.94831\n",
       "1    0.05169\n",
       "Name: revert, dtype: float64"
      ]
     },
     "execution_count": 13,
     "metadata": {},
     "output_type": "execute_result"
    }
   ],
   "source": [
    "df.revert.value_counts(normalize = True)"
   ]
  },
  {
   "cell_type": "code",
   "execution_count": 14,
   "metadata": {},
   "outputs": [
    {
     "data": {
      "text/plain": [
       "Djsasso            213\n",
       "GoblinBot4         124\n",
       "Barliner           121\n",
       "Peterdownunder     111\n",
       "SEPTActaMTA8235     73\n",
       "Auntof6             70\n",
       "Kansan              67\n",
       "Kueller1            66\n",
       "72.88.61.80         65\n",
       "Pmlineditor         62\n",
       "Name: username, dtype: int64"
      ]
     },
     "execution_count": 14,
     "metadata": {},
     "output_type": "execute_result"
    }
   ],
   "source": [
    "df[df.revert == 1].username.value_counts()[:10]"
   ]
  },
  {
   "cell_type": "code",
   "execution_count": 15,
   "metadata": {},
   "outputs": [
    {
     "data": {
      "text/plain": [
       "Luckas-bot        5246\n",
       "ArthurBot         4818\n",
       "Auntof6           3226\n",
       "Macdonald-ross    2455\n",
       "EmausBot          1984\n",
       "Barliner          1973\n",
       "Peterdownunder    1920\n",
       "KingRaven44       1565\n",
       "ZéroBot           1425\n",
       "DMighton          1398\n",
       "Name: username, dtype: int64"
      ]
     },
     "execution_count": 15,
     "metadata": {},
     "output_type": "execute_result"
    }
   ],
   "source": [
    "df[df.revert == 0].username.value_counts()[:10]"
   ]
  },
  {
   "cell_type": "code",
   "execution_count": 86,
   "metadata": {},
   "outputs": [
    {
     "data": {
      "text/plain": [
       "San_Fernando,_Chile             27\n",
       "List_of_subcamps_of_Stutthof    27\n",
       "Over_the_Limit_(2011)           27\n",
       "Pope_Leo_X                      27\n",
       "Yoü_and_I                       27\n",
       "                                ..\n",
       "Christmas_at_Ground_Zero         2\n",
       "Nelson_Frazier,_Jr.              2\n",
       "Nitrogen_group                   2\n",
       "Jeweller                         2\n",
       "Peter_Leko                       2\n",
       "Name: title, Length: 9700, dtype: int64"
      ]
     },
     "execution_count": 86,
     "metadata": {},
     "output_type": "execute_result"
    }
   ],
   "source": [
    "df.title.value_counts()[-9700:]"
   ]
  },
  {
   "cell_type": "code",
   "execution_count": 93,
   "metadata": {},
   "outputs": [
    {
     "name": "stdout",
     "output_type": "stream",
     "text": [
      "0.16599516518936341\n"
     ]
    },
    {
     "data": {
      "text/plain": [
       "<matplotlib.axes._subplots.AxesSubplot at 0x7fb0be3fc450>"
      ]
     },
     "execution_count": 93,
     "metadata": {},
     "output_type": "execute_result"
    },
    {
     "data": {
      "image/png": "[encoded data removed]",
      "text/plain": [
       "<Figure size 432x288 with 1 Axes>"
      ]
     },
     "metadata": {
      "needs_background": "light"
     },
     "output_type": "display_data"
    }
   ],
   "source": [
    "#158 reverts\n",
    "many = df[df.title == 'Zacarias_Moussaoui']\n",
    "print(many.revert.sum() / len(many.revert))\n",
    "\n",
    "many.plot(x = 'time', y = 'revert')"
   ]
  },
  {
   "cell_type": "code",
   "execution_count": 90,
   "metadata": {},
   "outputs": [
    {
     "name": "stdout",
     "output_type": "stream",
     "text": [
      "0.23730569948186528\n"
     ]
    },
    {
     "data": {
      "text/plain": [
       "<matplotlib.axes._subplots.AxesSubplot at 0x7fb0be96ca90>"
      ]
     },
     "execution_count": 90,
     "metadata": {},
     "output_type": "execute_result"
    },
    {
     "data": {
      "image/png": "[encoded data removed]",
      "text/plain": [
       "<Figure size 432x288 with 1 Axes>"
      ]
     },
     "metadata": {
      "needs_background": "light"
     },
     "output_type": "display_data"
    }
   ],
   "source": [
    "#little reverts\n",
    "little = df[df.title == 'Bella_Thorne']\n",
    "print(little.revert.sum() / len(little.revert))\n",
    "little.plot(x = 'time', y='revert')"
   ]
  },
  {
   "cell_type": "code",
   "execution_count": 91,
   "metadata": {},
   "outputs": [
    {
     "name": "stdout",
     "output_type": "stream",
     "text": [
      "0.14285714285714285\n"
     ]
    },
    {
     "data": {
      "text/plain": [
       "<matplotlib.axes._subplots.AxesSubplot at 0x7fb0be68d590>"
      ]
     },
     "execution_count": 91,
     "metadata": {},
     "output_type": "execute_result"
    },
    {
     "data": {
      "image/png": "[encoded data removed]",
      "text/plain": [
       "<Figure size 432x288 with 1 Axes>"
      ]
     },
     "metadata": {
      "needs_background": "light"
     },
     "output_type": "display_data"
    }
   ],
   "source": [
    "#little reverts\n",
    "little = df[df.title == 'Centenary_Medal']\n",
    "print(little.revert.sum() / len(little.revert))\n",
    "\n",
    "little.plot(x = 'time', y='revert')"
   ]
  },
  {
   "cell_type": "code",
   "execution_count": 92,
   "metadata": {},
   "outputs": [
    {
     "name": "stdout",
     "output_type": "stream",
     "text": [
      "0.037037037037037035\n"
     ]
    },
    {
     "data": {
      "text/plain": [
       "<matplotlib.axes._subplots.AxesSubplot at 0x7fb0bec59a50>"
      ]
     },
     "execution_count": 92,
     "metadata": {},
     "output_type": "execute_result"
    },
    {
     "data": {
      "image/png": "[encoded data removed]",
      "text/plain": [
       "<Figure size 432x288 with 1 Axes>"
      ]
     },
     "metadata": {
      "needs_background": "light"
     },
     "output_type": "display_data"
    }
   ],
   "source": [
    "#little reverts\n",
    "little = df[df.title == 'Pope_Leo_X']\n",
    "print(little.revert.sum() / len(little.revert))\n",
    "little.plot(x = 'time', y='revert')"
   ]
  },
  {
   "cell_type": "code",
   "execution_count": null,
   "metadata": {},
   "outputs": [],
   "source": []
  },
  {
   "cell_type": "markdown",
   "metadata": {},
   "source": [
    "# participation 3"
   ]
  },
  {
   "cell_type": "code",
   "execution_count": 95,
   "metadata": {},
   "outputs": [],
   "source": [
    "content_2 = []\n",
    "with open(\"../data/testdata/en_wiki_test.txt\", encoding = 'utf8') as file:\n",
    "    \n",
    "    content_2 = file.readlines()\n",
    "#     content_2 = \"\".join(content_2)\n",
    "#     light_dump = BeautifulSoup(content_2, \"xml\")\n"
   ]
  },
  {
   "cell_type": "code",
   "execution_count": 91,
   "metadata": {},
   "outputs": [
    {
     "data": {
      "text/html": [
       "<div>\n",
       "<style scoped>\n",
       "    .dataframe tbody tr th:only-of-type {\n",
       "        vertical-align: middle;\n",
       "    }\n",
       "\n",
       "    .dataframe tbody tr th {\n",
       "        vertical-align: top;\n",
       "    }\n",
       "\n",
       "    .dataframe thead th {\n",
       "        text-align: right;\n",
       "    }\n",
       "</style>\n",
       "<table border=\"1\" class=\"dataframe\">\n",
       "  <thead>\n",
       "    <tr style=\"text-align: right;\">\n",
       "      <th></th>\n",
       "      <th>timestamp</th>\n",
       "      <th>comment</th>\n",
       "      <th>username</th>\n",
       "      <th>revert</th>\n",
       "    </tr>\n",
       "  </thead>\n",
       "  <tbody>\n",
       "    <tr>\n",
       "      <th>0</th>\n",
       "      <td>[2002-02-21T15:11:49Z]</td>\n",
       "      <td>[*]</td>\n",
       "      <td>[David Parker]</td>\n",
       "      <td>0</td>\n",
       "    </tr>\n",
       "    <tr>\n",
       "      <th>1</th>\n",
       "      <td>[2002-02-21T15:14:16Z]</td>\n",
       "      <td>[remove self-link; some other editing]</td>\n",
       "      <td>[Vicki Rosenzweig]</td>\n",
       "      <td>0</td>\n",
       "    </tr>\n",
       "    <tr>\n",
       "      <th>2</th>\n",
       "      <td>[2002-02-21T16:06:19Z]</td>\n",
       "      <td>[*]</td>\n",
       "      <td>[David Parker]</td>\n",
       "      <td>0</td>\n",
       "    </tr>\n",
       "    <tr>\n",
       "      <th>3</th>\n",
       "      <td>[2002-02-24T08:19:24Z]</td>\n",
       "      <td>[Oops! Richard I, not a Robert! And it was mor...</td>\n",
       "      <td>[David Parker]</td>\n",
       "      <td>0</td>\n",
       "    </tr>\n",
       "    <tr>\n",
       "      <th>4</th>\n",
       "      <td>[2002-02-25T15:51:15Z]</td>\n",
       "      <td>[*]</td>\n",
       "      <td>[David Parker]</td>\n",
       "      <td>0</td>\n",
       "    </tr>\n",
       "  </tbody>\n",
       "</table>\n",
       "</div>"
      ],
      "text/plain": [
       "                timestamp                                            comment  \\\n",
       "0  [2002-02-21T15:11:49Z]                                                [*]   \n",
       "1  [2002-02-21T15:14:16Z]             [remove self-link; some other editing]   \n",
       "2  [2002-02-21T16:06:19Z]                                                [*]   \n",
       "3  [2002-02-24T08:19:24Z]  [Oops! Richard I, not a Robert! And it was mor...   \n",
       "4  [2002-02-25T15:51:15Z]                                                [*]   \n",
       "\n",
       "             username  revert  \n",
       "0      [David Parker]       0  \n",
       "1  [Vicki Rosenzweig]       0  \n",
       "2      [David Parker]       0  \n",
       "3      [David Parker]       0  \n",
       "4      [David Parker]       0  "
      ]
     },
     "execution_count": 91,
     "metadata": {},
     "output_type": "execute_result"
    }
   ],
   "source": [
    "# wikidump data\n",
    "revision = wiki_data.find_all(\"revision\")\n",
    "\n",
    "timestamp = [x.timestamp for x in revision]\n",
    "comment = [x.comment for x in revision]\n",
    "username = [x.username for x in revision]\n",
    "\n",
    "d = {'timestamp': timestamp, 'comment': comment, 'username': username}\n",
    "df = pd.DataFrame(data = d)\n",
    "\n",
    "revert = [(\"revert\" in str(x).lower()) for x in comment]\n",
    "revert = [1 if x== True else 0 for x in revert]\n",
    "\n",
    "df['revert'] = revert\n",
    "df.head()"
   ]
  },
  {
   "cell_type": "code",
   "execution_count": 111,
   "metadata": {},
   "outputs": [
    {
     "name": "stdout",
     "output_type": "stream",
     "text": [
      "^^^_2009-12-16T02:31:41Z 0 267 128.205.63.225\n",
      "\n"
     ]
    },
    {
     "data": {
      "text/plain": [
       "['2009-12-16T02:31:41Z',\n",
       " '2009-12-02T18:08:00Z',\n",
       " '2009-12-02T13:55:48Z',\n",
       " '2009-11-28T18:33:42Z',\n",
       " '2009-11-23T23:14:17Z']"
      ]
     },
     "execution_count": 111,
     "metadata": {},
     "output_type": "execute_result"
    }
   ],
   "source": [
    "light_dump = [x for x in content_2 if \"^^^\" in x]\n",
    "light_dump[:5]\n",
    "\n",
    "print(light_dump[0])\n",
    "light_timestamp = [x[4:24] for x in light_dump]\n",
    "\n",
    "light_timestamp[:5]"
   ]
  },
  {
   "cell_type": "code",
   "execution_count": 131,
   "metadata": {},
   "outputs": [
    {
     "data": {
      "text/plain": [
       "'2009-12-16T02:31:41Z'"
      ]
     },
     "execution_count": 131,
     "metadata": {},
     "output_type": "execute_result"
    }
   ],
   "source": [
    "light_timestamp[0]"
   ]
  },
  {
   "cell_type": "code",
   "execution_count": 135,
   "metadata": {},
   "outputs": [
    {
     "data": {
      "text/plain": [
       "'2002-02-21T15:11:49Z'"
      ]
     },
     "execution_count": 135,
     "metadata": {},
     "output_type": "execute_result"
    }
   ],
   "source": [
    "str(timestamp[0]).replace(\"<timestamp>\", \"\").replace(\"</timestamp>\", \"\")"
   ]
  },
  {
   "cell_type": "code",
   "execution_count": 136,
   "metadata": {
    "scrolled": true
   },
   "outputs": [
    {
     "data": {
      "text/html": [
       "<div>\n",
       "<style scoped>\n",
       "    .dataframe tbody tr th:only-of-type {\n",
       "        vertical-align: middle;\n",
       "    }\n",
       "\n",
       "    .dataframe tbody tr th {\n",
       "        vertical-align: top;\n",
       "    }\n",
       "\n",
       "    .dataframe thead th {\n",
       "        text-align: right;\n",
       "    }\n",
       "</style>\n",
       "<table border=\"1\" class=\"dataframe\">\n",
       "  <thead>\n",
       "    <tr style=\"text-align: right;\">\n",
       "      <th></th>\n",
       "      <th>timestamp</th>\n",
       "      <th>comment</th>\n",
       "      <th>username</th>\n",
       "      <th>revert</th>\n",
       "      <th>in_light</th>\n",
       "    </tr>\n",
       "  </thead>\n",
       "  <tbody>\n",
       "    <tr>\n",
       "      <th>0</th>\n",
       "      <td>[2002-02-21T15:11:49Z]</td>\n",
       "      <td>[*]</td>\n",
       "      <td>[David Parker]</td>\n",
       "      <td>0</td>\n",
       "      <td>True</td>\n",
       "    </tr>\n",
       "    <tr>\n",
       "      <th>1</th>\n",
       "      <td>[2002-02-21T15:14:16Z]</td>\n",
       "      <td>[remove self-link; some other editing]</td>\n",
       "      <td>[Vicki Rosenzweig]</td>\n",
       "      <td>0</td>\n",
       "      <td>True</td>\n",
       "    </tr>\n",
       "    <tr>\n",
       "      <th>2</th>\n",
       "      <td>[2002-02-21T16:06:19Z]</td>\n",
       "      <td>[*]</td>\n",
       "      <td>[David Parker]</td>\n",
       "      <td>0</td>\n",
       "      <td>True</td>\n",
       "    </tr>\n",
       "    <tr>\n",
       "      <th>3</th>\n",
       "      <td>[2002-02-24T08:19:24Z]</td>\n",
       "      <td>[Oops! Richard I, not a Robert! And it was mor...</td>\n",
       "      <td>[David Parker]</td>\n",
       "      <td>0</td>\n",
       "      <td>True</td>\n",
       "    </tr>\n",
       "    <tr>\n",
       "      <th>4</th>\n",
       "      <td>[2002-02-25T15:51:15Z]</td>\n",
       "      <td>[*]</td>\n",
       "      <td>[David Parker]</td>\n",
       "      <td>0</td>\n",
       "      <td>True</td>\n",
       "    </tr>\n",
       "  </tbody>\n",
       "</table>\n",
       "</div>"
      ],
      "text/plain": [
       "                timestamp                                            comment  \\\n",
       "0  [2002-02-21T15:11:49Z]                                                [*]   \n",
       "1  [2002-02-21T15:14:16Z]             [remove self-link; some other editing]   \n",
       "2  [2002-02-21T16:06:19Z]                                                [*]   \n",
       "3  [2002-02-24T08:19:24Z]  [Oops! Richard I, not a Robert! And it was mor...   \n",
       "4  [2002-02-25T15:51:15Z]                                                [*]   \n",
       "\n",
       "             username  revert  in_light  \n",
       "0      [David Parker]       0      True  \n",
       "1  [Vicki Rosenzweig]       0      True  \n",
       "2      [David Parker]       0      True  \n",
       "3      [David Parker]       0      True  \n",
       "4      [David Parker]       0      True  "
      ]
     },
     "execution_count": 136,
     "metadata": {},
     "output_type": "execute_result"
    }
   ],
   "source": [
    "in_light = [True if str(x).replace(\"<timestamp>\", \"\").replace(\"</timestamp>\", \"\") in light_timestamp else False for x in timestamp]\n",
    "n_light = [1 if x== True else 0 for x in in_light]\n",
    "\n",
    "df['in_light'] = in_light\n",
    "df.head()"
   ]
  },
  {
   "cell_type": "code",
   "execution_count": 137,
   "metadata": {},
   "outputs": [
    {
     "data": {
      "text/plain": [
       "34"
      ]
     },
     "execution_count": 137,
     "metadata": {},
     "output_type": "execute_result"
    }
   ],
   "source": [
    "sum((df.revert == 1) & (df.in_light == 1))"
   ]
  },
  {
   "cell_type": "code",
   "execution_count": null,
   "metadata": {},
   "outputs": [],
   "source": []
  }
 ],
 "metadata": {
  "kernelspec": {
   "display_name": "Python 3",
   "language": "python",
   "name": "python3"
  },
  "language_info": {
   "codemirror_mode": {
    "name": "ipython",
    "version": 3
   },
   "file_extension": ".py",
   "mimetype": "text/x-python",
   "name": "python",
   "nbconvert_exporter": "python",
   "pygments_lexer": "ipython3",
   "version": "3.7.6"
  }
 },
 "nbformat": 4,
 "nbformat_minor": 4
}
