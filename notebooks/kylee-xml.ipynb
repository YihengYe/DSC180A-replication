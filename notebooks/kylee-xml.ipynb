{
 "cells": [
  {
   "cell_type": "code",
   "execution_count": 52,
   "metadata": {},
   "outputs": [],
   "source": [
    "import numpy as np\n",
    "import pandas as pd\n",
    "from bs4 import BeautifulSoup\n",
    "import matplotlib.pyplot as plt"
   ]
  },
  {
   "cell_type": "code",
   "execution_count": 53,
   "metadata": {},
   "outputs": [],
   "source": [
    "content = []\n",
    "with open(\"../data/raw/testdata/enwiki-20200101-page-meta-history2.xml-ptest\", encoding = 'utf8') as file:\n",
    "    \n",
    "    content = file.readlines()\n",
    "    content = \"\".join(content)\n",
    "    soup = BeautifulSoup(content, \"xml\")\n"
   ]
  },
  {
   "cell_type": "code",
   "execution_count": 54,
   "metadata": {
    "scrolled": true
   },
   "outputs": [],
   "source": [
    "pages = soup.findAll(\"page\")"
   ]
  },
  {
   "cell_type": "code",
   "execution_count": 55,
   "metadata": {
    "scrolled": false
   },
   "outputs": [
    {
     "data": {
      "text/plain": [
       "['Emma of Normandy',\n",
       " '15604',\n",
       " '2002-02-21T15:11:49Z',\n",
       " 'David Parker',\n",
       " \"[[Emma]] (c.982-1052), daughter of [[Robert I, Duke of Normandy|Robert I]], , duke of [[Normandy]], was twice queen of [[England]], by marriage first (1002-1016) to king [[Ethelred the Unready]] and then (1017-1035) to [[Canute]], king also of [[Denmark]] and [[Norway]]. \\n\\nUpon the Danish invasion of England in 1013, Emma took her sons by Ethelred, Alfred and [[Edward the Confessor|Edward]] to Normandy, where they remained upon her return to England to marry Canute, now king of England following the death of Ethelred, with whom he had agreed to divide the realm. \\n\\nFollowing Canute's death, Alfred and Edward returned in 1036 to overthrow Canute's illegitimate son [[Harold Harefoot]], who had established himself as ruler in the absence of [[Harthacanute]], son of Canute and Emma. Alfred was captured and killed, while Edward escaped to Normandy, followed by his mother. \\n\\nThe death of Harold (1040) and the accession of the more conciliatory Harthacanute paved the way for Edward's return to England (1041) as co-ruler and (1042) king on Harthacanute's death. Emma returned to end her days at Winchester, Hampshire, where she was buried alongside Canute. \\n\\nEmma's importance lies in the forging of the link between England and Normandy which was to culminate in [[William I of England|William]] of Normandy's invasion of England in 1066.  \"]"
      ]
     },
     "execution_count": 55,
     "metadata": {},
     "output_type": "execute_result"
    }
   ],
   "source": [
    "data = []\n",
    "for page in pages:\n",
    "    title = page.title.text\n",
    "    revisions = page.findAll(\"revision\")\n",
    "    \n",
    "    for revision in revisions:\n",
    "        r_id = revision.id.text \n",
    "        time = revision.timestamp.text\n",
    "        try:\n",
    "            username = revision.contributor.username.text\n",
    "        except: \n",
    "            username = revision.contributor.ip.text\n",
    "        text = revision.format.next_sibling.next_sibling.text\n",
    "        data.append([title, r_id, time, username, text])\n",
    "\n",
    "data[0]"
   ]
  },
  {
   "cell_type": "code",
   "execution_count": null,
   "metadata": {},
   "outputs": [],
   "source": []
  },
  {
   "cell_type": "code",
   "execution_count": null,
   "metadata": {},
   "outputs": [],
   "source": []
  },
  {
   "cell_type": "code",
   "execution_count": 56,
   "metadata": {},
   "outputs": [
    {
     "data": {
      "text/html": [
       "<div>\n",
       "<style scoped>\n",
       "    .dataframe tbody tr th:only-of-type {\n",
       "        vertical-align: middle;\n",
       "    }\n",
       "\n",
       "    .dataframe tbody tr th {\n",
       "        vertical-align: top;\n",
       "    }\n",
       "\n",
       "    .dataframe thead th {\n",
       "        text-align: right;\n",
       "    }\n",
       "</style>\n",
       "<table border=\"1\" class=\"dataframe\">\n",
       "  <thead>\n",
       "    <tr style=\"text-align: right;\">\n",
       "      <th></th>\n",
       "      <th>title</th>\n",
       "      <th>id</th>\n",
       "      <th>time</th>\n",
       "      <th>username</th>\n",
       "      <th>text</th>\n",
       "    </tr>\n",
       "  </thead>\n",
       "  <tbody>\n",
       "    <tr>\n",
       "      <th>0</th>\n",
       "      <td>Emma of Normandy</td>\n",
       "      <td>15604</td>\n",
       "      <td>2002-02-21T15:11:49Z</td>\n",
       "      <td>David Parker</td>\n",
       "      <td>[[Emma]] (c.982-1052), daughter of [[Robert I,...</td>\n",
       "    </tr>\n",
       "    <tr>\n",
       "      <th>1</th>\n",
       "      <td>Emma of Normandy</td>\n",
       "      <td>15606</td>\n",
       "      <td>2002-02-21T15:14:16Z</td>\n",
       "      <td>Vicki Rosenzweig</td>\n",
       "      <td>'''Emma''' (c. 982-1052), daughter of [[Robert...</td>\n",
       "    </tr>\n",
       "    <tr>\n",
       "      <th>2</th>\n",
       "      <td>Emma of Normandy</td>\n",
       "      <td>15635</td>\n",
       "      <td>2002-02-21T16:06:19Z</td>\n",
       "      <td>David Parker</td>\n",
       "      <td>&lt;b&gt;Emma&lt;/b&gt; (c.982-1052), daughter of [[Robert...</td>\n",
       "    </tr>\n",
       "    <tr>\n",
       "      <th>3</th>\n",
       "      <td>Emma of Normandy</td>\n",
       "      <td>17121</td>\n",
       "      <td>2002-02-24T08:19:24Z</td>\n",
       "      <td>David Parker</td>\n",
       "      <td>&lt;b&gt;Emma&lt;/b&gt; (c.982-1052), daughter of [[Richar...</td>\n",
       "    </tr>\n",
       "    <tr>\n",
       "      <th>4</th>\n",
       "      <td>Emma of Normandy</td>\n",
       "      <td>35038</td>\n",
       "      <td>2002-02-25T15:51:15Z</td>\n",
       "      <td>David Parker</td>\n",
       "      <td>&lt;b&gt;Emma&lt;/b&gt; (c.982-1052), daughter of [[Richar...</td>\n",
       "    </tr>\n",
       "  </tbody>\n",
       "</table>\n",
       "</div>"
      ],
      "text/plain": [
       "              title     id                  time          username  \\\n",
       "0  Emma of Normandy  15604  2002-02-21T15:11:49Z      David Parker   \n",
       "1  Emma of Normandy  15606  2002-02-21T15:14:16Z  Vicki Rosenzweig   \n",
       "2  Emma of Normandy  15635  2002-02-21T16:06:19Z      David Parker   \n",
       "3  Emma of Normandy  17121  2002-02-24T08:19:24Z      David Parker   \n",
       "4  Emma of Normandy  35038  2002-02-25T15:51:15Z      David Parker   \n",
       "\n",
       "                                                text  \n",
       "0  [[Emma]] (c.982-1052), daughter of [[Robert I,...  \n",
       "1  '''Emma''' (c. 982-1052), daughter of [[Robert...  \n",
       "2  <b>Emma</b> (c.982-1052), daughter of [[Robert...  \n",
       "3  <b>Emma</b> (c.982-1052), daughter of [[Richar...  \n",
       "4  <b>Emma</b> (c.982-1052), daughter of [[Richar...  "
      ]
     },
     "execution_count": 56,
     "metadata": {},
     "output_type": "execute_result"
    }
   ],
   "source": [
    "df = pd.DataFrame(data, columns = ['title', 'id', 'time', 'username', 'text'])\n",
    "df.head()"
   ]
  },
  {
   "cell_type": "code",
   "execution_count": 59,
   "metadata": {},
   "outputs": [
    {
     "data": {
      "text/plain": [
       "[['2010-01-18T04:15:38Z', '1', '195', 'RoyBoy'],\n",
       " ['2010-01-17T16:05:25Z', '0', '196', '92.2.115.71'],\n",
       " ['2010-01-06T02:52:05Z', '0', '195', '69.138.191.61'],\n",
       " ['2010-01-06T02:08:18Z', '0', '194', '69.138.191.61'],\n",
       " ['2009-12-31T20:36:11Z', '0', '193', 'Unscented'],\n",
       " ['2009-12-25T11:18:42Z', '0', '192', '123.255.28.59'],\n",
       " ['2009-12-25T11:16:01Z', '0', '191', '123.255.28.59'],\n",
       " ['2009-12-25T11:12:12Z', '0', '190', '123.255.28.59'],\n",
       " ['2009-12-01T23:27:02Z', '0', '189', '94.1.155.242'],\n",
       " ['2009-11-17T12:38:08Z', '0', '188', 'Rich_Farmbrough'],\n",
       " ['2009-11-01T06:08:53Z', '1', '186', 'ClueBot'],\n",
       " ['2009-11-01T06:08:47Z', '0', '187', '124.187.131.183'],\n",
       " ['2009-10-25T18:21:34Z', '0', '186', 'Felix_Folio_Secundus'],\n",
       " ['2009-10-25T18:19:36Z', '0', '185', 'Felix_Folio_Secundus'],\n",
       " ['2009-10-23T01:11:22Z', '0', '184', \"Queen_Elizabeth_II's_Little_Spy\"],\n",
       " ['2009-10-18T18:41:40Z', '0', '183', 'Felix_Folio_Secundus'],\n",
       " ['2009-10-18T14:17:12Z', '0', '182', '86.129.28.159'],\n",
       " ['2009-10-18T14:12:22Z', '0', '181', '86.129.28.159'],\n",
       " ['2009-10-10T02:06:04Z', '0', '180', 'SmackBot'],\n",
       " ['2009-10-08T18:47:49Z', '0', '179', 'Felix_Folio_Secundus'],\n",
       " ['2009-10-08T17:09:54Z', '0', '178', 'Felix_Folio_Secundus'],\n",
       " ['2009-10-08T17:06:59Z', '0', '177', 'Felix_Folio_Secundus'],\n",
       " ['2009-10-08T17:02:56Z', '0', '176', 'Felix_Folio_Secundus'],\n",
       " ['2009-10-08T16:55:03Z', '0', '175', 'Felix_Folio_Secundus'],\n",
       " ['2009-10-08T16:48:06Z', '0', '174', 'Felix_Folio_Secundus'],\n",
       " ['2009-10-08T16:37:59Z', '0', '173', 'Felix_Folio_Secundus'],\n",
       " ['2009-08-28T11:16:37Z', '0', '172', 'WikieWikieWikie'],\n",
       " ['2009-08-12T14:45:05Z', '0', '171', '86.5.254.222'],\n",
       " ['2009-08-05T03:49:56Z', '1', '169', 'ClueBot'],\n",
       " ['2009-08-05T03:49:50Z', '0', '170', '202.61.173.14'],\n",
       " ['2009-07-12T06:04:23Z', '0', '169', 'Dimadick'],\n",
       " ['2009-06-21T16:44:22Z', '0', '168', 'Scwlong'],\n",
       " ['2009-06-12T00:04:20Z', '0', '167', \"Queen_Elizabeth_II's_Little_Spy\"],\n",
       " ['2009-06-10T11:41:16Z', '0', '166', '85.226.42.9'],\n",
       " ['2009-04-27T11:20:39Z', '0', '165', 'Cavila'],\n",
       " ['2009-03-31T06:52:50Z', '0', '164', 'Cavila'],\n",
       " ['2009-03-29T06:45:26Z', '0', '163', 'Rumping'],\n",
       " ['2009-03-29T06:42:42Z', '0', '162', 'Rumping'],\n",
       " ['2009-03-21T12:13:26Z', '0', '161', 'Mfcayley'],\n",
       " ['2009-03-14T14:20:03Z', '0', '160', '85.226.46.34'],\n",
       " ['2009-03-14T10:32:50Z', '0', '159', '85.226.46.34'],\n",
       " ['2009-03-14T10:32:01Z', '0', '158', '85.226.46.34'],\n",
       " ['2009-03-14T10:29:03Z', '0', '157', '85.226.46.34'],\n",
       " ['2009-03-14T10:25:27Z', '0', '156', '85.226.46.34'],\n",
       " ['2009-03-11T06:37:09Z', '0', '155', '122.109.50.3']]"
      ]
     },
     "execution_count": 59,
     "metadata": {},
     "output_type": "execute_result"
    }
   ],
   "source": [
    "light_dump = []\n",
    "naruto = False\n",
    "with open(\"../data/raw/testdata/en_wiki_test.txt\", encoding = 'utf8') as file:\n",
    "    for line in file:\n",
    "        if (line[0]!= \"^\") & naruto:\n",
    "            break\n",
    "        \n",
    "        if line.strip() == 'Emma_of_Normandy':\n",
    "            naruto = True\n",
    "            continue\n",
    "            \n",
    "        if naruto:\n",
    "            light_dump.append(line)\n",
    "            \n",
    "light_dump = [x[4:-1].split(' ') for x in light_dump]\n",
    "light_dump[:45]"
   ]
  },
  {
   "cell_type": "code",
   "execution_count": null,
   "metadata": {},
   "outputs": [],
   "source": []
  },
  {
   "cell_type": "code",
   "execution_count": null,
   "metadata": {},
   "outputs": [],
   "source": []
  },
  {
   "cell_type": "code",
   "execution_count": null,
   "metadata": {},
   "outputs": [],
   "source": []
  },
  {
   "cell_type": "code",
   "execution_count": 42,
   "metadata": {},
   "outputs": [],
   "source": [
    "# data = []\n",
    "# for page in pages:\n",
    "#     try:\n",
    "#         title = page.title.text\n",
    "#     except:\n",
    "#         title = none\n",
    "        \n",
    "#     try:\n",
    "#         ns = page.ns.text\n",
    "#     except: \n",
    "#         ns = none\n",
    "        \n",
    "#     try:\n",
    "#         page_id = page.id.text\n",
    "#     except:\n",
    "#         page_id = none\n",
    "    \n",
    "#     try:\n",
    "#         revision_id = page.revision.id.text\n",
    "#     except:\n",
    "#         revision_id = none\n",
    "    \n",
    "#     try:\n",
    "#         parent_id = page.parent.id.text\n",
    "#     except:\n",
    "#         parent_id = none\n",
    "    \n",
    "#     try:\n",
    "#         timestamp = page.timestamp.text\n",
    "#     except:\n",
    "#         timestamp = none\n",
    "        \n",
    "#     try:\n",
    "#         username = page.contributor.username.text\n",
    "#     except:\n",
    "#         username = none\n",
    "        \n",
    "#     try:\n",
    "#         contributor_id = page.contributor.id.text\n",
    "#     except:\n",
    "#         contributor_id = none\n",
    "        \n",
    "#     try:\n",
    "#         comment = page.comment.text\n",
    "#     except:\n",
    "#         comment = none\n",
    "    \n",
    "#     try:\n",
    "#         model = page.model.text\n",
    "#     except:\n",
    "#         model = none\n",
    "        \n",
    "#     try:\n",
    "#         page_format = page.format.text\n",
    "#     except:\n",
    "#         page_format = none\n",
    "        \n",
    "        \n",
    "#     try:\n",
    "#         text = page.format.next_sibling.next_sibling.text\n",
    "#     except:\n",
    "#         text = none\n",
    "        \n",
    "#     data.append([title, ns, page_id, revision_id, parent_id, timestamp, username, \n",
    "#             contributor_id, comment, model, page_format, text])\n",
    "# data[0]"
   ]
  },
  {
   "cell_type": "code",
   "execution_count": 5,
   "metadata": {},
   "outputs": [
    {
     "data": {
      "text/html": [
       "<div>\n",
       "<style scoped>\n",
       "    .dataframe tbody tr th:only-of-type {\n",
       "        vertical-align: middle;\n",
       "    }\n",
       "\n",
       "    .dataframe tbody tr th {\n",
       "        vertical-align: top;\n",
       "    }\n",
       "\n",
       "    .dataframe thead th {\n",
       "        text-align: right;\n",
       "    }\n",
       "</style>\n",
       "<table border=\"1\" class=\"dataframe\">\n",
       "  <thead>\n",
       "    <tr style=\"text-align: right;\">\n",
       "      <th></th>\n",
       "      <th>title</th>\n",
       "      <th>ns</th>\n",
       "      <th>page_id</th>\n",
       "      <th>revision_id</th>\n",
       "      <th>parent_id</th>\n",
       "      <th>timestamp</th>\n",
       "      <th>username</th>\n",
       "      <th>contributor_id</th>\n",
       "      <th>comment</th>\n",
       "      <th>model</th>\n",
       "      <th>page_format</th>\n",
       "      <th>text</th>\n",
       "    </tr>\n",
       "  </thead>\n",
       "  <tbody>\n",
       "    <tr>\n",
       "      <th>0</th>\n",
       "      <td>Altoona and Wopsononock Railroad</td>\n",
       "      <td>0</td>\n",
       "      <td>11424669</td>\n",
       "      <td>133553189</td>\n",
       "      <td>11424669</td>\n",
       "      <td>2007-05-26T02:23:31Z</td>\n",
       "      <td>Choess</td>\n",
       "      <td>245519</td>\n",
       "      <td>redirect</td>\n",
       "      <td>wikitext</td>\n",
       "      <td>text/x-wiki</td>\n",
       "      <td>#REDIRECT [[Altoona and Beech Creek Railroad]]</td>\n",
       "    </tr>\n",
       "    <tr>\n",
       "      <th>1</th>\n",
       "      <td>User talk:87.41.23.88</td>\n",
       "      <td>3</td>\n",
       "      <td>11424671</td>\n",
       "      <td>133553219</td>\n",
       "      <td>11424669</td>\n",
       "      <td>2007-05-26T02:23:45Z</td>\n",
       "      <td>Stepp-Wulf</td>\n",
       "      <td>80874</td>\n",
       "      <td>mild warning to vandal.</td>\n",
       "      <td>wikitext</td>\n",
       "      <td>text/x-wiki</td>\n",
       "      <td>The silliness you inserted into Takeshi's Cast...</td>\n",
       "    </tr>\n",
       "    <tr>\n",
       "      <th>2</th>\n",
       "      <td>Altoona &amp; Wopsononock Railroad</td>\n",
       "      <td>0</td>\n",
       "      <td>11424672</td>\n",
       "      <td>133553226</td>\n",
       "      <td>11424669</td>\n",
       "      <td>2007-05-26T02:23:50Z</td>\n",
       "      <td>Choess</td>\n",
       "      <td>245519</td>\n",
       "      <td>redirect</td>\n",
       "      <td>wikitext</td>\n",
       "      <td>text/x-wiki</td>\n",
       "      <td>#REDIRECT [[Altoona and Beech Creek Railroad]]</td>\n",
       "    </tr>\n",
       "    <tr>\n",
       "      <th>3</th>\n",
       "      <td>Westview Village</td>\n",
       "      <td>0</td>\n",
       "      <td>11424674</td>\n",
       "      <td>133553231</td>\n",
       "      <td>11424669</td>\n",
       "      <td>2007-05-26T02:23:52Z</td>\n",
       "      <td>Johntwrl</td>\n",
       "      <td>2121913</td>\n",
       "      <td>[[WP:AES|←]]Redirected page to [[Westview Vill...</td>\n",
       "      <td>wikitext</td>\n",
       "      <td>text/x-wiki</td>\n",
       "      <td>#REDIRECT [[Westview Village (Edmonton)]]</td>\n",
       "    </tr>\n",
       "    <tr>\n",
       "      <th>4</th>\n",
       "      <td>Matysiakowie</td>\n",
       "      <td>0</td>\n",
       "      <td>11424676</td>\n",
       "      <td>133553269</td>\n",
       "      <td>11424669</td>\n",
       "      <td>2007-05-26T02:24:07Z</td>\n",
       "      <td>Piotrus</td>\n",
       "      <td>59002</td>\n",
       "      <td>stub from pl wiki</td>\n",
       "      <td>wikitext</td>\n",
       "      <td>text/x-wiki</td>\n",
       "      <td>'''Matysiakowie''' is one of the most popular ...</td>\n",
       "    </tr>\n",
       "  </tbody>\n",
       "</table>\n",
       "</div>"
      ],
      "text/plain": [
       "                              title ns   page_id revision_id parent_id  \\\n",
       "0  Altoona and Wopsononock Railroad  0  11424669   133553189  11424669   \n",
       "1             User talk:87.41.23.88  3  11424671   133553219  11424669   \n",
       "2    Altoona & Wopsononock Railroad  0  11424672   133553226  11424669   \n",
       "3                  Westview Village  0  11424674   133553231  11424669   \n",
       "4                      Matysiakowie  0  11424676   133553269  11424669   \n",
       "\n",
       "              timestamp    username contributor_id  \\\n",
       "0  2007-05-26T02:23:31Z      Choess         245519   \n",
       "1  2007-05-26T02:23:45Z  Stepp-Wulf          80874   \n",
       "2  2007-05-26T02:23:50Z      Choess         245519   \n",
       "3  2007-05-26T02:23:52Z    Johntwrl        2121913   \n",
       "4  2007-05-26T02:24:07Z     Piotrus          59002   \n",
       "\n",
       "                                             comment     model  page_format  \\\n",
       "0                                           redirect  wikitext  text/x-wiki   \n",
       "1                            mild warning to vandal.  wikitext  text/x-wiki   \n",
       "2                                           redirect  wikitext  text/x-wiki   \n",
       "3  [[WP:AES|←]]Redirected page to [[Westview Vill...  wikitext  text/x-wiki   \n",
       "4                                  stub from pl wiki  wikitext  text/x-wiki   \n",
       "\n",
       "                                                text  \n",
       "0     #REDIRECT [[Altoona and Beech Creek Railroad]]  \n",
       "1  The silliness you inserted into Takeshi's Cast...  \n",
       "2     #REDIRECT [[Altoona and Beech Creek Railroad]]  \n",
       "3          #REDIRECT [[Westview Village (Edmonton)]]  \n",
       "4  '''Matysiakowie''' is one of the most popular ...  "
      ]
     },
     "execution_count": 5,
     "metadata": {},
     "output_type": "execute_result"
    }
   ],
   "source": [
    "df = pd.DataFrame(data, columns = ['title', 'ns', 'page_id', 'revision_id', 'parent_id', 'timestamp', 'username', 'contributor_id', 'comment', 'model', 'page_format', 'text'])\n",
    "df.head()"
   ]
  },
  {
   "cell_type": "code",
   "execution_count": 8,
   "metadata": {},
   "outputs": [
    {
     "data": {
      "text/plain": [
       "(142, 12)"
      ]
     },
     "execution_count": 8,
     "metadata": {},
     "output_type": "execute_result"
    }
   ],
   "source": [
    "df.shape"
   ]
  },
  {
   "cell_type": "code",
   "execution_count": 6,
   "metadata": {},
   "outputs": [
    {
     "data": {
      "text/plain": [
       "(array([ 26.,   2., 108.,   1.,   0.,   0.,   0.,   1.,   0.,   4.]),\n",
       " array([ 0. ,  1.4,  2.8,  4.2,  5.6,  7. ,  8.4,  9.8, 11.2, 12.6, 14. ]),\n",
       " <a list of 10 Patch objects>)"
      ]
     },
     "execution_count": 6,
     "metadata": {},
     "output_type": "execute_result"
    },
    {
     "data": {
      "image/png": "[encoded data removed]",
      "text/plain": [
       "<Figure size 432x288 with 1 Axes>"
      ]
     },
     "metadata": {
      "needs_background": "light"
     },
     "output_type": "display_data"
    }
   ],
   "source": [
    "df.ns = df.ns.apply(lambda x: int(x))\n",
    "plt.hist(df.ns)"
   ]
  },
  {
   "cell_type": "code",
   "execution_count": 7,
   "metadata": {
    "scrolled": false
   },
   "outputs": [
    {
     "data": {
      "text/plain": [
       "MichaelBillington           0.654930\n",
       "Choess                      0.049296\n",
       "Skier Dude                  0.028169\n",
       "Nixeagle                    0.021127\n",
       "Fleela                      0.014085\n",
       "Doma-w                      0.014085\n",
       "Alastair Haines             0.014085\n",
       "BeckyAnne                   0.014085\n",
       "Rmky87                      0.007042\n",
       "Maias                       0.007042\n",
       "Brianahier                  0.007042\n",
       "Bearcat                     0.007042\n",
       "DagnyB                      0.007042\n",
       "Cbl62                       0.007042\n",
       "SpecialWindler              0.007042\n",
       "Eleoopy                     0.007042\n",
       "PrestonH                    0.007042\n",
       "Padraicoc                   0.007042\n",
       "Poindexter Propellerhead    0.007042\n",
       "Wombatcat                   0.007042\n",
       "Johntwrl                    0.007042\n",
       "Piotrus                     0.007042\n",
       "Aeronautico                 0.007042\n",
       "Chrishmt0423                0.007042\n",
       "Somenamethisis              0.007042\n",
       "Animum                      0.007042\n",
       "Jossi                       0.007042\n",
       "Rrburke                     0.007042\n",
       "Adam.J.W.C.                 0.007042\n",
       "Mehudson1                   0.007042\n",
       "Orestek                     0.007042\n",
       "Kuru                        0.007042\n",
       "Elembis                     0.007042\n",
       "Stepp-Wulf                  0.007042\n",
       "Dough4872                   0.007042\n",
       "Name: username, dtype: float64"
      ]
     },
     "execution_count": 7,
     "metadata": {},
     "output_type": "execute_result"
    }
   ],
   "source": [
    "df.username.value_counts(normalize = True)"
   ]
  },
  {
   "cell_type": "code",
   "execution_count": null,
   "metadata": {},
   "outputs": [],
   "source": []
  },
  {
   "cell_type": "code",
   "execution_count": null,
   "metadata": {},
   "outputs": [],
   "source": []
  }
 ],
 "metadata": {
  "kernelspec": {
   "display_name": "Python 3",
   "language": "python",
   "name": "python3"
  },
  "language_info": {
   "codemirror_mode": {
    "name": "ipython",
    "version": 3
   },
   "file_extension": ".py",
   "mimetype": "text/x-python",
   "name": "python",
   "nbconvert_exporter": "python",
   "pygments_lexer": "ipython3",
   "version": "3.7.6"
  }
 },
 "nbformat": 4,
 "nbformat_minor": 2
}
