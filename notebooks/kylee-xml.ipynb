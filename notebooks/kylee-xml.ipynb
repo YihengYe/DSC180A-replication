{
 "cells": [
  {
   "cell_type": "code",
   "execution_count": 1,
   "metadata": {},
   "outputs": [],
   "source": [
    "import numpy as np\n",
    "import pandas as pd\n",
    "from bs4 import BeautifulSoup\n",
    "import matplotlib.pyplot as plt"
   ]
  },
  {
   "cell_type": "code",
   "execution_count": 2,
   "metadata": {},
   "outputs": [],
   "source": [
    "content = []\n",
    "with open(\"enwiki-20201001-pages-meta-history13.xml-p11424666p11424865\", encoding = 'utf8') as file:\n",
    "    \n",
    "    content = file.readlines()\n",
    "    content = \"\".join(content)\n",
    "    soup = BeautifulSoup(content, \"xml\")\n"
   ]
  },
  {
   "cell_type": "code",
   "execution_count": 3,
   "metadata": {},
   "outputs": [
    {
     "data": {
      "text/plain": [
       "<page>\n",
       "<title>User talk:87.41.23.88</title>\n",
       "<ns>3</ns>\n",
       "<id>11424671</id>\n",
       "<revision>\n",
       "<id>133553219</id>\n",
       "<timestamp>2007-05-26T02:23:45Z</timestamp>\n",
       "<contributor>\n",
       "<username>Stepp-Wulf</username>\n",
       "<id>80874</id>\n",
       "</contributor>\n",
       "<comment>mild warning to vandal.</comment>\n",
       "<model>wikitext</model>\n",
       "<format>text/x-wiki</format>\n",
       "<text bytes=\"189\" xml:space=\"preserve\">The silliness you inserted into Takeshi's Castle Challenges has been removed. Your editing is considered vandalism, so stop.  Thanks, [[User:Stepp-Wulf|Stepp-Wulf]] 02:23, 26 May 2007 (UTC)</text>\n",
       "<sha1>mudsz36q1ilh4m8fil8t5s0ia084rxu</sha1>\n",
       "</revision>\n",
       "</page>"
      ]
     },
     "execution_count": 3,
     "metadata": {},
     "output_type": "execute_result"
    }
   ],
   "source": [
    "pages = soup.findAll(\"page\")\n",
    "pages[1]"
   ]
  },
  {
   "cell_type": "code",
   "execution_count": 4,
   "metadata": {},
   "outputs": [
    {
     "data": {
      "text/plain": [
       "['Altoona and Wopsononock Railroad',\n",
       " '0',\n",
       " '11424669',\n",
       " '133553189',\n",
       " '11424669',\n",
       " '2007-05-26T02:23:31Z',\n",
       " 'Choess',\n",
       " '245519',\n",
       " 'redirect',\n",
       " 'wikitext',\n",
       " 'text/x-wiki',\n",
       " '#REDIRECT [[Altoona and Beech Creek Railroad]]']"
      ]
     },
     "execution_count": 4,
     "metadata": {},
     "output_type": "execute_result"
    }
   ],
   "source": [
    "data = []\n",
    "for page in pages:\n",
    "    try:\n",
    "        title = page.title.text\n",
    "    except:\n",
    "        title = none\n",
    "        \n",
    "    try:\n",
    "        ns = page.ns.text\n",
    "    except: \n",
    "        ns = none\n",
    "        \n",
    "    try:\n",
    "        page_id = page.id.text\n",
    "    except:\n",
    "        page_id = none\n",
    "    \n",
    "    try:\n",
    "        revision_id = page.revision.id.text\n",
    "    except:\n",
    "        revision_id = none\n",
    "    \n",
    "    try:\n",
    "        parent_id = page.parent.id.text\n",
    "    except:\n",
    "        parent_id = none\n",
    "    \n",
    "    try:\n",
    "        timestamp = page.timestamp.text\n",
    "    except:\n",
    "        timestamp = none\n",
    "        \n",
    "    try:\n",
    "        username = page.contributor.username.text\n",
    "    except:\n",
    "        username = none\n",
    "        \n",
    "    try:\n",
    "        contributor_id = page.contributor.id.text\n",
    "    except:\n",
    "        contributor_id = none\n",
    "        \n",
    "    try:\n",
    "        comment = page.comment.text\n",
    "    except:\n",
    "        comment = none\n",
    "    \n",
    "    try:\n",
    "        model = page.model.text\n",
    "    except:\n",
    "        model = none\n",
    "        \n",
    "    try:\n",
    "        page_format = page.format.text\n",
    "    except:\n",
    "        page_format = none\n",
    "        \n",
    "        \n",
    "    try:\n",
    "        text = page.format.next_sibling.next_sibling.text\n",
    "    except:\n",
    "        text = none\n",
    "        \n",
    "    data.append([title, ns, page_id, revision_id, parent_id, timestamp, username, \n",
    "            contributor_id, comment, model, page_format, text])\n",
    "data[0]"
   ]
  },
  {
   "cell_type": "code",
   "execution_count": 5,
   "metadata": {},
   "outputs": [
    {
     "data": {
      "text/html": [
       "<div>\n",
       "<style scoped>\n",
       "    .dataframe tbody tr th:only-of-type {\n",
       "        vertical-align: middle;\n",
       "    }\n",
       "\n",
       "    .dataframe tbody tr th {\n",
       "        vertical-align: top;\n",
       "    }\n",
       "\n",
       "    .dataframe thead th {\n",
       "        text-align: right;\n",
       "    }\n",
       "</style>\n",
       "<table border=\"1\" class=\"dataframe\">\n",
       "  <thead>\n",
       "    <tr style=\"text-align: right;\">\n",
       "      <th></th>\n",
       "      <th>title</th>\n",
       "      <th>ns</th>\n",
       "      <th>page_id</th>\n",
       "      <th>revision_id</th>\n",
       "      <th>parent_id</th>\n",
       "      <th>timestamp</th>\n",
       "      <th>username</th>\n",
       "      <th>contributor_id</th>\n",
       "      <th>comment</th>\n",
       "      <th>model</th>\n",
       "      <th>page_format</th>\n",
       "      <th>text</th>\n",
       "    </tr>\n",
       "  </thead>\n",
       "  <tbody>\n",
       "    <tr>\n",
       "      <th>0</th>\n",
       "      <td>Altoona and Wopsononock Railroad</td>\n",
       "      <td>0</td>\n",
       "      <td>11424669</td>\n",
       "      <td>133553189</td>\n",
       "      <td>11424669</td>\n",
       "      <td>2007-05-26T02:23:31Z</td>\n",
       "      <td>Choess</td>\n",
       "      <td>245519</td>\n",
       "      <td>redirect</td>\n",
       "      <td>wikitext</td>\n",
       "      <td>text/x-wiki</td>\n",
       "      <td>#REDIRECT [[Altoona and Beech Creek Railroad]]</td>\n",
       "    </tr>\n",
       "    <tr>\n",
       "      <th>1</th>\n",
       "      <td>User talk:87.41.23.88</td>\n",
       "      <td>3</td>\n",
       "      <td>11424671</td>\n",
       "      <td>133553219</td>\n",
       "      <td>11424669</td>\n",
       "      <td>2007-05-26T02:23:45Z</td>\n",
       "      <td>Stepp-Wulf</td>\n",
       "      <td>80874</td>\n",
       "      <td>mild warning to vandal.</td>\n",
       "      <td>wikitext</td>\n",
       "      <td>text/x-wiki</td>\n",
       "      <td>The silliness you inserted into Takeshi's Cast...</td>\n",
       "    </tr>\n",
       "    <tr>\n",
       "      <th>2</th>\n",
       "      <td>Altoona &amp; Wopsononock Railroad</td>\n",
       "      <td>0</td>\n",
       "      <td>11424672</td>\n",
       "      <td>133553226</td>\n",
       "      <td>11424669</td>\n",
       "      <td>2007-05-26T02:23:50Z</td>\n",
       "      <td>Choess</td>\n",
       "      <td>245519</td>\n",
       "      <td>redirect</td>\n",
       "      <td>wikitext</td>\n",
       "      <td>text/x-wiki</td>\n",
       "      <td>#REDIRECT [[Altoona and Beech Creek Railroad]]</td>\n",
       "    </tr>\n",
       "    <tr>\n",
       "      <th>3</th>\n",
       "      <td>Westview Village</td>\n",
       "      <td>0</td>\n",
       "      <td>11424674</td>\n",
       "      <td>133553231</td>\n",
       "      <td>11424669</td>\n",
       "      <td>2007-05-26T02:23:52Z</td>\n",
       "      <td>Johntwrl</td>\n",
       "      <td>2121913</td>\n",
       "      <td>[[WP:AES|←]]Redirected page to [[Westview Vill...</td>\n",
       "      <td>wikitext</td>\n",
       "      <td>text/x-wiki</td>\n",
       "      <td>#REDIRECT [[Westview Village (Edmonton)]]</td>\n",
       "    </tr>\n",
       "    <tr>\n",
       "      <th>4</th>\n",
       "      <td>Matysiakowie</td>\n",
       "      <td>0</td>\n",
       "      <td>11424676</td>\n",
       "      <td>133553269</td>\n",
       "      <td>11424669</td>\n",
       "      <td>2007-05-26T02:24:07Z</td>\n",
       "      <td>Piotrus</td>\n",
       "      <td>59002</td>\n",
       "      <td>stub from pl wiki</td>\n",
       "      <td>wikitext</td>\n",
       "      <td>text/x-wiki</td>\n",
       "      <td>'''Matysiakowie''' is one of the most popular ...</td>\n",
       "    </tr>\n",
       "  </tbody>\n",
       "</table>\n",
       "</div>"
      ],
      "text/plain": [
       "                              title ns   page_id revision_id parent_id  \\\n",
       "0  Altoona and Wopsononock Railroad  0  11424669   133553189  11424669   \n",
       "1             User talk:87.41.23.88  3  11424671   133553219  11424669   \n",
       "2    Altoona & Wopsononock Railroad  0  11424672   133553226  11424669   \n",
       "3                  Westview Village  0  11424674   133553231  11424669   \n",
       "4                      Matysiakowie  0  11424676   133553269  11424669   \n",
       "\n",
       "              timestamp    username contributor_id  \\\n",
       "0  2007-05-26T02:23:31Z      Choess         245519   \n",
       "1  2007-05-26T02:23:45Z  Stepp-Wulf          80874   \n",
       "2  2007-05-26T02:23:50Z      Choess         245519   \n",
       "3  2007-05-26T02:23:52Z    Johntwrl        2121913   \n",
       "4  2007-05-26T02:24:07Z     Piotrus          59002   \n",
       "\n",
       "                                             comment     model  page_format  \\\n",
       "0                                           redirect  wikitext  text/x-wiki   \n",
       "1                            mild warning to vandal.  wikitext  text/x-wiki   \n",
       "2                                           redirect  wikitext  text/x-wiki   \n",
       "3  [[WP:AES|←]]Redirected page to [[Westview Vill...  wikitext  text/x-wiki   \n",
       "4                                  stub from pl wiki  wikitext  text/x-wiki   \n",
       "\n",
       "                                                text  \n",
       "0     #REDIRECT [[Altoona and Beech Creek Railroad]]  \n",
       "1  The silliness you inserted into Takeshi's Cast...  \n",
       "2     #REDIRECT [[Altoona and Beech Creek Railroad]]  \n",
       "3          #REDIRECT [[Westview Village (Edmonton)]]  \n",
       "4  '''Matysiakowie''' is one of the most popular ...  "
      ]
     },
     "execution_count": 5,
     "metadata": {},
     "output_type": "execute_result"
    }
   ],
   "source": [
    "df = pd.DataFrame(data, columns = ['title', 'ns', 'page_id', 'revision_id', 'parent_id', 'timestamp', 'username', 'contributor_id', 'comment', 'model', 'page_format', 'text'])\n",
    "df.head()"
   ]
  },
  {
   "cell_type": "code",
   "execution_count": 8,
   "metadata": {},
   "outputs": [
    {
     "data": {
      "text/plain": [
       "(142, 12)"
      ]
     },
     "execution_count": 8,
     "metadata": {},
     "output_type": "execute_result"
    }
   ],
   "source": [
    "df.shape"
   ]
  },
  {
   "cell_type": "code",
   "execution_count": 6,
   "metadata": {},
   "outputs": [
    {
     "data": {
      "text/plain": [
       "(array([ 26.,   2., 108.,   1.,   0.,   0.,   0.,   1.,   0.,   4.]),\n",
       " array([ 0. ,  1.4,  2.8,  4.2,  5.6,  7. ,  8.4,  9.8, 11.2, 12.6, 14. ]),\n",
       " <a list of 10 Patch objects>)"
      ]
     },
     "execution_count": 6,
     "metadata": {},
     "output_type": "execute_result"
    },
    {
     "data": {
      "image/png": "[encoded data removed]",
      "text/plain": [
       "<Figure size 432x288 with 1 Axes>"
      ]
     },
     "metadata": {
      "needs_background": "light"
     },
     "output_type": "display_data"
    }
   ],
   "source": [
    "df.ns = df.ns.apply(lambda x: int(x))\n",
    "plt.hist(df.ns)"
   ]
  },
  {
   "cell_type": "code",
   "execution_count": 7,
   "metadata": {
    "scrolled": false
   },
   "outputs": [
    {
     "data": {
      "text/plain": [
       "MichaelBillington           0.654930\n",
       "Choess                      0.049296\n",
       "Skier Dude                  0.028169\n",
       "Nixeagle                    0.021127\n",
       "Fleela                      0.014085\n",
       "Doma-w                      0.014085\n",
       "Alastair Haines             0.014085\n",
       "BeckyAnne                   0.014085\n",
       "Rmky87                      0.007042\n",
       "Maias                       0.007042\n",
       "Brianahier                  0.007042\n",
       "Bearcat                     0.007042\n",
       "DagnyB                      0.007042\n",
       "Cbl62                       0.007042\n",
       "SpecialWindler              0.007042\n",
       "Eleoopy                     0.007042\n",
       "PrestonH                    0.007042\n",
       "Padraicoc                   0.007042\n",
       "Poindexter Propellerhead    0.007042\n",
       "Wombatcat                   0.007042\n",
       "Johntwrl                    0.007042\n",
       "Piotrus                     0.007042\n",
       "Aeronautico                 0.007042\n",
       "Chrishmt0423                0.007042\n",
       "Somenamethisis              0.007042\n",
       "Animum                      0.007042\n",
       "Jossi                       0.007042\n",
       "Rrburke                     0.007042\n",
       "Adam.J.W.C.                 0.007042\n",
       "Mehudson1                   0.007042\n",
       "Orestek                     0.007042\n",
       "Kuru                        0.007042\n",
       "Elembis                     0.007042\n",
       "Stepp-Wulf                  0.007042\n",
       "Dough4872                   0.007042\n",
       "Name: username, dtype: float64"
      ]
     },
     "execution_count": 7,
     "metadata": {},
     "output_type": "execute_result"
    }
   ],
   "source": [
    "df.username.value_counts(normalize = True)"
   ]
  },
  {
   "cell_type": "code",
   "execution_count": null,
   "metadata": {},
   "outputs": [],
   "source": []
  },
  {
   "cell_type": "code",
   "execution_count": null,
   "metadata": {},
   "outputs": [],
   "source": []
  }
 ],
 "metadata": {
  "kernelspec": {
   "display_name": "Python 3",
   "language": "python",
   "name": "python3"
  },
  "language_info": {
   "codemirror_mode": {
    "name": "ipython",
    "version": 3
   },
   "file_extension": ".py",
   "mimetype": "text/x-python",
   "name": "python",
   "nbconvert_exporter": "python",
   "pygments_lexer": "ipython3",
   "version": "3.7.6"
  }
 },
 "nbformat": 4,
 "nbformat_minor": 2
}
