{
 "cells": [
  {
   "cell_type": "code",
   "execution_count": 2,
   "metadata": {},
   "outputs": [],
   "source": [
    "import numpy as np\n",
    "import pandas as pd\n",
    "import sys\n",
    "from bs4 import BeautifulSoup\n",
    "import matplotlib.pyplot as plt\n"
   ]
  },
  {
   "cell_type": "markdown",
   "metadata": {},
   "source": [
    "# M-Calculation\n",
    "\n",
    "This notebook contains code for calculating the M-stat for a single article"
   ]
  },
  {
   "cell_type": "code",
   "execution_count": 3,
   "metadata": {},
   "outputs": [],
   "source": [
    "light_dump = []\n",
    "naruto = False\n",
    "with open(\"../data/raw/lightdump/es_wiki.txt\", encoding = 'utf8') as file:\n",
    "    for line in file:\n",
    "        if (line[0]!= \"^\") & naruto:\n",
    "            break\n",
    "        \n",
    "        if line.strip() == 'Naruto':\n",
    "            naruto = True\n",
    "            continue\n",
    "            \n",
    "        if naruto:\n",
    "            light_dump.append(line)"
   ]
  },
  {
   "cell_type": "code",
   "execution_count": 4,
   "metadata": {},
   "outputs": [],
   "source": [
    "light_dump.reverse()"
   ]
  },
  {
   "cell_type": "code",
   "execution_count": 5,
   "metadata": {},
   "outputs": [
    {
     "data": {
      "text/plain": [
       "[['2004-04-03T13:42:17Z', '0', '1', 'Sabbut'],\n",
       " ['2004-04-03T14:09:31Z', '0', '2', 'Sabbut'],\n",
       " ['2004-04-11T23:07:42Z', '0', '3', 'Moriel'],\n",
       " ['2004-05-23T22:28:21Z', '0', '4', 'Yas'],\n",
       " ['2004-07-24T23:14:58Z', '0', '5', 'Sabbut']]"
      ]
     },
     "execution_count": 5,
     "metadata": {},
     "output_type": "execute_result"
    }
   ],
   "source": [
    "light_dump = [x[4:-1].split(' ') for x in light_dump]\n",
    "light_dump[:5]"
   ]
  },
  {
   "cell_type": "code",
   "execution_count": 6,
   "metadata": {},
   "outputs": [
    {
     "data": {
      "text/html": [
       "<div>\n",
       "<style scoped>\n",
       "    .dataframe tbody tr th:only-of-type {\n",
       "        vertical-align: middle;\n",
       "    }\n",
       "\n",
       "    .dataframe tbody tr th {\n",
       "        vertical-align: top;\n",
       "    }\n",
       "\n",
       "    .dataframe thead th {\n",
       "        text-align: right;\n",
       "    }\n",
       "</style>\n",
       "<table border=\"1\" class=\"dataframe\">\n",
       "  <thead>\n",
       "    <tr style=\"text-align: right;\">\n",
       "      <th></th>\n",
       "      <th>time</th>\n",
       "      <th>revert</th>\n",
       "      <th>index</th>\n",
       "      <th>username</th>\n",
       "      <th>num_edits</th>\n",
       "    </tr>\n",
       "  </thead>\n",
       "  <tbody>\n",
       "    <tr>\n",
       "      <th>0</th>\n",
       "      <td>2004-04-03T13:42:17Z</td>\n",
       "      <td>0</td>\n",
       "      <td>1</td>\n",
       "      <td>Sabbut</td>\n",
       "      <td>18</td>\n",
       "    </tr>\n",
       "    <tr>\n",
       "      <th>1</th>\n",
       "      <td>2004-04-03T14:09:31Z</td>\n",
       "      <td>0</td>\n",
       "      <td>2</td>\n",
       "      <td>Sabbut</td>\n",
       "      <td>18</td>\n",
       "    </tr>\n",
       "    <tr>\n",
       "      <th>2</th>\n",
       "      <td>2004-04-11T23:07:42Z</td>\n",
       "      <td>0</td>\n",
       "      <td>3</td>\n",
       "      <td>Moriel</td>\n",
       "      <td>1</td>\n",
       "    </tr>\n",
       "    <tr>\n",
       "      <th>3</th>\n",
       "      <td>2004-05-23T22:28:21Z</td>\n",
       "      <td>0</td>\n",
       "      <td>4</td>\n",
       "      <td>Yas</td>\n",
       "      <td>1</td>\n",
       "    </tr>\n",
       "    <tr>\n",
       "      <th>4</th>\n",
       "      <td>2004-07-24T23:14:58Z</td>\n",
       "      <td>0</td>\n",
       "      <td>5</td>\n",
       "      <td>Sabbut</td>\n",
       "      <td>18</td>\n",
       "    </tr>\n",
       "  </tbody>\n",
       "</table>\n",
       "</div>"
      ],
      "text/plain": [
       "                   time revert index username  num_edits\n",
       "0  2004-04-03T13:42:17Z      0     1   Sabbut         18\n",
       "1  2004-04-03T14:09:31Z      0     2   Sabbut         18\n",
       "2  2004-04-11T23:07:42Z      0     3   Moriel          1\n",
       "3  2004-05-23T22:28:21Z      0     4      Yas          1\n",
       "4  2004-07-24T23:14:58Z      0     5   Sabbut         18"
      ]
     },
     "execution_count": 6,
     "metadata": {},
     "output_type": "execute_result"
    }
   ],
   "source": [
    "df = pd.DataFrame(data = light_dump, columns = ['time', 'revert', 'index', 'username'])\n",
    "# num of edits\n",
    "num_edits = df.username.value_counts()\n",
    "df['num_edits'] = df.username.apply(lambda x: num_edits[x])\n",
    "\n",
    "df.head()"
   ]
  },
  {
   "cell_type": "code",
   "execution_count": 7,
   "metadata": {},
   "outputs": [],
   "source": [
    "# find revert pairs\n",
    "revert_pairs = []\n",
    "revert_users = []\n",
    "for idx, row in df.iterrows():\n",
    "    if row['revert']=='1':\n",
    "        one = row['username']\n",
    "        org = df.iloc[int(row['index'])-1]\n",
    "        two = org['username']\n",
    "        revert_pairs.append((one, two))\n",
    "        if one not in revert_users:\n",
    "            revert_users.append(one)\n",
    "        if two not in revert_users:\n",
    "            revert_users.append(two)"
   ]
  },
  {
   "cell_type": "code",
   "execution_count": 8,
   "metadata": {},
   "outputs": [
    {
     "data": {
      "text/plain": [
       "12"
      ]
     },
     "execution_count": 8,
     "metadata": {},
     "output_type": "execute_result"
    }
   ],
   "source": [
    "#find mutual reverts\n",
    "mutual_rev_users = []\n",
    "for pair in revert_pairs:\n",
    "    one = pair[0]\n",
    "    two = pair[1]\n",
    "    \n",
    "    #mutual revert found\n",
    "    if (two, one) in revert_pairs:\n",
    "        mutual_rev_users.append(two)\n",
    "        mutual_rev_users.append(one)\n",
    "\n",
    "#remove duplicates, calculate num\n",
    "E = len(list(set(mutual_rev_users)))\n",
    "E"
   ]
  },
  {
   "cell_type": "code",
   "execution_count": 9,
   "metadata": {},
   "outputs": [
    {
     "data": {
      "text/plain": [
       "56100"
      ]
     },
     "execution_count": 9,
     "metadata": {},
     "output_type": "execute_result"
    }
   ],
   "source": [
    "#calculate M\n",
    "M = 0\n",
    "num_edits = df.username.value_counts()\n",
    "revert_pairs = list(set(revert_pairs))\n",
    "for pair in revert_pairs:\n",
    "    one = pair[0]\n",
    "    two = pair[1]\n",
    "    if num_edits[one] < num_edits[two]:\n",
    "        N = num_edits[one]\n",
    "    else:\n",
    "        N = num_edits[two]\n",
    "\n",
    "    M += N\n",
    "\n",
    "M *= E\n",
    "M"
   ]
  }
 ],
 "metadata": {
  "kernelspec": {
   "display_name": "Python 3",
   "language": "python",
   "name": "python3"
  },
  "language_info": {
   "codemirror_mode": {
    "name": "ipython",
    "version": 3
   },
   "file_extension": ".py",
   "mimetype": "text/x-python",
   "name": "python",
   "nbconvert_exporter": "python",
   "pygments_lexer": "ipython3",
   "version": "3.7.6"
  }
 },
 "nbformat": 4,
 "nbformat_minor": 4
}
