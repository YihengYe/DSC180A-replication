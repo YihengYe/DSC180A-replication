{
 "cells": [
  {
   "cell_type": "code",
   "execution_count": 1,
   "metadata": {},
   "outputs": [],
   "source": [
    "import os\n",
    "import gc\n",
    "import requests\n",
    "from bs4 import BeautifulSoup\n",
    "import pandas as pd\n",
    "import zipfile\n",
    "import re\n",
    "import time"
   ]
  },
  {
   "cell_type": "code",
   "execution_count": 2,
   "metadata": {},
   "outputs": [],
   "source": [
    "from etl import *"
   ]
  },
  {
   "cell_type": "code",
   "execution_count": 3,
   "metadata": {},
   "outputs": [
    {
     "name": "stdout",
     "output_type": "stream",
     "text": [
      "creat 5-million-row table 1\n",
      "creat 5-million-row table 2\n",
      "creat 5-million-row table 3\n",
      "creat 5-million-row table 4\n",
      "creat 5-million-row table 5\n",
      "creat 5-million-row table 6\n",
      "creat 5-million-row table 7\n",
      "creat 5-million-row table 8\n",
      "creat 5-million-row table 9\n",
      "creat 5-million-row table 10\n",
      "creat 5-million-row table 11\n",
      "creat 5-million-row table 12\n",
      "creat 5-million-row table 13\n",
      "creat 5-million-row table 14\n",
      "creat 5-million-row table 15\n",
      "creat 5-million-row table 16\n",
      "creat 5-million-row table 17\n",
      "creat 5-million-row table 18\n",
      "creat 5-million-row table 19\n",
      "creat 5-million-row table 20\n",
      "creat 5-million-row table 21\n",
      "creat 5-million-row table 22\n",
      "creat 5-million-row table 23\n",
      "creat 5-million-row table 24\n",
      "creat 5-million-row table 25\n",
      "creat 5-million-row table 26\n",
      "creat 5-million-row table 27\n",
      "creat 5-million-row table 28\n",
      "creat 5-million-row table 29\n",
      "creat 5-million-row table 30\n",
      "creat 5-million-row table 31\n",
      "creat 5-million-row table 32\n",
      "creat 5-million-row table 33\n",
      "creat 5-million-row table 34\n",
      "creat 5-million-row table 35\n",
      "creat 5-million-row table 36\n",
      "creat 5-million-row table 37\n",
      "creat 5-million-row table 38\n",
      "creat 5-million-row table 39\n",
      "creat 5-million-row table 40\n",
      "creat 5-million-row table 41\n",
      "creat 5-million-row table 42\n",
      "creat 5-million-row table 43\n",
      "creat 5-million-row table 44\n"
     ]
    }
   ],
   "source": [
    "ld_to_csv('data/unzipped')"
   ]
  },
  {
   "cell_type": "code",
   "execution_count": 3,
   "metadata": {},
   "outputs": [],
   "source": [
    "def add_dicts(dict1, dict2):\n",
    "    result={}\n",
    "    if len(dict1.keys())==0:\n",
    "        return dict2\n",
    "    elif len(dict2.keys())==0:\n",
    "        return dict1\n",
    "    else:\n",
    "        for key in dict1.keys():\n",
    "            if key in dict2.keys():\n",
    "                result[key]=dict1[key]+dict2[key]\n",
    "            else:\n",
    "                result[key]=dict1[key]\n",
    "        for key2 in dict2.keys():\n",
    "            if key2 not in result.keys():\n",
    "                result[key2]=dict2[key2]\n",
    "        return result\n",
    "                "
   ]
  },
  {
   "cell_type": "code",
   "execution_count": 4,
   "metadata": {},
   "outputs": [],
   "source": [
    "def get_csvs_route(road):\n",
    "    result=[]\n",
    "    for filename in os.listdir(road):\n",
    "        fileroute=os.path.join(road,filename)\n",
    "        result.append(fileroute)\n",
    "    return result"
   ]
  },
  {
   "cell_type": "code",
   "execution_count": 5,
   "metadata": {},
   "outputs": [],
   "source": [
    "def bots_raw_dict(road):\n",
    "    total_freq={}\n",
    "    revert_freq={}\n",
    "    for csvname in os.listdir(road):\n",
    "        csvroute=os.path.join(road, csvname)\n",
    "        csvdict={}\n",
    "        df=pd.read_csv(csvroute)\n",
    "        df['user']=df['user'].str.lower()\n",
    "        df['revert']=df['revert'].astype('int')\n",
    "        dfrevert=df[df['revert']==1]\n",
    "        bots=df[df['user'].str.contains('bot')]\n",
    "        reverts=bots[bots['revert']==1]\n",
    "        thef=bots['user'].value_counts().to_dict()\n",
    "        ther=reverts['user'].value_counts().to_dict()\n",
    "        total_freq=add_dicts(total_freq, thef)\n",
    "        revert_freq=add_dicts(revert_freq, ther)\n",
    "        print('finish dict csv', csvname, len(total_freq))\n",
    "        del thef, ther\n",
    "        del [[df, bots, reverts, dfrevert]]\n",
    "        gc.collect()\n",
    "        df=pd.DataFrame()\n",
    "        bots=pd.DataFrame()\n",
    "        reverts=pd.DataFrame()\n",
    "        thef={}\n",
    "        ther={}\n",
    "        dfrevert=pd.DataFrame()\n",
    "    return total_freq, revert_freq"
   ]
  },
  {
   "cell_type": "code",
   "execution_count": 5,
   "metadata": {},
   "outputs": [
    {
     "name": "stdout",
     "output_type": "stream",
     "text": [
      "finish dict csv en_wiki_13.csv 781\n",
      "finish dict csv en_wiki_14.csv 1037\n",
      "finish dict csv en_wiki_21.csv 1230\n",
      "finish dict csv en_wiki_26.csv 1425\n",
      "finish dict csv en_wiki_28.csv 1608\n",
      "finish dict csv en_wiki_1.csv 1761\n",
      "finish dict csv en_wiki_42.csv 1946\n",
      "finish dict csv en_wiki_39.csv 2090\n",
      "finish dict csv en_wiki_6.csv 2212\n",
      "finish dict csv en_wiki_37.csv 2311\n",
      "finish dict csv en_wiki_8.csv 2432\n",
      "finish dict csv en_wiki_30.csv 2548\n",
      "finish dict csv en_wiki_29.csv 2645\n",
      "finish dict csv en_wiki_27.csv 2713\n",
      "finish dict csv en_wiki_20.csv 2811\n",
      "finish dict csv en_wiki_15.csv 2912\n",
      "finish dict csv en_wiki_12.csv 2997\n",
      "finish dict csv en_wiki_31.csv 3091\n",
      "finish dict csv en_wiki_36.csv 3174\n",
      "finish dict csv en_wiki_9.csv 3251\n",
      "finish dict csv en_wiki_38.csv 3361\n",
      "finish dict csv en_wiki_7.csv 3429\n",
      "finish dict csv en_wiki_44.csv 3504\n",
      "finish dict csv en_wiki_43.csv 3598\n",
      "finish dict csv en_wiki_35.csv 3652\n",
      "finish dict csv en_wiki_32.csv 3710\n",
      "finish dict csv en_wiki_3.csv 3773\n",
      "finish dict csv en_wiki_40.csv 3839\n",
      "finish dict csv en_wiki_4.csv 3920\n",
      "finish dict csv en_wiki_23.csv 3980\n",
      "finish dict csv en_wiki_24.csv 4046\n",
      "finish dict csv en_wiki_11.csv 4114\n",
      "finish dict csv en_wiki_16.csv 4179\n",
      "finish dict csv en_wiki_18.csv 4245\n",
      "finish dict csv en_wiki_5.csv 4303\n",
      "finish dict csv en_wiki_2.csv 4380\n",
      "finish dict csv en_wiki_41.csv 4448\n",
      "finish dict csv en_wiki_33.csv 4510\n",
      "finish dict csv en_wiki_34.csv 4578\n",
      "finish dict csv en_wiki_19.csv 4641\n",
      "finish dict csv en_wiki_17.csv 4707\n",
      "finish dict csv en_wiki_10.csv 4762\n",
      "finish dict csv en_wiki_25.csv 4807\n",
      "finish dict csv en_wiki_22.csv 4873\n"
     ]
    }
   ],
   "source": [
    "total_freq, revert_freq=bots_raw_dict('data/csvs/en_wiki')"
   ]
  },
  {
   "cell_type": "code",
   "execution_count": 6,
   "metadata": {},
   "outputs": [],
   "source": [
    "total_f=pd.Series(total_freq)"
   ]
  },
  {
   "cell_type": "code",
   "execution_count": 7,
   "metadata": {},
   "outputs": [
    {
     "data": {
      "text/plain": [
       "count    4.873000e+03\n",
       "mean     3.389500e+03\n",
       "std      4.717530e+04\n",
       "min      1.000000e+00\n",
       "25%      1.000000e+00\n",
       "50%      3.000000e+00\n",
       "75%      1.100000e+01\n",
       "max      2.695952e+06\n",
       "dtype: float64"
      ]
     },
     "execution_count": 7,
     "metadata": {},
     "output_type": "execute_result"
    }
   ],
   "source": [
    "total_f.describe()"
   ]
  },
  {
   "cell_type": "code",
   "execution_count": 14,
   "metadata": {},
   "outputs": [
    {
     "data": {
      "text/plain": [
       "smackbot                   2695952\n",
       "cydebot                     763366\n",
       "cluebot                     644069\n",
       "lightbot                    638751\n",
       "russbot                     606590\n",
       "the_anomebot2               536912\n",
       "thijs!bot                   418576\n",
       "alaibot                     379167\n",
       "full-date_unlinking_bot     322808\n",
       "bluebot                     320537\n",
       "siebot                      291204\n",
       "botijo                      289988\n",
       "yurikbot                    272996\n",
       "xqbot                       261936\n",
       "cmdrobot                    234560\n",
       "erik9bot                    233001\n",
       "txikibot                    223028\n",
       "flabot                      212084\n",
       "dumzibot                    208023\n",
       "volkovbot                   207434\n",
       "dtype: int64"
      ]
     },
     "execution_count": 14,
     "metadata": {},
     "output_type": "execute_result"
    }
   ],
   "source": [
    "total_f.sort_values(ascending=False).head(20)"
   ]
  },
  {
   "cell_type": "code",
   "execution_count": 12,
   "metadata": {},
   "outputs": [],
   "source": [
    "total_r=pd.Series(revert_freq)"
   ]
  },
  {
   "cell_type": "code",
   "execution_count": 13,
   "metadata": {},
   "outputs": [
    {
     "data": {
      "text/plain": [
       "cluebot                643853\n",
       "antivandalbot          141364\n",
       "voabot_ii              134472\n",
       "xlinkbot               103205\n",
       "martinbot              100789\n",
       "tawkerbot2              69941\n",
       "pseudobot               48919\n",
       "russbot                 25174\n",
       "xqbot                   19643\n",
       "antispambot             19338\n",
       "darknessbot             13990\n",
       "tawkerbot4              13533\n",
       "soxbot_iii              12911\n",
       "cydebot                  9175\n",
       "dashbot                  8093\n",
       "countervandalismbot      7379\n",
       "タチコマ_robot               5775\n",
       "dumbbot                  4776\n",
       "scepbot                  4301\n",
       "robotman1974             2733\n",
       "dtype: int64"
      ]
     },
     "execution_count": 13,
     "metadata": {},
     "output_type": "execute_result"
    }
   ],
   "source": [
    "total_r.sort_values(ascending=False).head(20)"
   ]
  },
  {
   "cell_type": "code",
   "execution_count": 6,
   "metadata": {},
   "outputs": [],
   "source": [
    "def calculateM(df):\n",
    "    # find revert pairs\n",
    "    revert_pairs = []\n",
    "    revert_users = []\n",
    "    ones=df[df['revert']==1]\n",
    "    twodf=df[df['revert']==0]\n",
    "    for oness in ones['user'].unique():\n",
    "        masker=ones[ones['user']==oness]\n",
    "        for indi in masker['version'].values:\n",
    "            one = oness\n",
    "            the_version=indi+1\n",
    "            alti=the_version-1\n",
    "            try:\n",
    "                twocolumn=twodf[twodf['version']==the_version]\n",
    "                two=twocolumn['user'].values[0]\n",
    "            except Exception as e:\n",
    "                twocolumn=twodf[twodf['version']==alti]\n",
    "                two=twocolumn['user'].values[0]\n",
    "            revert_pairs.append((one, two))\n",
    "            if one not in revert_users:\n",
    "                revert_users.append(one)\n",
    "            if two not in revert_users:\n",
    "                revert_users.append(two)\n",
    "    #find mutual reverts\n",
    "    mutual_rev_users = []\n",
    "    for pair in revert_pairs:\n",
    "        one = pair[0]\n",
    "        two = pair[1]\n",
    "    \n",
    "        #mutual revert found\n",
    "        if (two, one) in revert_pairs:\n",
    "            mutual_rev_users.append(two)\n",
    "            mutual_rev_users.append(one)\n",
    "\n",
    "    #remove duplicates, calculate num\n",
    "    E = len(list(set(mutual_rev_users)))\n",
    "    #calculate M\n",
    "    M = 0\n",
    "    num_edits = df['user'].value_counts()\n",
    "    revert_pairs = list(set(revert_pairs))\n",
    "    for pair in revert_pairs:\n",
    "        one = pair[0]\n",
    "        two = pair[1]\n",
    "        if num_edits[one] < num_edits[two]:\n",
    "            N = num_edits[one]\n",
    "        else:\n",
    "            N = num_edits[two]\n",
    "\n",
    "        M += N\n",
    "\n",
    "    M *= E\n",
    "    return M"
   ]
  },
  {
   "cell_type": "code",
   "execution_count": 7,
   "metadata": {},
   "outputs": [],
   "source": [
    "def better_calculate_M(road):\n",
    "    Ms={}\n",
    "    for csvname in os.listdir(road):\n",
    "        st=time.time()\n",
    "        csvroute=os.path.join(road, csvname)\n",
    "        csvdict={}\n",
    "        df=pd.read_csv(csvroute)\n",
    "        df['revert']=df['revert'].astype('int')\n",
    "        df['version']=df['version'].astype('int')\n",
    "        first_clear=df.groupby('article')['revert'].sum()\n",
    "        fs=first_clear[first_clear<2].to_dict()\n",
    "        for k in fs:\n",
    "            fs[k]=0\n",
    "        Ms.update(fs)\n",
    "        need_calculate=first_clear[first_clear>1].index\n",
    "        for i in need_calculate:\n",
    "            partdf=df.loc[df['article']==i, :]\n",
    "            M=calculateM(partdf)\n",
    "            Ms[i]=M\n",
    "            del [[partdf]]\n",
    "            gc.collect()\n",
    "            partdf=pd.DataFrame()\n",
    "        totalt=time.time()-st\n",
    "        print('complete M calculation on', csvname, 'at the time used in seconds', totalt)\n",
    "        del [[df, first_clear, need_calculate]]\n",
    "        gc.collect()\n",
    "        df=pd.DataFrame()\n",
    "        first_clear=pd.Series()\n",
    "    return Ms\n",
    "    "
   ]
  },
  {
   "cell_type": "code",
   "execution_count": 8,
   "metadata": {},
   "outputs": [],
   "source": [
    "import warnings\n",
    "warnings.filterwarnings('error')"
   ]
  },
  {
   "cell_type": "code",
   "execution_count": 9,
   "metadata": {},
   "outputs": [
    {
     "data": {
      "text/plain": [
       "26897"
      ]
     },
     "execution_count": 9,
     "metadata": {},
     "output_type": "execute_result"
    }
   ],
   "source": [
    "Ms={}\n",
    "df=pd.read_csv('data/csvs/en_wiki/en_wiki_1.csv')\n",
    "first_clear=df.groupby('article')['revert'].sum()\n",
    "fs=first_clear[first_clear<2].to_dict()\n",
    "for k in fs:\n",
    "    fs[k]=0\n",
    "Ms.update(fs)\n",
    "need_calculate=first_clear[first_clear>1].index\n",
    "len(need_calculate)"
   ]
  },
  {
   "cell_type": "code",
   "execution_count": 13,
   "metadata": {},
   "outputs": [
    {
     "ename": "KeyboardInterrupt",
     "evalue": "",
     "output_type": "error",
     "traceback": [
      "\u001b[0;31m\u001b[0m",
      "\u001b[0;31mKeyboardInterrupt\u001b[0mTraceback (most recent call last)",
      "\u001b[0;32m<ipython-input-13-91c6631152ab>\u001b[0m in \u001b[0;36m<module>\u001b[0;34m\u001b[0m\n\u001b[0;32m----> 1\u001b[0;31m \u001b[0mMs\u001b[0m\u001b[0;34m=\u001b[0m\u001b[0mbetter_calculate_M\u001b[0m\u001b[0;34m(\u001b[0m\u001b[0;34m'data/csvs/en_wiki'\u001b[0m\u001b[0;34m)\u001b[0m\u001b[0;34m\u001b[0m\u001b[0;34m\u001b[0m\u001b[0m\n\u001b[0m",
      "\u001b[0;32m<ipython-input-12-18361939a548>\u001b[0m in \u001b[0;36mbetter_calculate_M\u001b[0;34m(road)\u001b[0m\n\u001b[1;32m     12\u001b[0m         \u001b[0mneed_calculate\u001b[0m\u001b[0;34m=\u001b[0m\u001b[0mfirst_clear\u001b[0m\u001b[0;34m[\u001b[0m\u001b[0mfirst_clear\u001b[0m\u001b[0;34m>\u001b[0m\u001b[0;36m0\u001b[0m\u001b[0;34m]\u001b[0m\u001b[0;34m.\u001b[0m\u001b[0mindex\u001b[0m\u001b[0;34m\u001b[0m\u001b[0;34m\u001b[0m\u001b[0m\n\u001b[1;32m     13\u001b[0m         \u001b[0;32mfor\u001b[0m \u001b[0mi\u001b[0m \u001b[0;32min\u001b[0m \u001b[0mneed_calculate\u001b[0m\u001b[0;34m:\u001b[0m\u001b[0;34m\u001b[0m\u001b[0;34m\u001b[0m\u001b[0m\n\u001b[0;32m---> 14\u001b[0;31m             \u001b[0mpartdf\u001b[0m\u001b[0;34m=\u001b[0m\u001b[0mdf\u001b[0m\u001b[0;34m.\u001b[0m\u001b[0mloc\u001b[0m\u001b[0;34m[\u001b[0m\u001b[0mdf\u001b[0m\u001b[0;34m[\u001b[0m\u001b[0;34m'article'\u001b[0m\u001b[0;34m]\u001b[0m\u001b[0;34m==\u001b[0m\u001b[0mi\u001b[0m\u001b[0;34m,\u001b[0m \u001b[0;34m:\u001b[0m\u001b[0;34m]\u001b[0m\u001b[0;34m\u001b[0m\u001b[0;34m\u001b[0m\u001b[0m\n\u001b[0m\u001b[1;32m     15\u001b[0m             \u001b[0mM\u001b[0m\u001b[0;34m=\u001b[0m\u001b[0mcalculateM\u001b[0m\u001b[0;34m(\u001b[0m\u001b[0mpartdf\u001b[0m\u001b[0;34m)\u001b[0m\u001b[0;34m\u001b[0m\u001b[0;34m\u001b[0m\u001b[0m\n\u001b[1;32m     16\u001b[0m             \u001b[0mMs\u001b[0m\u001b[0;34m[\u001b[0m\u001b[0mi\u001b[0m\u001b[0;34m]\u001b[0m\u001b[0;34m=\u001b[0m\u001b[0mM\u001b[0m\u001b[0;34m\u001b[0m\u001b[0;34m\u001b[0m\u001b[0m\n",
      "\u001b[0;32m/opt/conda/lib/python3.7/site-packages/pandas/core/ops/common.py\u001b[0m in \u001b[0;36mnew_method\u001b[0;34m(self, other)\u001b[0m\n\u001b[1;32m     63\u001b[0m         \u001b[0mother\u001b[0m \u001b[0;34m=\u001b[0m \u001b[0mitem_from_zerodim\u001b[0m\u001b[0;34m(\u001b[0m\u001b[0mother\u001b[0m\u001b[0;34m)\u001b[0m\u001b[0;34m\u001b[0m\u001b[0;34m\u001b[0m\u001b[0m\n\u001b[1;32m     64\u001b[0m \u001b[0;34m\u001b[0m\u001b[0m\n\u001b[0;32m---> 65\u001b[0;31m         \u001b[0;32mreturn\u001b[0m \u001b[0mmethod\u001b[0m\u001b[0;34m(\u001b[0m\u001b[0mself\u001b[0m\u001b[0;34m,\u001b[0m \u001b[0mother\u001b[0m\u001b[0;34m)\u001b[0m\u001b[0;34m\u001b[0m\u001b[0;34m\u001b[0m\u001b[0m\n\u001b[0m\u001b[1;32m     66\u001b[0m \u001b[0;34m\u001b[0m\u001b[0m\n\u001b[1;32m     67\u001b[0m     \u001b[0;32mreturn\u001b[0m \u001b[0mnew_method\u001b[0m\u001b[0;34m\u001b[0m\u001b[0;34m\u001b[0m\u001b[0m\n",
      "\u001b[0;32m/opt/conda/lib/python3.7/site-packages/pandas/core/ops/__init__.py\u001b[0m in \u001b[0;36mwrapper\u001b[0;34m(self, other)\u001b[0m\n\u001b[1;32m    368\u001b[0m         \u001b[0mrvalues\u001b[0m \u001b[0;34m=\u001b[0m \u001b[0mextract_array\u001b[0m\u001b[0;34m(\u001b[0m\u001b[0mother\u001b[0m\u001b[0;34m,\u001b[0m \u001b[0mextract_numpy\u001b[0m\u001b[0;34m=\u001b[0m\u001b[0;32mTrue\u001b[0m\u001b[0;34m)\u001b[0m\u001b[0;34m\u001b[0m\u001b[0;34m\u001b[0m\u001b[0m\n\u001b[1;32m    369\u001b[0m \u001b[0;34m\u001b[0m\u001b[0m\n\u001b[0;32m--> 370\u001b[0;31m         \u001b[0mres_values\u001b[0m \u001b[0;34m=\u001b[0m \u001b[0mcomparison_op\u001b[0m\u001b[0;34m(\u001b[0m\u001b[0mlvalues\u001b[0m\u001b[0;34m,\u001b[0m \u001b[0mrvalues\u001b[0m\u001b[0;34m,\u001b[0m \u001b[0mop\u001b[0m\u001b[0;34m)\u001b[0m\u001b[0;34m\u001b[0m\u001b[0;34m\u001b[0m\u001b[0m\n\u001b[0m\u001b[1;32m    371\u001b[0m \u001b[0;34m\u001b[0m\u001b[0m\n\u001b[1;32m    372\u001b[0m         \u001b[0;32mreturn\u001b[0m \u001b[0mself\u001b[0m\u001b[0;34m.\u001b[0m\u001b[0m_construct_result\u001b[0m\u001b[0;34m(\u001b[0m\u001b[0mres_values\u001b[0m\u001b[0;34m,\u001b[0m \u001b[0mname\u001b[0m\u001b[0;34m=\u001b[0m\u001b[0mres_name\u001b[0m\u001b[0;34m)\u001b[0m\u001b[0;34m\u001b[0m\u001b[0;34m\u001b[0m\u001b[0m\n",
      "\u001b[0;32m/opt/conda/lib/python3.7/site-packages/pandas/core/ops/array_ops.py\u001b[0m in \u001b[0;36mcomparison_op\u001b[0;34m(left, right, op)\u001b[0m\n\u001b[1;32m    242\u001b[0m \u001b[0;34m\u001b[0m\u001b[0m\n\u001b[1;32m    243\u001b[0m     \u001b[0;32melif\u001b[0m \u001b[0mis_object_dtype\u001b[0m\u001b[0;34m(\u001b[0m\u001b[0mlvalues\u001b[0m\u001b[0;34m.\u001b[0m\u001b[0mdtype\u001b[0m\u001b[0;34m)\u001b[0m\u001b[0;34m:\u001b[0m\u001b[0;34m\u001b[0m\u001b[0;34m\u001b[0m\u001b[0m\n\u001b[0;32m--> 244\u001b[0;31m         \u001b[0mres_values\u001b[0m \u001b[0;34m=\u001b[0m \u001b[0mcomp_method_OBJECT_ARRAY\u001b[0m\u001b[0;34m(\u001b[0m\u001b[0mop\u001b[0m\u001b[0;34m,\u001b[0m \u001b[0mlvalues\u001b[0m\u001b[0;34m,\u001b[0m \u001b[0mrvalues\u001b[0m\u001b[0;34m)\u001b[0m\u001b[0;34m\u001b[0m\u001b[0;34m\u001b[0m\u001b[0m\n\u001b[0m\u001b[1;32m    245\u001b[0m \u001b[0;34m\u001b[0m\u001b[0m\n\u001b[1;32m    246\u001b[0m     \u001b[0;32melse\u001b[0m\u001b[0;34m:\u001b[0m\u001b[0;34m\u001b[0m\u001b[0;34m\u001b[0m\u001b[0m\n",
      "\u001b[0;32m/opt/conda/lib/python3.7/site-packages/pandas/core/ops/array_ops.py\u001b[0m in \u001b[0;36mcomp_method_OBJECT_ARRAY\u001b[0;34m(op, x, y)\u001b[0m\n\u001b[1;32m     54\u001b[0m         \u001b[0mresult\u001b[0m \u001b[0;34m=\u001b[0m \u001b[0mlibops\u001b[0m\u001b[0;34m.\u001b[0m\u001b[0mvec_compare\u001b[0m\u001b[0;34m(\u001b[0m\u001b[0mx\u001b[0m\u001b[0;34m.\u001b[0m\u001b[0mravel\u001b[0m\u001b[0;34m(\u001b[0m\u001b[0;34m)\u001b[0m\u001b[0;34m,\u001b[0m \u001b[0my\u001b[0m\u001b[0;34m.\u001b[0m\u001b[0mravel\u001b[0m\u001b[0;34m(\u001b[0m\u001b[0;34m)\u001b[0m\u001b[0;34m,\u001b[0m \u001b[0mop\u001b[0m\u001b[0;34m)\u001b[0m\u001b[0;34m\u001b[0m\u001b[0;34m\u001b[0m\u001b[0m\n\u001b[1;32m     55\u001b[0m     \u001b[0;32melse\u001b[0m\u001b[0;34m:\u001b[0m\u001b[0;34m\u001b[0m\u001b[0;34m\u001b[0m\u001b[0m\n\u001b[0;32m---> 56\u001b[0;31m         \u001b[0mresult\u001b[0m \u001b[0;34m=\u001b[0m \u001b[0mlibops\u001b[0m\u001b[0;34m.\u001b[0m\u001b[0mscalar_compare\u001b[0m\u001b[0;34m(\u001b[0m\u001b[0mx\u001b[0m\u001b[0;34m.\u001b[0m\u001b[0mravel\u001b[0m\u001b[0;34m(\u001b[0m\u001b[0;34m)\u001b[0m\u001b[0;34m,\u001b[0m \u001b[0my\u001b[0m\u001b[0;34m,\u001b[0m \u001b[0mop\u001b[0m\u001b[0;34m)\u001b[0m\u001b[0;34m\u001b[0m\u001b[0;34m\u001b[0m\u001b[0m\n\u001b[0m\u001b[1;32m     57\u001b[0m     \u001b[0;32mreturn\u001b[0m \u001b[0mresult\u001b[0m\u001b[0;34m.\u001b[0m\u001b[0mreshape\u001b[0m\u001b[0;34m(\u001b[0m\u001b[0mx\u001b[0m\u001b[0;34m.\u001b[0m\u001b[0mshape\u001b[0m\u001b[0;34m)\u001b[0m\u001b[0;34m\u001b[0m\u001b[0;34m\u001b[0m\u001b[0m\n\u001b[1;32m     58\u001b[0m \u001b[0;34m\u001b[0m\u001b[0m\n",
      "\u001b[0;31mKeyboardInterrupt\u001b[0m: "
     ]
    }
   ],
   "source": [
    "Ms=better_calculate_M('data/csvs/en_wiki')"
   ]
  },
  {
   "cell_type": "code",
   "execution_count": null,
   "metadata": {},
   "outputs": [],
   "source": []
  }
 ],
 "metadata": {
  "kernelspec": {
   "display_name": "Python 3",
   "language": "python",
   "name": "python3"
  },
  "language_info": {
   "codemirror_mode": {
    "name": "ipython",
    "version": 3
   },
   "file_extension": ".py",
   "mimetype": "text/x-python",
   "name": "python",
   "nbconvert_exporter": "python",
   "pygments_lexer": "ipython3",
   "version": "3.7.6"
  }
 },
 "nbformat": 4,
 "nbformat_minor": 4
}
